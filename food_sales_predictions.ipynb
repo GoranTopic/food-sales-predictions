{
  "nbformat": 4,
  "nbformat_minor": 0,
  "metadata": {
    "colab": {
      "name": "food-sales-predictions.ipynb",
      "provenance": [],
      "authorship_tag": "ABX9TyOylh67rRaN3o1HZDZNA+9b",
      "include_colab_link": true
    },
    "kernelspec": {
      "name": "python3",
      "display_name": "Python 3"
    },
    "language_info": {
      "name": "python"
    },
    "accelerator": "GPU"
  },
  "cells": [
    {
      "cell_type": "markdown",
      "metadata": {
        "id": "view-in-github",
        "colab_type": "text"
      },
      "source": [
        "<a href=\"https://colab.research.google.com/github/GoranTopic/food-sales-predictions/blob/master/food_sales_predictions.ipynb\" target=\"_parent\"><img src=\"https://colab.research.google.com/assets/colab-badge.svg\" alt=\"Open In Colab\"/></a>"
      ]
    },
    {
      "cell_type": "code",
      "source": [
        "# local read\n",
        "import pandas as pd\n",
        "import seaborn as sn\n",
        "import matplotlib.pyplot as plt\n",
        "plt.style.use('seaborn')\n",
        "sales_df = pd.read_csv(\"./Data/sales_predictions.csv\")\n",
        "sales_df.head()"
      ],
      "metadata": {
        "id": "E8yGGoNRQpxl",
        "outputId": "3dc44cbf-3cef-40a9-8a0e-267f80c43eb5",
        "colab": {
          "base_uri": "https://localhost:8080/",
          "height": 313
        }
      },
      "execution_count": 2,
      "outputs": [
        {
          "output_type": "execute_result",
          "data": {
            "text/plain": [
              "  Item_Identifier  Item_Weight Item_Fat_Content  Item_Visibility  \\\n",
              "0           FDA15         9.30          Low Fat         0.016047   \n",
              "1           DRC01         5.92          Regular         0.019278   \n",
              "2           FDN15        17.50          Low Fat         0.016760   \n",
              "3           FDX07        19.20          Regular         0.000000   \n",
              "4           NCD19         8.93          Low Fat         0.000000   \n",
              "\n",
              "               Item_Type  Item_MRP Outlet_Identifier  \\\n",
              "0                  Dairy  249.8092            OUT049   \n",
              "1            Soft Drinks   48.2692            OUT018   \n",
              "2                   Meat  141.6180            OUT049   \n",
              "3  Fruits and Vegetables  182.0950            OUT010   \n",
              "4              Household   53.8614            OUT013   \n",
              "\n",
              "   Outlet_Establishment_Year Outlet_Size Outlet_Location_Type  \\\n",
              "0                       1999      Medium               Tier 1   \n",
              "1                       2009      Medium               Tier 3   \n",
              "2                       1999      Medium               Tier 1   \n",
              "3                       1998         NaN               Tier 3   \n",
              "4                       1987        High               Tier 3   \n",
              "\n",
              "         Outlet_Type  Item_Outlet_Sales  \n",
              "0  Supermarket Type1          3735.1380  \n",
              "1  Supermarket Type2           443.4228  \n",
              "2  Supermarket Type1          2097.2700  \n",
              "3      Grocery Store           732.3800  \n",
              "4  Supermarket Type1           994.7052  "
            ],
            "text/html": [
              "<div>\n",
              "<style scoped>\n",
              "    .dataframe tbody tr th:only-of-type {\n",
              "        vertical-align: middle;\n",
              "    }\n",
              "\n",
              "    .dataframe tbody tr th {\n",
              "        vertical-align: top;\n",
              "    }\n",
              "\n",
              "    .dataframe thead th {\n",
              "        text-align: right;\n",
              "    }\n",
              "</style>\n",
              "<table border=\"1\" class=\"dataframe\">\n",
              "  <thead>\n",
              "    <tr style=\"text-align: right;\">\n",
              "      <th></th>\n",
              "      <th>Item_Identifier</th>\n",
              "      <th>Item_Weight</th>\n",
              "      <th>Item_Fat_Content</th>\n",
              "      <th>Item_Visibility</th>\n",
              "      <th>Item_Type</th>\n",
              "      <th>Item_MRP</th>\n",
              "      <th>Outlet_Identifier</th>\n",
              "      <th>Outlet_Establishment_Year</th>\n",
              "      <th>Outlet_Size</th>\n",
              "      <th>Outlet_Location_Type</th>\n",
              "      <th>Outlet_Type</th>\n",
              "      <th>Item_Outlet_Sales</th>\n",
              "    </tr>\n",
              "  </thead>\n",
              "  <tbody>\n",
              "    <tr>\n",
              "      <th>0</th>\n",
              "      <td>FDA15</td>\n",
              "      <td>9.30</td>\n",
              "      <td>Low Fat</td>\n",
              "      <td>0.016047</td>\n",
              "      <td>Dairy</td>\n",
              "      <td>249.8092</td>\n",
              "      <td>OUT049</td>\n",
              "      <td>1999</td>\n",
              "      <td>Medium</td>\n",
              "      <td>Tier 1</td>\n",
              "      <td>Supermarket Type1</td>\n",
              "      <td>3735.1380</td>\n",
              "    </tr>\n",
              "    <tr>\n",
              "      <th>1</th>\n",
              "      <td>DRC01</td>\n",
              "      <td>5.92</td>\n",
              "      <td>Regular</td>\n",
              "      <td>0.019278</td>\n",
              "      <td>Soft Drinks</td>\n",
              "      <td>48.2692</td>\n",
              "      <td>OUT018</td>\n",
              "      <td>2009</td>\n",
              "      <td>Medium</td>\n",
              "      <td>Tier 3</td>\n",
              "      <td>Supermarket Type2</td>\n",
              "      <td>443.4228</td>\n",
              "    </tr>\n",
              "    <tr>\n",
              "      <th>2</th>\n",
              "      <td>FDN15</td>\n",
              "      <td>17.50</td>\n",
              "      <td>Low Fat</td>\n",
              "      <td>0.016760</td>\n",
              "      <td>Meat</td>\n",
              "      <td>141.6180</td>\n",
              "      <td>OUT049</td>\n",
              "      <td>1999</td>\n",
              "      <td>Medium</td>\n",
              "      <td>Tier 1</td>\n",
              "      <td>Supermarket Type1</td>\n",
              "      <td>2097.2700</td>\n",
              "    </tr>\n",
              "    <tr>\n",
              "      <th>3</th>\n",
              "      <td>FDX07</td>\n",
              "      <td>19.20</td>\n",
              "      <td>Regular</td>\n",
              "      <td>0.000000</td>\n",
              "      <td>Fruits and Vegetables</td>\n",
              "      <td>182.0950</td>\n",
              "      <td>OUT010</td>\n",
              "      <td>1998</td>\n",
              "      <td>NaN</td>\n",
              "      <td>Tier 3</td>\n",
              "      <td>Grocery Store</td>\n",
              "      <td>732.3800</td>\n",
              "    </tr>\n",
              "    <tr>\n",
              "      <th>4</th>\n",
              "      <td>NCD19</td>\n",
              "      <td>8.93</td>\n",
              "      <td>Low Fat</td>\n",
              "      <td>0.000000</td>\n",
              "      <td>Household</td>\n",
              "      <td>53.8614</td>\n",
              "      <td>OUT013</td>\n",
              "      <td>1987</td>\n",
              "      <td>High</td>\n",
              "      <td>Tier 3</td>\n",
              "      <td>Supermarket Type1</td>\n",
              "      <td>994.7052</td>\n",
              "    </tr>\n",
              "  </tbody>\n",
              "</table>\n",
              "</div>"
            ]
          },
          "metadata": {},
          "execution_count": 2
        }
      ]
    },
    {
      "cell_type": "code",
      "source": [
        "# import drive to make sure it is mounted\n",
        "#from google.colab import drive\n",
        "#import pandas as pd\n",
        "#import seaborn as sn\n",
        "#import matplotlib.pyplot as plt\n",
        "#plt.style.use('seaborn')\n",
        "#drive.mount('/content/drive')"
      ],
      "metadata": {
        "id": "nCp9J12yF0qW"
      },
      "execution_count": 3,
      "outputs": []
    },
    {
      "cell_type": "code",
      "execution_count": 4,
      "metadata": {
        "id": "7x9ovFO7Lgk6"
      },
      "outputs": [],
      "source": [
        "# Lets mount the drive an read the data set\n",
        "#sales_df = pd.read_csv(\"/content/drive/MyDrive/CodingDojo/Stack_2/Data/sales_predictions.csv\")\n",
        "#sales_df.head()"
      ]
    },
    {
      "cell_type": "markdown",
      "source": [
        "What kind of data do we have?\n"
      ],
      "metadata": {
        "id": "p5fiCDFa0yIR"
      }
    },
    {
      "cell_type": "code",
      "source": [
        "sales_df.dtypes"
      ],
      "metadata": {
        "id": "LsxTJaCV4xhR",
        "outputId": "9e271d30-2ea0-44f7-d356-b4d2c7ab8b2a",
        "colab": {
          "base_uri": "https://localhost:8080/"
        }
      },
      "execution_count": 5,
      "outputs": [
        {
          "output_type": "execute_result",
          "data": {
            "text/plain": [
              "Item_Identifier               object\n",
              "Item_Weight                  float64\n",
              "Item_Fat_Content              object\n",
              "Item_Visibility              float64\n",
              "Item_Type                     object\n",
              "Item_MRP                     float64\n",
              "Outlet_Identifier             object\n",
              "Outlet_Establishment_Year      int64\n",
              "Outlet_Size                   object\n",
              "Outlet_Location_Type          object\n",
              "Outlet_Type                   object\n",
              "Item_Outlet_Sales            float64\n",
              "dtype: object"
            ]
          },
          "metadata": {},
          "execution_count": 5
        }
      ]
    },
    {
      "cell_type": "markdown",
      "source": [
        "**Check for nun values and zeros**"
      ],
      "metadata": {
        "id": "mQz7twbeE7VM"
      }
    },
    {
      "cell_type": "markdown",
      "source": [
        "## **My Approach:**\n",
        "I want to be able to replace the missing value in this data set by replaing the to the values which they show the strongest correlation to. My reasoning is that this will give me the most accurate replacement of the missing values. We might even be able to create a function which take the value of a correlated value and return the aproximate missing value.  "
      ],
      "metadata": {
        "id": "ejTknhjqEst0"
      }
    },
    {
      "cell_type": "markdown",
      "source": [
        "> First order of bussines is to take all the missing value from our data set. We can fo this by droping all the row wich contain missing values. "
      ],
      "metadata": {
        "id": "EWdJLYONGAa-"
      }
    },
    {
      "cell_type": "code",
      "source": [
        "# lets fin the number of colmns which have the missing values\n",
        "sales_df.isna().any()"
      ],
      "metadata": {
        "id": "I46UZRoeGOWk",
        "outputId": "dba3f671-dd1c-43ff-e8d7-6fadf0ae0d33",
        "colab": {
          "base_uri": "https://localhost:8080/"
        }
      },
      "execution_count": 6,
      "outputs": [
        {
          "output_type": "execute_result",
          "data": {
            "text/plain": [
              "Item_Identifier              False\n",
              "Item_Weight                   True\n",
              "Item_Fat_Content             False\n",
              "Item_Visibility              False\n",
              "Item_Type                    False\n",
              "Item_MRP                     False\n",
              "Outlet_Identifier            False\n",
              "Outlet_Establishment_Year    False\n",
              "Outlet_Size                   True\n",
              "Outlet_Location_Type         False\n",
              "Outlet_Type                  False\n",
              "Item_Outlet_Sales            False\n",
              "dtype: bool"
            ]
          },
          "metadata": {},
          "execution_count": 6
        }
      ]
    },
    {
      "cell_type": "markdown",
      "source": [
        "> We can see that the Columns which have missin values is just 'Item_Weight' and 'Outlet_Size'\n",
        "Let's find out how many values are in those columns are NA\n",
        "We also have to look out for value wich are not save as N/a"
      ],
      "metadata": {
        "id": "3Xc-kiK9HQXh"
      }
    },
    {
      "cell_type": "code",
      "source": [
        "# get the list of columns which have a missing value\n",
        "filter = sales_df.isna().any()\n",
        "# get a df with only those columns\n",
        "na_columns_df = sales_df.loc[:, filter]\n",
        "# lets count the total number of NA value for each column\n",
        "na_columns_df.isna().cumsum()"
      ],
      "metadata": {
        "id": "mXktNoj8IIqj",
        "outputId": "fc9a825e-88a7-4cb3-d6ba-3a117ded3ed1",
        "colab": {
          "base_uri": "https://localhost:8080/",
          "height": 424
        }
      },
      "execution_count": 7,
      "outputs": [
        {
          "output_type": "execute_result",
          "data": {
            "text/plain": [
              "      Item_Weight  Outlet_Size\n",
              "0               0            0\n",
              "1               0            0\n",
              "2               0            0\n",
              "3               0            1\n",
              "4               0            1\n",
              "...           ...          ...\n",
              "8518         1463         2409\n",
              "8519         1463         2410\n",
              "8520         1463         2410\n",
              "8521         1463         2410\n",
              "8522         1463         2410\n",
              "\n",
              "[8523 rows x 2 columns]"
            ],
            "text/html": [
              "<div>\n",
              "<style scoped>\n",
              "    .dataframe tbody tr th:only-of-type {\n",
              "        vertical-align: middle;\n",
              "    }\n",
              "\n",
              "    .dataframe tbody tr th {\n",
              "        vertical-align: top;\n",
              "    }\n",
              "\n",
              "    .dataframe thead th {\n",
              "        text-align: right;\n",
              "    }\n",
              "</style>\n",
              "<table border=\"1\" class=\"dataframe\">\n",
              "  <thead>\n",
              "    <tr style=\"text-align: right;\">\n",
              "      <th></th>\n",
              "      <th>Item_Weight</th>\n",
              "      <th>Outlet_Size</th>\n",
              "    </tr>\n",
              "  </thead>\n",
              "  <tbody>\n",
              "    <tr>\n",
              "      <th>0</th>\n",
              "      <td>0</td>\n",
              "      <td>0</td>\n",
              "    </tr>\n",
              "    <tr>\n",
              "      <th>1</th>\n",
              "      <td>0</td>\n",
              "      <td>0</td>\n",
              "    </tr>\n",
              "    <tr>\n",
              "      <th>2</th>\n",
              "      <td>0</td>\n",
              "      <td>0</td>\n",
              "    </tr>\n",
              "    <tr>\n",
              "      <th>3</th>\n",
              "      <td>0</td>\n",
              "      <td>1</td>\n",
              "    </tr>\n",
              "    <tr>\n",
              "      <th>4</th>\n",
              "      <td>0</td>\n",
              "      <td>1</td>\n",
              "    </tr>\n",
              "    <tr>\n",
              "      <th>...</th>\n",
              "      <td>...</td>\n",
              "      <td>...</td>\n",
              "    </tr>\n",
              "    <tr>\n",
              "      <th>8518</th>\n",
              "      <td>1463</td>\n",
              "      <td>2409</td>\n",
              "    </tr>\n",
              "    <tr>\n",
              "      <th>8519</th>\n",
              "      <td>1463</td>\n",
              "      <td>2410</td>\n",
              "    </tr>\n",
              "    <tr>\n",
              "      <th>8520</th>\n",
              "      <td>1463</td>\n",
              "      <td>2410</td>\n",
              "    </tr>\n",
              "    <tr>\n",
              "      <th>8521</th>\n",
              "      <td>1463</td>\n",
              "      <td>2410</td>\n",
              "    </tr>\n",
              "    <tr>\n",
              "      <th>8522</th>\n",
              "      <td>1463</td>\n",
              "      <td>2410</td>\n",
              "    </tr>\n",
              "  </tbody>\n",
              "</table>\n",
              "<p>8523 rows × 2 columns</p>\n",
              "</div>"
            ]
          },
          "metadata": {},
          "execution_count": 7
        }
      ]
    },
    {
      "cell_type": "markdown",
      "source": [
        "So here we cna see that `Item_Weight` column has __1463__ NA values, and the `Outlet_size` column has __2410__ NA values"
      ],
      "metadata": {
        "id": "8fTYCZDqKcLU"
      }
    },
    {
      "cell_type": "code",
      "source": [
        "# percentage of NA values \n",
        "print(2410 / 8525 * 100 ) # this is about %28 percent of all values\n",
        "print(1463 / 8525 * 100 ) # this is about %17 percent of all values"
      ],
      "metadata": {
        "id": "_UZCyfK6MLGx",
        "outputId": "ec9f98d7-e673-44c7-b1e3-c2ff3025df1c",
        "colab": {
          "base_uri": "https://localhost:8080/"
        }
      },
      "execution_count": 8,
      "outputs": [
        {
          "output_type": "stream",
          "name": "stdout",
          "text": [
            "28.269794721407628\n",
            "17.161290322580644\n"
          ]
        }
      ]
    },
    {
      "cell_type": "markdown",
      "source": [
        "Let remove all of the rows which have NA values "
      ],
      "metadata": {
        "id": "gR8ZXuVzR1-y"
      }
    },
    {
      "cell_type": "code",
      "source": [
        "clean_df = sales_df.dropna() \n",
        "# check if there is nay na value\n",
        "clean_df.isna().any().any()"
      ],
      "metadata": {
        "id": "Y9r7Q9cvR70z",
        "outputId": "77c10f27-186d-495f-ff5f-1c38b895a24c",
        "colab": {
          "base_uri": "https://localhost:8080/"
        }
      },
      "execution_count": 9,
      "outputs": [
        {
          "output_type": "execute_result",
          "data": {
            "text/plain": [
              "False"
            ]
          },
          "metadata": {},
          "execution_count": 9
        }
      ]
    },
    {
      "cell_type": "code",
      "source": [
        "# lets find which value have the best correlation with the columns where we have the NA values\n",
        "# can't find a the correlation between ordinal values\n",
        "corr_map = clean_df.corr()\n",
        "sn.heatmap(corr_map, annot=True); "
      ],
      "metadata": {
        "id": "F5OlbvBjHqBP",
        "outputId": "4b3915a6-41a5-4fd4-83f1-7f046782b294",
        "colab": {
          "base_uri": "https://localhost:8080/",
          "height": 462
        }
      },
      "execution_count": 10,
      "outputs": [
        {
          "output_type": "display_data",
          "data": {
            "text/plain": [
              "<Figure size 576x396 with 2 Axes>"
            ],
            "image/png": "[encoded data removed]"
          },
          "metadata": {}
        }
      ]
    },
    {
      "cell_type": "markdown",
      "source": [
        "We can see that the `Item_Weight` is not really that stongly correlated with any other column. "
      ],
      "metadata": {
        "id": "_-X0kpjZPGyJ"
      }
    },
    {
      "cell_type": "code",
      "source": [
        "# correlation of the Items_weights\n",
        "corr_map['Item_Weight'][1:].values "
      ],
      "metadata": {
        "id": "QD_vlGMJPGDC",
        "outputId": "1cf60cf3-f198-4404-ea50-b840bae84006",
        "colab": {
          "base_uri": "https://localhost:8080/"
        }
      },
      "execution_count": 11,
      "outputs": [
        {
          "output_type": "execute_result",
          "data": {
            "text/plain": [
              "array([-0.01022873,  0.03333044, -0.01059587,  0.01097183])"
            ]
          },
          "metadata": {},
          "execution_count": 11
        }
      ]
    },
    {
      "cell_type": "markdown",
      "source": [
        "Let see if there is any correlation bewteen the ordinal value of `Outlet_size` and the other values \n",
        "\n",
        "Let see if we can graph the value other values vesus the `Outlet_Size`"
      ],
      "metadata": {
        "id": "ewS_4TsQTzy5"
      }
    },
    {
      "cell_type": "code",
      "source": [
        "# so let's plot it!\n",
        "# got this from\n",
        "#clean_df[['Item_Outlet_Sales', 'Outlet_Size']].plot.bar(x='Outlet_Size', y='Item_Outlet_Sales');\n",
        "figure, axis = plt.subplots(2, 2)\n",
        "sn.boxplot(y='Item_Outlet_Sales', x='Outlet_Size', data=clean_df,ax=axis[0,0]).set(title=\"Sales and Size Correlation\");\n",
        "sn.boxplot(y='Item_MRP', x='Outlet_Size', data=clean_df,ax=axis[0,1]).set(title=\"MRP and Size Correlation\");\n",
        "sn.boxplot(y='Item_Visibility', x='Outlet_Size', data=clean_df,ax=axis[1,0]).set(title=\"Visibility and Size Correlation\");\n",
        "sn.boxplot(y='Outlet_Establishment_Year', x='Outlet_Size', data=clean_df,ax=axis[1,1]).set(title=\"Outlet Year and Size Correlation\");\n",
        "# make it all fit together\n",
        "plt.tight_layout()\n"
      ],
      "metadata": {
        "id": "oyb8d_vpJyJ3",
        "outputId": "0ec167c3-815b-40bf-c272-d318a884382d",
        "colab": {
          "base_uri": "https://localhost:8080/",
          "height": 405
        }
      },
      "execution_count": 12,
      "outputs": [
        {
          "output_type": "display_data",
          "data": {
            "text/plain": [
              "<Figure size 576x396 with 4 Axes>"
            ],
            "image/png": "[encoded data removed]"
          },
          "metadata": {}
        }
      ]
    },
    {
      "cell_type": "markdown",
      "source": [
        "There does not seem to be any reall correation between the numerical value in the data set and the ordinal value of `Outlet_Size`\n",
        "\n",
        "However there does seem to be some pattern between the `Outlet_Establisment_Year` and the `Outlet_Size`: We can see that ot only are there far more values in where the `Outlet_Size` is __Medium__ or __Small__ and that almost all the value where it is __High__ are outlets made before __1990__.\n",
        "\n",
        "If we compare this to the distribution of `Outlest_Size` values. "
      ],
      "metadata": {
        "id": "NbPEuvwUSh4R"
      }
    },
    {
      "cell_type": "code",
      "source": [
        "clean_df.Outlet_Size.hist();"
      ],
      "metadata": {
        "colab": {
          "base_uri": "https://localhost:8080/",
          "height": 347
        },
        "id": "JbIEkhRwThyh",
        "outputId": "c69893cc-0720-4884-ad0d-7ae46156785c"
      },
      "execution_count": 13,
      "outputs": [
        {
          "output_type": "display_data",
          "data": {
            "text/plain": [
              "<Figure size 576x396 with 1 Axes>"
            ],
            "image/png": "[encoded data removed]"
          },
          "metadata": {}
        }
      ]
    },
    {
      "cell_type": "markdown",
      "source": [
        "We can see that ther number __high__ value is truly is significaly lower than the ther two. \n",
        "\n",
        "if fact only: "
      ],
      "metadata": {
        "id": "QDZDjF34T9oB"
      }
    },
    {
      "cell_type": "code",
      "source": [
        "count = len(clean_df.query('Outlet_Size == \"High\"'))\n",
        "negative = len(clean_df.query('Outlet_Size != \"High\"'))\n",
        "f\"there are only {count} values where Outlet_Size is high, compare with {negative} values where it is not\""
      ],
      "metadata": {
        "colab": {
          "base_uri": "https://localhost:8080/"
        },
        "id": "3Zs_QbE2WRDX",
        "outputId": "53a16f03-0d03-493c-912c-0178cc1bfa74"
      },
      "execution_count": 14,
      "outputs": [
        {
          "output_type": "execute_result",
          "data": {
            "text/plain": [
              "'there are only 932 values where Outlet_Size is high, compare with 3718 values where it is not'"
            ]
          },
          "metadata": {},
          "execution_count": 14
        }
      ]
    },
    {
      "cell_type": "code",
      "source": [
        "# if face we can see that all 932 Outlets where made in the year 1987\n",
        "clean_df.query('Outlet_Size == \"High\"').Outlet_Establishment_Year.describe()\n"
      ],
      "metadata": {
        "colab": {
          "base_uri": "https://localhost:8080/"
        },
        "id": "PcAEYEbjT8ll",
        "outputId": "e624a8c4-ea4c-49a5-bc94-13a7faa5a5fd"
      },
      "execution_count": 15,
      "outputs": [
        {
          "output_type": "execute_result",
          "data": {
            "text/plain": [
              "count     932.0\n",
              "mean     1987.0\n",
              "std         0.0\n",
              "min      1987.0\n",
              "25%      1987.0\n",
              "50%      1987.0\n",
              "75%      1987.0\n",
              "max      1987.0\n",
              "Name: Outlet_Establishment_Year, dtype: float64"
            ]
          },
          "metadata": {},
          "execution_count": 15
        }
      ]
    },
    {
      "cell_type": "markdown",
      "source": [
        "Thus we can safely assume that any missing value about the size of the outlet before or in __1987__ are going to be __high__, while all the values after, are going to be either __Medium__ or __Small__.\n",
        "\n",
        "Thus let's take a look at the years of the missing values."
      ],
      "metadata": {
        "id": "QpSYLMouYNHJ"
      }
    },
    {
      "cell_type": "code",
      "source": [
        "# get al the rows that have missing values\n",
        "missing_df = sales_df[sales_df['Outlet_Size'].isna()]\n",
        "missing_df.Outlet_Establishment_Year.hist();"
      ],
      "metadata": {
        "colab": {
          "base_uri": "https://localhost:8080/",
          "height": 347
        },
        "id": "gFHpkvO8Yq3D",
        "outputId": "3eb83465-c947-452f-e95f-481f8f793839"
      },
      "execution_count": 16,
      "outputs": [
        {
          "output_type": "display_data",
          "data": {
            "text/plain": [
              "<Figure size 576x396 with 1 Axes>"
            ],
            "image/png": "[encoded data removed]"
          },
          "metadata": {}
        }
      ]
    },
    {
      "cell_type": "markdown",
      "source": [
        "From this graph we can see that none of the outlets which have missing values where made before or in 1987. \n",
        "Thus we can assume all of this value of `Outler_Size` can be filled with either __Small__ or __Medium__"
      ],
      "metadata": {
        "id": "SCtbG7GMXwrz"
      }
    },
    {
      "cell_type": "code",
      "source": [
        "# \n",
        "#years = sales_df.Outlet_Establishment_Year.unique()\n",
        "#sales_df.Outlet_Establishment_Year.hist(bins=100);\n",
        "colors = [\"blue\", \"red\",\"green\",\"black\"]\n",
        "sn.set_palette(sn.color_palette(colors))\n",
        "sn.histplot(data=sales_df, x=\"Outlet_Establishment_Year\", hue=\"Outlet_Size\", bins=20, discrete=True, multiple=\"dodge\");\n",
        "#colors = [\"black\", \"red\",\"green\",\"black\"]\n",
        "#sn.set_palette(sn.color_palette(colors))\n",
        "#sn.histplot(data=missing_df, x=\"Outlet_Establishment_Year\", bins=15)\n",
        "#sn.barplot(x='Outlet_Size', hue='Outlet_Establishment_Year', data=sales_df )\n",
        "sales_df.Outlet_Size.value_counts()"
      ],
      "metadata": {
        "colab": {
          "base_uri": "https://localhost:8080/",
          "height": 430
        },
        "id": "r124gV8zb5ad",
        "outputId": "afe85dc5-2f55-4b20-9e83-9a7eaf9c7c47"
      },
      "execution_count": 17,
      "outputs": [
        {
          "output_type": "execute_result",
          "data": {
            "text/plain": [
              "Medium    2793\n",
              "Small     2388\n",
              "High       932\n",
              "Name: Outlet_Size, dtype: int64"
            ]
          },
          "metadata": {},
          "execution_count": 17
        },
        {
          "output_type": "display_data",
          "data": {
            "text/plain": [
              "<Figure size 576x396 with 1 Axes>"
            ],
            "image/png": "[encoded data removed]"
          },
          "metadata": {}
        }
      ]
    },
    {
      "cell_type": "code",
      "source": [
        "# heck the number of na values\n",
        "#na_columns = super_cool_df.isna().any() # check which colmun have a na value\n",
        "#g = sn.FacetGrid(data=super_cool_df, col='Outlet_Size', col_wrap=4)\n",
        "\n",
        "#super_cool_df.loc[:, na_columns]\n",
        "\n",
        "#add plots to grid\n",
        "#g.map(sn.scatterplot, 'Outlet_Size', 'Item_Weight')\n"
      ],
      "metadata": {
        "id": "mZBLuLfOFEo3"
      },
      "execution_count": 18,
      "outputs": []
    },
    {
      "cell_type": "code",
      "source": [
        "# fill in the Na values\n",
        "#super_cool_df.fillna(method='ffill').isna().any()"
      ],
      "metadata": {
        "id": "3feBzQAbLp3t"
      },
      "execution_count": 19,
      "outputs": []
    },
    {
      "cell_type": "markdown",
      "source": [
        "# Stack 2: Data Processing"
      ],
      "metadata": {
        "id": "I48EwVnRZUXB"
      }
    },
    {
      "cell_type": "markdown",
      "source": [
        "Ok, since we now ahve a target to which we are seeking to predict `Item_Outlet_Sales` we can now 'isolate' that column, the same way the world is isolating Russia. \n"
      ],
      "metadata": {
        "id": "5aLI8RjcaH96"
      }
    },
    {
      "cell_type": "code",
      "source": [
        "# lets make some skilearn imports\n",
        "from sklearn.preprocessing import StandardScaler\n",
        "from sklearn.model_selection import train_test_split\n",
        "from sklearn.compose import make_column_selector\n",
        "from sklearn.preprocessing import OneHotEncoder\n",
        "from sklearn.impute import SimpleImputer\n",
        "from sklearn.compose import make_column_transformer\n",
        "from sklearn.pipeline import make_pipeline\n",
        "from sklearn import set_config\n",
        "set_config(display='diagram')"
      ],
      "metadata": {
        "id": "eQ10VHPmb_pF"
      },
      "execution_count": 20,
      "outputs": []
    },
    {
      "cell_type": "code",
      "source": [
        "target = sales_df.Item_Outlet_Sales\n",
        "features = sales_df.drop(columns='Item_Outlet_Sales')"
      ],
      "metadata": {
        "id": "u16TEu17Z_8v"
      },
      "execution_count": 21,
      "outputs": []
    },
    {
      "cell_type": "markdown",
      "source": [
        "Now let make the preprocessing object "
      ],
      "metadata": {
        "id": "vg4HqxH7ZXim"
      }
    },
    {
      "cell_type": "code",
      "source": [
        "# lets split the data \n",
        "X_train, X_test, y_train, y_test = train_test_split(features, target, random_state=42)\n",
        "# let make some imputers\n",
        "freq_imputer = SimpleImputer(strategy='most_frequent')\n",
        "mean_imputer = SimpleImputer(strategy='mean')\n",
        "# let's make our one hot encoder\n",
        "ohe = OneHotEncoder(handle_unknown='ignore', sparse=False)\n",
        "# Scaler\n",
        "scaler = StandardScaler()\n",
        "# now let's the piplines for each object \n",
        "numeric_pipe = make_pipeline(mean_imputer, scaler)\n",
        "categorical_pipe = make_pipeline(freq_imputer, ohe)\n",
        "# first then selectors\n",
        "cat_selector = make_column_selector(dtype_include='object')\n",
        "num_selector = make_column_selector(dtype_include='number')\n",
        "# let's make a lnear regression\n",
        "\n",
        "# Tuples for Column Transformer\n",
        "number_tuple = (numeric_pipe, num_selector)\n",
        "category_tuple = (categorical_pipe, cat_selector)\n",
        "# preprocessor\n",
        "preprocessor = make_column_transformer(number_tuple, category_tuple, remainder=\"passthrough\")\n",
        "preprocessor"
      ],
      "metadata": {
        "id": "sdQuw8M_dGQ_",
        "outputId": "6ed337c8-4579-48f9-850b-372ca98fde99",
        "colab": {
          "base_uri": "https://localhost:8080/",
          "height": 152
        }
      },
      "execution_count": 22,
      "outputs": [
        {
          "output_type": "execute_result",
          "data": {
            "text/plain": [
              "ColumnTransformer(remainder='passthrough',\n",
              "                  transformers=[('pipeline-1',\n",
              "                                 Pipeline(steps=[('simpleimputer',\n",
              "                                                  SimpleImputer()),\n",
              "                                                 ('standardscaler',\n",
              "                                                  StandardScaler())]),\n",
              "                                 <sklearn.compose._column_transformer.make_column_selector object at 0x7f011301be50>),\n",
              "                                ('pipeline-2',\n",
              "                                 Pipeline(steps=[('simpleimputer',\n",
              "                                                  SimpleImputer(strategy='most_frequent')),\n",
              "                                                 ('onehotencoder',\n",
              "                                                  OneHotEncoder(handle_unknown='ignore',\n",
              "                                                                sparse=False))]),\n",
              "                                 <sklearn.compose._column_transformer.make_column_selector object at 0x7f0113029d60>)])"
            ],
            "text/html": [
              "<style>#sk-bac871da-753e-47cf-bff4-956c221bd80a {color: black;background-color: white;}#sk-bac871da-753e-47cf-bff4-956c221bd80a pre{padding: 0;}#sk-bac871da-753e-47cf-bff4-956c221bd80a div.sk-toggleable {background-color: white;}#sk-bac871da-753e-47cf-bff4-956c221bd80a label.sk-toggleable__label {cursor: pointer;display: block;width: 100%;margin-bottom: 0;padding: 0.3em;box-sizing: border-box;text-align: center;}#sk-bac871da-753e-47cf-bff4-956c221bd80a label.sk-toggleable__label-arrow:before {content: \"▸\";float: left;margin-right: 0.25em;color: #696969;}#sk-bac871da-753e-47cf-bff4-956c221bd80a label.sk-toggleable__label-arrow:hover:before {color: black;}#sk-bac871da-753e-47cf-bff4-956c221bd80a div.sk-estimator:hover label.sk-toggleable__label-arrow:before {color: black;}#sk-bac871da-753e-47cf-bff4-956c221bd80a div.sk-toggleable__content {max-height: 0;max-width: 0;overflow: hidden;text-align: left;background-color: #f0f8ff;}#sk-bac871da-753e-47cf-bff4-956c221bd80a div.sk-toggleable__content pre {margin: 0.2em;color: black;border-radius: 0.25em;background-color: #f0f8ff;}#sk-bac871da-753e-47cf-bff4-956c221bd80a input.sk-toggleable__control:checked~div.sk-toggleable__content {max-height: 200px;max-width: 100%;overflow: auto;}#sk-bac871da-753e-47cf-bff4-956c221bd80a input.sk-toggleable__control:checked~label.sk-toggleable__label-arrow:before {content: \"▾\";}#sk-bac871da-753e-47cf-bff4-956c221bd80a div.sk-estimator input.sk-toggleable__control:checked~label.sk-toggleable__label {background-color: #d4ebff;}#sk-bac871da-753e-47cf-bff4-956c221bd80a div.sk-label input.sk-toggleable__control:checked~label.sk-toggleable__label {background-color: #d4ebff;}#sk-bac871da-753e-47cf-bff4-956c221bd80a input.sk-hidden--visually {border: 0;clip: rect(1px 1px 1px 1px);clip: rect(1px, 1px, 1px, 1px);height: 1px;margin: -1px;overflow: hidden;padding: 0;position: absolute;width: 1px;}#sk-bac871da-753e-47cf-bff4-956c221bd80a div.sk-estimator {font-family: monospace;background-color: #f0f8ff;border: 1px dotted black;border-radius: 0.25em;box-sizing: border-box;margin-bottom: 0.5em;}#sk-bac871da-753e-47cf-bff4-956c221bd80a div.sk-estimator:hover {background-color: #d4ebff;}#sk-bac871da-753e-47cf-bff4-956c221bd80a div.sk-parallel-item::after {content: \"\";width: 100%;border-bottom: 1px solid gray;flex-grow: 1;}#sk-bac871da-753e-47cf-bff4-956c221bd80a div.sk-label:hover label.sk-toggleable__label {background-color: #d4ebff;}#sk-bac871da-753e-47cf-bff4-956c221bd80a div.sk-serial::before {content: \"\";position: absolute;border-left: 1px solid gray;box-sizing: border-box;top: 2em;bottom: 0;left: 50%;}#sk-bac871da-753e-47cf-bff4-956c221bd80a div.sk-serial {display: flex;flex-direction: column;align-items: center;background-color: white;padding-right: 0.2em;padding-left: 0.2em;}#sk-bac871da-753e-47cf-bff4-956c221bd80a div.sk-item {z-index: 1;}#sk-bac871da-753e-47cf-bff4-956c221bd80a div.sk-parallel {display: flex;align-items: stretch;justify-content: center;background-color: white;}#sk-bac871da-753e-47cf-bff4-956c221bd80a div.sk-parallel::before {content: \"\";position: absolute;border-left: 1px solid gray;box-sizing: border-box;top: 2em;bottom: 0;left: 50%;}#sk-bac871da-753e-47cf-bff4-956c221bd80a div.sk-parallel-item {display: flex;flex-direction: column;position: relative;background-color: white;}#sk-bac871da-753e-47cf-bff4-956c221bd80a div.sk-parallel-item:first-child::after {align-self: flex-end;width: 50%;}#sk-bac871da-753e-47cf-bff4-956c221bd80a div.sk-parallel-item:last-child::after {align-self: flex-start;width: 50%;}#sk-bac871da-753e-47cf-bff4-956c221bd80a div.sk-parallel-item:only-child::after {width: 0;}#sk-bac871da-753e-47cf-bff4-956c221bd80a div.sk-dashed-wrapped {border: 1px dashed gray;margin: 0 0.4em 0.5em 0.4em;box-sizing: border-box;padding-bottom: 0.4em;background-color: white;position: relative;}#sk-bac871da-753e-47cf-bff4-956c221bd80a div.sk-label label {font-family: monospace;font-weight: bold;background-color: white;display: inline-block;line-height: 1.2em;}#sk-bac871da-753e-47cf-bff4-956c221bd80a div.sk-label-container {position: relative;z-index: 2;text-align: center;}#sk-bac871da-753e-47cf-bff4-956c221bd80a div.sk-container {/* jupyter's `normalize.less` sets `[hidden] { display: none; }` but bootstrap.min.css set `[hidden] { display: none !important; }` so we also need the `!important` here to be able to override the default hidden behavior on the sphinx rendered scikit-learn.org. See: https://github.com/scikit-learn/scikit-learn/issues/21755 */display: inline-block !important;position: relative;}#sk-bac871da-753e-47cf-bff4-956c221bd80a div.sk-text-repr-fallback {display: none;}</style><div id=\"sk-bac871da-753e-47cf-bff4-956c221bd80a\" class=\"sk-top-container\"><div class=\"sk-text-repr-fallback\"><pre>ColumnTransformer(remainder=&#x27;passthrough&#x27;,\n",
              "                  transformers=[(&#x27;pipeline-1&#x27;,\n",
              "                                 Pipeline(steps=[(&#x27;simpleimputer&#x27;,\n",
              "                                                  SimpleImputer()),\n",
              "                                                 (&#x27;standardscaler&#x27;,\n",
              "                                                  StandardScaler())]),\n",
              "                                 &lt;sklearn.compose._column_transformer.make_column_selector object at 0x7f011301be50&gt;),\n",
              "                                (&#x27;pipeline-2&#x27;,\n",
              "                                 Pipeline(steps=[(&#x27;simpleimputer&#x27;,\n",
              "                                                  SimpleImputer(strategy=&#x27;most_frequent&#x27;)),\n",
              "                                                 (&#x27;onehotencoder&#x27;,\n",
              "                                                  OneHotEncoder(handle_unknown=&#x27;ignore&#x27;,\n",
              "                                                                sparse=False))]),\n",
              "                                 &lt;sklearn.compose._column_transformer.make_column_selector object at 0x7f0113029d60&gt;)])</pre><b>Please rerun this cell to show the HTML repr or trust the notebook.</b></div><div class=\"sk-container\" hidden><div class=\"sk-item sk-dashed-wrapped\"><div class=\"sk-label-container\"><div class=\"sk-label sk-toggleable\"><input class=\"sk-toggleable__control sk-hidden--visually\" id=\"36627eff-c08e-42e1-ada5-b84d4294eccb\" type=\"checkbox\" ><label for=\"36627eff-c08e-42e1-ada5-b84d4294eccb\" class=\"sk-toggleable__label sk-toggleable__label-arrow\">ColumnTransformer</label><div class=\"sk-toggleable__content\"><pre>ColumnTransformer(remainder=&#x27;passthrough&#x27;,\n",
              "                  transformers=[(&#x27;pipeline-1&#x27;,\n",
              "                                 Pipeline(steps=[(&#x27;simpleimputer&#x27;,\n",
              "                                                  SimpleImputer()),\n",
              "                                                 (&#x27;standardscaler&#x27;,\n",
              "                                                  StandardScaler())]),\n",
              "                                 &lt;sklearn.compose._column_transformer.make_column_selector object at 0x7f011301be50&gt;),\n",
              "                                (&#x27;pipeline-2&#x27;,\n",
              "                                 Pipeline(steps=[(&#x27;simpleimputer&#x27;,\n",
              "                                                  SimpleImputer(strategy=&#x27;most_frequent&#x27;)),\n",
              "                                                 (&#x27;onehotencoder&#x27;,\n",
              "                                                  OneHotEncoder(handle_unknown=&#x27;ignore&#x27;,\n",
              "                                                                sparse=False))]),\n",
              "                                 &lt;sklearn.compose._column_transformer.make_column_selector object at 0x7f0113029d60&gt;)])</pre></div></div></div><div class=\"sk-parallel\"><div class=\"sk-parallel-item\"><div class=\"sk-item\"><div class=\"sk-label-container\"><div class=\"sk-label sk-toggleable\"><input class=\"sk-toggleable__control sk-hidden--visually\" id=\"30399b41-756f-4859-b39a-680dba779c24\" type=\"checkbox\" ><label for=\"30399b41-756f-4859-b39a-680dba779c24\" class=\"sk-toggleable__label sk-toggleable__label-arrow\">pipeline-1</label><div class=\"sk-toggleable__content\"><pre>&lt;sklearn.compose._column_transformer.make_column_selector object at 0x7f011301be50&gt;</pre></div></div></div><div class=\"sk-serial\"><div class=\"sk-item\"><div class=\"sk-serial\"><div class=\"sk-item\"><div class=\"sk-estimator sk-toggleable\"><input class=\"sk-toggleable__control sk-hidden--visually\" id=\"413d002c-8251-4038-84cf-5227cdb3c5ec\" type=\"checkbox\" ><label for=\"413d002c-8251-4038-84cf-5227cdb3c5ec\" class=\"sk-toggleable__label sk-toggleable__label-arrow\">SimpleImputer</label><div class=\"sk-toggleable__content\"><pre>SimpleImputer()</pre></div></div></div><div class=\"sk-item\"><div class=\"sk-estimator sk-toggleable\"><input class=\"sk-toggleable__control sk-hidden--visually\" id=\"905e9d08-aec9-40b1-ad8b-5f576eccafa9\" type=\"checkbox\" ><label for=\"905e9d08-aec9-40b1-ad8b-5f576eccafa9\" class=\"sk-toggleable__label sk-toggleable__label-arrow\">StandardScaler</label><div class=\"sk-toggleable__content\"><pre>StandardScaler()</pre></div></div></div></div></div></div></div></div><div class=\"sk-parallel-item\"><div class=\"sk-item\"><div class=\"sk-label-container\"><div class=\"sk-label sk-toggleable\"><input class=\"sk-toggleable__control sk-hidden--visually\" id=\"384943cf-ad5a-42ec-9fbe-74ae09d7361d\" type=\"checkbox\" ><label for=\"384943cf-ad5a-42ec-9fbe-74ae09d7361d\" class=\"sk-toggleable__label sk-toggleable__label-arrow\">pipeline-2</label><div class=\"sk-toggleable__content\"><pre>&lt;sklearn.compose._column_transformer.make_column_selector object at 0x7f0113029d60&gt;</pre></div></div></div><div class=\"sk-serial\"><div class=\"sk-item\"><div class=\"sk-serial\"><div class=\"sk-item\"><div class=\"sk-estimator sk-toggleable\"><input class=\"sk-toggleable__control sk-hidden--visually\" id=\"3aec296f-b36e-456a-b3eb-fb091d007b10\" type=\"checkbox\" ><label for=\"3aec296f-b36e-456a-b3eb-fb091d007b10\" class=\"sk-toggleable__label sk-toggleable__label-arrow\">SimpleImputer</label><div class=\"sk-toggleable__content\"><pre>SimpleImputer(strategy=&#x27;most_frequent&#x27;)</pre></div></div></div><div class=\"sk-item\"><div class=\"sk-estimator sk-toggleable\"><input class=\"sk-toggleable__control sk-hidden--visually\" id=\"e62e908a-9eeb-4414-a795-3edb799be711\" type=\"checkbox\" ><label for=\"e62e908a-9eeb-4414-a795-3edb799be711\" class=\"sk-toggleable__label sk-toggleable__label-arrow\">OneHotEncoder</label><div class=\"sk-toggleable__content\"><pre>OneHotEncoder(handle_unknown=&#x27;ignore&#x27;, sparse=False)</pre></div></div></div></div></div></div></div></div><div class=\"sk-parallel-item\"><div class=\"sk-item\"><div class=\"sk-label-container\"><div class=\"sk-label sk-toggleable\"><input class=\"sk-toggleable__control sk-hidden--visually\" id=\"ae6f20c6-dce7-451a-bbc1-7c82ca23540e\" type=\"checkbox\" ><label for=\"ae6f20c6-dce7-451a-bbc1-7c82ca23540e\" class=\"sk-toggleable__label sk-toggleable__label-arrow\">remainder</label><div class=\"sk-toggleable__content\"><pre></pre></div></div></div><div class=\"sk-serial\"><div class=\"sk-item\"><div class=\"sk-estimator sk-toggleable\"><input class=\"sk-toggleable__control sk-hidden--visually\" id=\"4027777d-bf8a-4c9f-8ec7-a372078815e7\" type=\"checkbox\" ><label for=\"4027777d-bf8a-4c9f-8ec7-a372078815e7\" class=\"sk-toggleable__label sk-toggleable__label-arrow\">passthrough</label><div class=\"sk-toggleable__content\"><pre>passthrough</pre></div></div></div></div></div></div></div></div></div></div>"
            ]
          },
          "metadata": {},
          "execution_count": 22
        }
      ]
    },
    {
      "cell_type": "code",
      "source": [
        "from sklearn.dummy import DummyRegressor\n",
        "dummy = DummyRegressor(strategy=\"mean\")\n",
        "\n",
        "dummy_pipe= make_pipeline(preprocessor ,dummy)\n",
        "dummy_pipe.fit(X_train,y_train)"
      ],
      "metadata": {
        "id": "XRngG-LGX3SK",
        "outputId": "a75a08a4-72a1-44bb-ed50-b0bcbaec9a17",
        "colab": {
          "base_uri": "https://localhost:8080/",
          "height": 227
        }
      },
      "execution_count": 23,
      "outputs": [
        {
          "output_type": "execute_result",
          "data": {
            "text/plain": [
              "Pipeline(steps=[('columntransformer',\n",
              "                 ColumnTransformer(remainder='passthrough',\n",
              "                                   transformers=[('pipeline-1',\n",
              "                                                  Pipeline(steps=[('simpleimputer',\n",
              "                                                                   SimpleImputer()),\n",
              "                                                                  ('standardscaler',\n",
              "                                                                   StandardScaler())]),\n",
              "                                                  <sklearn.compose._column_transformer.make_column_selector object at 0x7f011301be50>),\n",
              "                                                 ('pipeline-2',\n",
              "                                                  Pipeline(steps=[('simpleimputer',\n",
              "                                                                   SimpleImputer(strategy='most_frequent')),\n",
              "                                                                  ('onehotencoder',\n",
              "                                                                   OneHotEncoder(handle_unknown='ignore',\n",
              "                                                                                 sparse=False))]),\n",
              "                                                  <sklearn.compose._column_transformer.make_column_selector object at 0x7f0113029d60>)])),\n",
              "                ('dummyregressor', DummyRegressor())])"
            ],
            "text/html": [
              "<style>#sk-bf03724c-19f1-4bcf-b222-2558134b730e {color: black;background-color: white;}#sk-bf03724c-19f1-4bcf-b222-2558134b730e pre{padding: 0;}#sk-bf03724c-19f1-4bcf-b222-2558134b730e div.sk-toggleable {background-color: white;}#sk-bf03724c-19f1-4bcf-b222-2558134b730e label.sk-toggleable__label {cursor: pointer;display: block;width: 100%;margin-bottom: 0;padding: 0.3em;box-sizing: border-box;text-align: center;}#sk-bf03724c-19f1-4bcf-b222-2558134b730e label.sk-toggleable__label-arrow:before {content: \"▸\";float: left;margin-right: 0.25em;color: #696969;}#sk-bf03724c-19f1-4bcf-b222-2558134b730e label.sk-toggleable__label-arrow:hover:before {color: black;}#sk-bf03724c-19f1-4bcf-b222-2558134b730e div.sk-estimator:hover label.sk-toggleable__label-arrow:before {color: black;}#sk-bf03724c-19f1-4bcf-b222-2558134b730e div.sk-toggleable__content {max-height: 0;max-width: 0;overflow: hidden;text-align: left;background-color: #f0f8ff;}#sk-bf03724c-19f1-4bcf-b222-2558134b730e div.sk-toggleable__content pre {margin: 0.2em;color: black;border-radius: 0.25em;background-color: #f0f8ff;}#sk-bf03724c-19f1-4bcf-b222-2558134b730e input.sk-toggleable__control:checked~div.sk-toggleable__content {max-height: 200px;max-width: 100%;overflow: auto;}#sk-bf03724c-19f1-4bcf-b222-2558134b730e input.sk-toggleable__control:checked~label.sk-toggleable__label-arrow:before {content: \"▾\";}#sk-bf03724c-19f1-4bcf-b222-2558134b730e div.sk-estimator input.sk-toggleable__control:checked~label.sk-toggleable__label {background-color: #d4ebff;}#sk-bf03724c-19f1-4bcf-b222-2558134b730e div.sk-label input.sk-toggleable__control:checked~label.sk-toggleable__label {background-color: #d4ebff;}#sk-bf03724c-19f1-4bcf-b222-2558134b730e input.sk-hidden--visually {border: 0;clip: rect(1px 1px 1px 1px);clip: rect(1px, 1px, 1px, 1px);height: 1px;margin: -1px;overflow: hidden;padding: 0;position: absolute;width: 1px;}#sk-bf03724c-19f1-4bcf-b222-2558134b730e div.sk-estimator {font-family: monospace;background-color: #f0f8ff;border: 1px dotted black;border-radius: 0.25em;box-sizing: border-box;margin-bottom: 0.5em;}#sk-bf03724c-19f1-4bcf-b222-2558134b730e div.sk-estimator:hover {background-color: #d4ebff;}#sk-bf03724c-19f1-4bcf-b222-2558134b730e div.sk-parallel-item::after {content: \"\";width: 100%;border-bottom: 1px solid gray;flex-grow: 1;}#sk-bf03724c-19f1-4bcf-b222-2558134b730e div.sk-label:hover label.sk-toggleable__label {background-color: #d4ebff;}#sk-bf03724c-19f1-4bcf-b222-2558134b730e div.sk-serial::before {content: \"\";position: absolute;border-left: 1px solid gray;box-sizing: border-box;top: 2em;bottom: 0;left: 50%;}#sk-bf03724c-19f1-4bcf-b222-2558134b730e div.sk-serial {display: flex;flex-direction: column;align-items: center;background-color: white;padding-right: 0.2em;padding-left: 0.2em;}#sk-bf03724c-19f1-4bcf-b222-2558134b730e div.sk-item {z-index: 1;}#sk-bf03724c-19f1-4bcf-b222-2558134b730e div.sk-parallel {display: flex;align-items: stretch;justify-content: center;background-color: white;}#sk-bf03724c-19f1-4bcf-b222-2558134b730e div.sk-parallel::before {content: \"\";position: absolute;border-left: 1px solid gray;box-sizing: border-box;top: 2em;bottom: 0;left: 50%;}#sk-bf03724c-19f1-4bcf-b222-2558134b730e div.sk-parallel-item {display: flex;flex-direction: column;position: relative;background-color: white;}#sk-bf03724c-19f1-4bcf-b222-2558134b730e div.sk-parallel-item:first-child::after {align-self: flex-end;width: 50%;}#sk-bf03724c-19f1-4bcf-b222-2558134b730e div.sk-parallel-item:last-child::after {align-self: flex-start;width: 50%;}#sk-bf03724c-19f1-4bcf-b222-2558134b730e div.sk-parallel-item:only-child::after {width: 0;}#sk-bf03724c-19f1-4bcf-b222-2558134b730e div.sk-dashed-wrapped {border: 1px dashed gray;margin: 0 0.4em 0.5em 0.4em;box-sizing: border-box;padding-bottom: 0.4em;background-color: white;position: relative;}#sk-bf03724c-19f1-4bcf-b222-2558134b730e div.sk-label label {font-family: monospace;font-weight: bold;background-color: white;display: inline-block;line-height: 1.2em;}#sk-bf03724c-19f1-4bcf-b222-2558134b730e div.sk-label-container {position: relative;z-index: 2;text-align: center;}#sk-bf03724c-19f1-4bcf-b222-2558134b730e div.sk-container {/* jupyter's `normalize.less` sets `[hidden] { display: none; }` but bootstrap.min.css set `[hidden] { display: none !important; }` so we also need the `!important` here to be able to override the default hidden behavior on the sphinx rendered scikit-learn.org. See: https://github.com/scikit-learn/scikit-learn/issues/21755 */display: inline-block !important;position: relative;}#sk-bf03724c-19f1-4bcf-b222-2558134b730e div.sk-text-repr-fallback {display: none;}</style><div id=\"sk-bf03724c-19f1-4bcf-b222-2558134b730e\" class=\"sk-top-container\"><div class=\"sk-text-repr-fallback\"><pre>Pipeline(steps=[(&#x27;columntransformer&#x27;,\n",
              "                 ColumnTransformer(remainder=&#x27;passthrough&#x27;,\n",
              "                                   transformers=[(&#x27;pipeline-1&#x27;,\n",
              "                                                  Pipeline(steps=[(&#x27;simpleimputer&#x27;,\n",
              "                                                                   SimpleImputer()),\n",
              "                                                                  (&#x27;standardscaler&#x27;,\n",
              "                                                                   StandardScaler())]),\n",
              "                                                  &lt;sklearn.compose._column_transformer.make_column_selector object at 0x7f011301be50&gt;),\n",
              "                                                 (&#x27;pipeline-2&#x27;,\n",
              "                                                  Pipeline(steps=[(&#x27;simpleimputer&#x27;,\n",
              "                                                                   SimpleImputer(strategy=&#x27;most_frequent&#x27;)),\n",
              "                                                                  (&#x27;onehotencoder&#x27;,\n",
              "                                                                   OneHotEncoder(handle_unknown=&#x27;ignore&#x27;,\n",
              "                                                                                 sparse=False))]),\n",
              "                                                  &lt;sklearn.compose._column_transformer.make_column_selector object at 0x7f0113029d60&gt;)])),\n",
              "                (&#x27;dummyregressor&#x27;, DummyRegressor())])</pre><b>Please rerun this cell to show the HTML repr or trust the notebook.</b></div><div class=\"sk-container\" hidden><div class=\"sk-item sk-dashed-wrapped\"><div class=\"sk-label-container\"><div class=\"sk-label sk-toggleable\"><input class=\"sk-toggleable__control sk-hidden--visually\" id=\"fe35c845-2a24-418b-a3aa-845b2bfc305f\" type=\"checkbox\" ><label for=\"fe35c845-2a24-418b-a3aa-845b2bfc305f\" class=\"sk-toggleable__label sk-toggleable__label-arrow\">Pipeline</label><div class=\"sk-toggleable__content\"><pre>Pipeline(steps=[(&#x27;columntransformer&#x27;,\n",
              "                 ColumnTransformer(remainder=&#x27;passthrough&#x27;,\n",
              "                                   transformers=[(&#x27;pipeline-1&#x27;,\n",
              "                                                  Pipeline(steps=[(&#x27;simpleimputer&#x27;,\n",
              "                                                                   SimpleImputer()),\n",
              "                                                                  (&#x27;standardscaler&#x27;,\n",
              "                                                                   StandardScaler())]),\n",
              "                                                  &lt;sklearn.compose._column_transformer.make_column_selector object at 0x7f011301be50&gt;),\n",
              "                                                 (&#x27;pipeline-2&#x27;,\n",
              "                                                  Pipeline(steps=[(&#x27;simpleimputer&#x27;,\n",
              "                                                                   SimpleImputer(strategy=&#x27;most_frequent&#x27;)),\n",
              "                                                                  (&#x27;onehotencoder&#x27;,\n",
              "                                                                   OneHotEncoder(handle_unknown=&#x27;ignore&#x27;,\n",
              "                                                                                 sparse=False))]),\n",
              "                                                  &lt;sklearn.compose._column_transformer.make_column_selector object at 0x7f0113029d60&gt;)])),\n",
              "                (&#x27;dummyregressor&#x27;, DummyRegressor())])</pre></div></div></div><div class=\"sk-serial\"><div class=\"sk-item sk-dashed-wrapped\"><div class=\"sk-label-container\"><div class=\"sk-label sk-toggleable\"><input class=\"sk-toggleable__control sk-hidden--visually\" id=\"0709bad3-9e82-4d2a-87a0-f30d753770e2\" type=\"checkbox\" ><label for=\"0709bad3-9e82-4d2a-87a0-f30d753770e2\" class=\"sk-toggleable__label sk-toggleable__label-arrow\">columntransformer: ColumnTransformer</label><div class=\"sk-toggleable__content\"><pre>ColumnTransformer(remainder=&#x27;passthrough&#x27;,\n",
              "                  transformers=[(&#x27;pipeline-1&#x27;,\n",
              "                                 Pipeline(steps=[(&#x27;simpleimputer&#x27;,\n",
              "                                                  SimpleImputer()),\n",
              "                                                 (&#x27;standardscaler&#x27;,\n",
              "                                                  StandardScaler())]),\n",
              "                                 &lt;sklearn.compose._column_transformer.make_column_selector object at 0x7f011301be50&gt;),\n",
              "                                (&#x27;pipeline-2&#x27;,\n",
              "                                 Pipeline(steps=[(&#x27;simpleimputer&#x27;,\n",
              "                                                  SimpleImputer(strategy=&#x27;most_frequent&#x27;)),\n",
              "                                                 (&#x27;onehotencoder&#x27;,\n",
              "                                                  OneHotEncoder(handle_unknown=&#x27;ignore&#x27;,\n",
              "                                                                sparse=False))]),\n",
              "                                 &lt;sklearn.compose._column_transformer.make_column_selector object at 0x7f0113029d60&gt;)])</pre></div></div></div><div class=\"sk-parallel\"><div class=\"sk-parallel-item\"><div class=\"sk-item\"><div class=\"sk-label-container\"><div class=\"sk-label sk-toggleable\"><input class=\"sk-toggleable__control sk-hidden--visually\" id=\"82048fc2-cc59-43ce-85cd-5c124ca37702\" type=\"checkbox\" ><label for=\"82048fc2-cc59-43ce-85cd-5c124ca37702\" class=\"sk-toggleable__label sk-toggleable__label-arrow\">pipeline-1</label><div class=\"sk-toggleable__content\"><pre>&lt;sklearn.compose._column_transformer.make_column_selector object at 0x7f011301be50&gt;</pre></div></div></div><div class=\"sk-serial\"><div class=\"sk-item\"><div class=\"sk-serial\"><div class=\"sk-item\"><div class=\"sk-estimator sk-toggleable\"><input class=\"sk-toggleable__control sk-hidden--visually\" id=\"451926d0-0977-42cc-9d92-680d9e1c8774\" type=\"checkbox\" ><label for=\"451926d0-0977-42cc-9d92-680d9e1c8774\" class=\"sk-toggleable__label sk-toggleable__label-arrow\">SimpleImputer</label><div class=\"sk-toggleable__content\"><pre>SimpleImputer()</pre></div></div></div><div class=\"sk-item\"><div class=\"sk-estimator sk-toggleable\"><input class=\"sk-toggleable__control sk-hidden--visually\" id=\"fda539eb-d323-4bd4-9a56-53d5b2b1b1e2\" type=\"checkbox\" ><label for=\"fda539eb-d323-4bd4-9a56-53d5b2b1b1e2\" class=\"sk-toggleable__label sk-toggleable__label-arrow\">StandardScaler</label><div class=\"sk-toggleable__content\"><pre>StandardScaler()</pre></div></div></div></div></div></div></div></div><div class=\"sk-parallel-item\"><div class=\"sk-item\"><div class=\"sk-label-container\"><div class=\"sk-label sk-toggleable\"><input class=\"sk-toggleable__control sk-hidden--visually\" id=\"93ffde6c-36df-4a92-b03f-b89179b61457\" type=\"checkbox\" ><label for=\"93ffde6c-36df-4a92-b03f-b89179b61457\" class=\"sk-toggleable__label sk-toggleable__label-arrow\">pipeline-2</label><div class=\"sk-toggleable__content\"><pre>&lt;sklearn.compose._column_transformer.make_column_selector object at 0x7f0113029d60&gt;</pre></div></div></div><div class=\"sk-serial\"><div class=\"sk-item\"><div class=\"sk-serial\"><div class=\"sk-item\"><div class=\"sk-estimator sk-toggleable\"><input class=\"sk-toggleable__control sk-hidden--visually\" id=\"8b0dc428-42b9-4736-b3aa-25212d6562f6\" type=\"checkbox\" ><label for=\"8b0dc428-42b9-4736-b3aa-25212d6562f6\" class=\"sk-toggleable__label sk-toggleable__label-arrow\">SimpleImputer</label><div class=\"sk-toggleable__content\"><pre>SimpleImputer(strategy=&#x27;most_frequent&#x27;)</pre></div></div></div><div class=\"sk-item\"><div class=\"sk-estimator sk-toggleable\"><input class=\"sk-toggleable__control sk-hidden--visually\" id=\"571d0fd6-aebd-4ed5-9b4f-bf427e02f6df\" type=\"checkbox\" ><label for=\"571d0fd6-aebd-4ed5-9b4f-bf427e02f6df\" class=\"sk-toggleable__label sk-toggleable__label-arrow\">OneHotEncoder</label><div class=\"sk-toggleable__content\"><pre>OneHotEncoder(handle_unknown=&#x27;ignore&#x27;, sparse=False)</pre></div></div></div></div></div></div></div></div><div class=\"sk-parallel-item\"><div class=\"sk-item\"><div class=\"sk-label-container\"><div class=\"sk-label sk-toggleable\"><input class=\"sk-toggleable__control sk-hidden--visually\" id=\"99f28227-7c7d-4bb5-9e78-7cc7484e3145\" type=\"checkbox\" ><label for=\"99f28227-7c7d-4bb5-9e78-7cc7484e3145\" class=\"sk-toggleable__label sk-toggleable__label-arrow\">remainder</label><div class=\"sk-toggleable__content\"><pre>[]</pre></div></div></div><div class=\"sk-serial\"><div class=\"sk-item\"><div class=\"sk-estimator sk-toggleable\"><input class=\"sk-toggleable__control sk-hidden--visually\" id=\"9806ed31-7120-47b4-bd5b-292b8b5e8d3e\" type=\"checkbox\" ><label for=\"9806ed31-7120-47b4-bd5b-292b8b5e8d3e\" class=\"sk-toggleable__label sk-toggleable__label-arrow\">passthrough</label><div class=\"sk-toggleable__content\"><pre>passthrough</pre></div></div></div></div></div></div></div></div><div class=\"sk-item\"><div class=\"sk-estimator sk-toggleable\"><input class=\"sk-toggleable__control sk-hidden--visually\" id=\"f862e4e4-4116-454c-b100-0b0fde87a81d\" type=\"checkbox\" ><label for=\"f862e4e4-4116-454c-b100-0b0fde87a81d\" class=\"sk-toggleable__label sk-toggleable__label-arrow\">DummyRegressor</label><div class=\"sk-toggleable__content\"><pre>DummyRegressor()</pre></div></div></div></div></div></div></div>"
            ]
          },
          "metadata": {},
          "execution_count": 23
        }
      ]
    },
    {
      "cell_type": "code",
      "source": [
        "from sklearn.metrics import r2_score\n",
        "from sklearn.metrics import mean_absolute_error\n",
        "from sklearn.metrics import mean_squared_error\n",
        "import numpy as np\n",
        "def errors(true, pred):\n",
        "  mae = mean_absolute_error(true, pred)\n",
        "  mse = mean_squared_error(true, pred)\n",
        "  rmse = np.sqrt(mse)\n",
        "  r2 = r2_score(true, pred)\n",
        "  print(f'MAE: {mae:,.2f} \\nMSE: {mse:,.2f} \\nRMSE: {rmse:,.2f} \\nR2: {r2:,.2f} ')"
      ],
      "metadata": {
        "id": "R035HFB8lbSL"
      },
      "execution_count": 24,
      "outputs": []
    },
    {
      "cell_type": "code",
      "source": [
        "errors(y_train, dummy_pipe.predict(X_train))"
      ],
      "metadata": {
        "id": "5fhXccM1YEd-",
        "colab": {
          "base_uri": "https://localhost:8080/"
        },
        "outputId": "32c308a9-228d-4376-d022-0051c0632e79"
      },
      "execution_count": 25,
      "outputs": [
        {
          "output_type": "stream",
          "name": "stdout",
          "text": [
            "MAE: 1,360.22 \n",
            "MSE: 2,959,455.70 \n",
            "RMSE: 1,720.31 \n",
            "R2: 0.00 \n"
          ]
        }
      ]
    },
    {
      "cell_type": "code",
      "source": [
        "from sklearn.linear_model import LinearRegression\n",
        "reg_pipe = make_pipeline(preprocessor, LinearRegression())"
      ],
      "metadata": {
        "id": "8-95AA6kganb"
      },
      "execution_count": 26,
      "outputs": []
    },
    {
      "cell_type": "code",
      "source": [
        "reg_pipe.fit(X_train, y_train)\n",
        "# taking the score\n",
        "train_score = reg_pipe.score(X_train, y_train)\n",
        "test_score = reg_pipe.score(X_test, y_test)\n",
        "print(train_score)\n",
        "print(test_score)"
      ],
      "metadata": {
        "id": "pW-bnMuQ3S6I",
        "colab": {
          "base_uri": "https://localhost:8080/"
        },
        "outputId": "3493fe72-785c-4299-fb31-d573c9632c52"
      },
      "execution_count": 27,
      "outputs": [
        {
          "output_type": "stream",
          "name": "stdout",
          "text": [
            "0.6718418212900412\n",
            "-1.3487031400345076e+16\n"
          ]
        }
      ]
    },
    {
      "cell_type": "code",
      "source": [
        "reg_preds = reg_pipe.predict(X_train)\n",
        "reg_predstest = reg_pipe.predict(X_test)"
      ],
      "metadata": {
        "id": "8beJe4L408Ym"
      },
      "execution_count": 28,
      "outputs": []
    },
    {
      "cell_type": "code",
      "source": [
        "from sklearn.tree import DecisionTreeRegressor\n",
        "dec_tree = DecisionTreeRegressor(random_state = 42)"
      ],
      "metadata": {
        "id": "xfeYAaKz9cm4"
      },
      "execution_count": 29,
      "outputs": []
    },
    {
      "cell_type": "code",
      "source": [
        "pipe_tree= make_pipeline(preprocessor, dec_tree)\n",
        "pipe_tree.fit(X_train,y_train)"
      ],
      "metadata": {
        "id": "El6oGuexG0La",
        "colab": {
          "base_uri": "https://localhost:8080/",
          "height": 227
        },
        "outputId": "bfb65ef9-6ef2-44dc-a509-498f9302ff1e"
      },
      "execution_count": 30,
      "outputs": [
        {
          "output_type": "execute_result",
          "data": {
            "text/plain": [
              "Pipeline(steps=[('columntransformer',\n",
              "                 ColumnTransformer(remainder='passthrough',\n",
              "                                   transformers=[('pipeline-1',\n",
              "                                                  Pipeline(steps=[('simpleimputer',\n",
              "                                                                   SimpleImputer()),\n",
              "                                                                  ('standardscaler',\n",
              "                                                                   StandardScaler())]),\n",
              "                                                  <sklearn.compose._column_transformer.make_column_selector object at 0x7f011301be50>),\n",
              "                                                 ('pipeline-2',\n",
              "                                                  Pipeline(steps=[('simpleimputer',\n",
              "                                                                   SimpleImputer(strategy='most_frequent')),\n",
              "                                                                  ('onehotencoder',\n",
              "                                                                   OneHotEncoder(handle_unknown='ignore',\n",
              "                                                                                 sparse=False))]),\n",
              "                                                  <sklearn.compose._column_transformer.make_column_selector object at 0x7f0113029d60>)])),\n",
              "                ('decisiontreeregressor',\n",
              "                 DecisionTreeRegressor(random_state=42))])"
            ],
            "text/html": [
              "<style>#sk-1a973a05-390d-44b8-8b03-fdae99c0c2e9 {color: black;background-color: white;}#sk-1a973a05-390d-44b8-8b03-fdae99c0c2e9 pre{padding: 0;}#sk-1a973a05-390d-44b8-8b03-fdae99c0c2e9 div.sk-toggleable {background-color: white;}#sk-1a973a05-390d-44b8-8b03-fdae99c0c2e9 label.sk-toggleable__label {cursor: pointer;display: block;width: 100%;margin-bottom: 0;padding: 0.3em;box-sizing: border-box;text-align: center;}#sk-1a973a05-390d-44b8-8b03-fdae99c0c2e9 label.sk-toggleable__label-arrow:before {content: \"▸\";float: left;margin-right: 0.25em;color: #696969;}#sk-1a973a05-390d-44b8-8b03-fdae99c0c2e9 label.sk-toggleable__label-arrow:hover:before {color: black;}#sk-1a973a05-390d-44b8-8b03-fdae99c0c2e9 div.sk-estimator:hover label.sk-toggleable__label-arrow:before {color: black;}#sk-1a973a05-390d-44b8-8b03-fdae99c0c2e9 div.sk-toggleable__content {max-height: 0;max-width: 0;overflow: hidden;text-align: left;background-color: #f0f8ff;}#sk-1a973a05-390d-44b8-8b03-fdae99c0c2e9 div.sk-toggleable__content pre {margin: 0.2em;color: black;border-radius: 0.25em;background-color: #f0f8ff;}#sk-1a973a05-390d-44b8-8b03-fdae99c0c2e9 input.sk-toggleable__control:checked~div.sk-toggleable__content {max-height: 200px;max-width: 100%;overflow: auto;}#sk-1a973a05-390d-44b8-8b03-fdae99c0c2e9 input.sk-toggleable__control:checked~label.sk-toggleable__label-arrow:before {content: \"▾\";}#sk-1a973a05-390d-44b8-8b03-fdae99c0c2e9 div.sk-estimator input.sk-toggleable__control:checked~label.sk-toggleable__label {background-color: #d4ebff;}#sk-1a973a05-390d-44b8-8b03-fdae99c0c2e9 div.sk-label input.sk-toggleable__control:checked~label.sk-toggleable__label {background-color: #d4ebff;}#sk-1a973a05-390d-44b8-8b03-fdae99c0c2e9 input.sk-hidden--visually {border: 0;clip: rect(1px 1px 1px 1px);clip: rect(1px, 1px, 1px, 1px);height: 1px;margin: -1px;overflow: hidden;padding: 0;position: absolute;width: 1px;}#sk-1a973a05-390d-44b8-8b03-fdae99c0c2e9 div.sk-estimator {font-family: monospace;background-color: #f0f8ff;border: 1px dotted black;border-radius: 0.25em;box-sizing: border-box;margin-bottom: 0.5em;}#sk-1a973a05-390d-44b8-8b03-fdae99c0c2e9 div.sk-estimator:hover {background-color: #d4ebff;}#sk-1a973a05-390d-44b8-8b03-fdae99c0c2e9 div.sk-parallel-item::after {content: \"\";width: 100%;border-bottom: 1px solid gray;flex-grow: 1;}#sk-1a973a05-390d-44b8-8b03-fdae99c0c2e9 div.sk-label:hover label.sk-toggleable__label {background-color: #d4ebff;}#sk-1a973a05-390d-44b8-8b03-fdae99c0c2e9 div.sk-serial::before {content: \"\";position: absolute;border-left: 1px solid gray;box-sizing: border-box;top: 2em;bottom: 0;left: 50%;}#sk-1a973a05-390d-44b8-8b03-fdae99c0c2e9 div.sk-serial {display: flex;flex-direction: column;align-items: center;background-color: white;padding-right: 0.2em;padding-left: 0.2em;}#sk-1a973a05-390d-44b8-8b03-fdae99c0c2e9 div.sk-item {z-index: 1;}#sk-1a973a05-390d-44b8-8b03-fdae99c0c2e9 div.sk-parallel {display: flex;align-items: stretch;justify-content: center;background-color: white;}#sk-1a973a05-390d-44b8-8b03-fdae99c0c2e9 div.sk-parallel::before {content: \"\";position: absolute;border-left: 1px solid gray;box-sizing: border-box;top: 2em;bottom: 0;left: 50%;}#sk-1a973a05-390d-44b8-8b03-fdae99c0c2e9 div.sk-parallel-item {display: flex;flex-direction: column;position: relative;background-color: white;}#sk-1a973a05-390d-44b8-8b03-fdae99c0c2e9 div.sk-parallel-item:first-child::after {align-self: flex-end;width: 50%;}#sk-1a973a05-390d-44b8-8b03-fdae99c0c2e9 div.sk-parallel-item:last-child::after {align-self: flex-start;width: 50%;}#sk-1a973a05-390d-44b8-8b03-fdae99c0c2e9 div.sk-parallel-item:only-child::after {width: 0;}#sk-1a973a05-390d-44b8-8b03-fdae99c0c2e9 div.sk-dashed-wrapped {border: 1px dashed gray;margin: 0 0.4em 0.5em 0.4em;box-sizing: border-box;padding-bottom: 0.4em;background-color: white;position: relative;}#sk-1a973a05-390d-44b8-8b03-fdae99c0c2e9 div.sk-label label {font-family: monospace;font-weight: bold;background-color: white;display: inline-block;line-height: 1.2em;}#sk-1a973a05-390d-44b8-8b03-fdae99c0c2e9 div.sk-label-container {position: relative;z-index: 2;text-align: center;}#sk-1a973a05-390d-44b8-8b03-fdae99c0c2e9 div.sk-container {/* jupyter's `normalize.less` sets `[hidden] { display: none; }` but bootstrap.min.css set `[hidden] { display: none !important; }` so we also need the `!important` here to be able to override the default hidden behavior on the sphinx rendered scikit-learn.org. See: https://github.com/scikit-learn/scikit-learn/issues/21755 */display: inline-block !important;position: relative;}#sk-1a973a05-390d-44b8-8b03-fdae99c0c2e9 div.sk-text-repr-fallback {display: none;}</style><div id=\"sk-1a973a05-390d-44b8-8b03-fdae99c0c2e9\" class=\"sk-top-container\"><div class=\"sk-text-repr-fallback\"><pre>Pipeline(steps=[(&#x27;columntransformer&#x27;,\n",
              "                 ColumnTransformer(remainder=&#x27;passthrough&#x27;,\n",
              "                                   transformers=[(&#x27;pipeline-1&#x27;,\n",
              "                                                  Pipeline(steps=[(&#x27;simpleimputer&#x27;,\n",
              "                                                                   SimpleImputer()),\n",
              "                                                                  (&#x27;standardscaler&#x27;,\n",
              "                                                                   StandardScaler())]),\n",
              "                                                  &lt;sklearn.compose._column_transformer.make_column_selector object at 0x7f011301be50&gt;),\n",
              "                                                 (&#x27;pipeline-2&#x27;,\n",
              "                                                  Pipeline(steps=[(&#x27;simpleimputer&#x27;,\n",
              "                                                                   SimpleImputer(strategy=&#x27;most_frequent&#x27;)),\n",
              "                                                                  (&#x27;onehotencoder&#x27;,\n",
              "                                                                   OneHotEncoder(handle_unknown=&#x27;ignore&#x27;,\n",
              "                                                                                 sparse=False))]),\n",
              "                                                  &lt;sklearn.compose._column_transformer.make_column_selector object at 0x7f0113029d60&gt;)])),\n",
              "                (&#x27;decisiontreeregressor&#x27;,\n",
              "                 DecisionTreeRegressor(random_state=42))])</pre><b>Please rerun this cell to show the HTML repr or trust the notebook.</b></div><div class=\"sk-container\" hidden><div class=\"sk-item sk-dashed-wrapped\"><div class=\"sk-label-container\"><div class=\"sk-label sk-toggleable\"><input class=\"sk-toggleable__control sk-hidden--visually\" id=\"d6aa69f5-151c-4bf7-a69a-bc381d7b3fb6\" type=\"checkbox\" ><label for=\"d6aa69f5-151c-4bf7-a69a-bc381d7b3fb6\" class=\"sk-toggleable__label sk-toggleable__label-arrow\">Pipeline</label><div class=\"sk-toggleable__content\"><pre>Pipeline(steps=[(&#x27;columntransformer&#x27;,\n",
              "                 ColumnTransformer(remainder=&#x27;passthrough&#x27;,\n",
              "                                   transformers=[(&#x27;pipeline-1&#x27;,\n",
              "                                                  Pipeline(steps=[(&#x27;simpleimputer&#x27;,\n",
              "                                                                   SimpleImputer()),\n",
              "                                                                  (&#x27;standardscaler&#x27;,\n",
              "                                                                   StandardScaler())]),\n",
              "                                                  &lt;sklearn.compose._column_transformer.make_column_selector object at 0x7f011301be50&gt;),\n",
              "                                                 (&#x27;pipeline-2&#x27;,\n",
              "                                                  Pipeline(steps=[(&#x27;simpleimputer&#x27;,\n",
              "                                                                   SimpleImputer(strategy=&#x27;most_frequent&#x27;)),\n",
              "                                                                  (&#x27;onehotencoder&#x27;,\n",
              "                                                                   OneHotEncoder(handle_unknown=&#x27;ignore&#x27;,\n",
              "                                                                                 sparse=False))]),\n",
              "                                                  &lt;sklearn.compose._column_transformer.make_column_selector object at 0x7f0113029d60&gt;)])),\n",
              "                (&#x27;decisiontreeregressor&#x27;,\n",
              "                 DecisionTreeRegressor(random_state=42))])</pre></div></div></div><div class=\"sk-serial\"><div class=\"sk-item sk-dashed-wrapped\"><div class=\"sk-label-container\"><div class=\"sk-label sk-toggleable\"><input class=\"sk-toggleable__control sk-hidden--visually\" id=\"d2328b04-5404-4a6c-ba16-6aebc98c748d\" type=\"checkbox\" ><label for=\"d2328b04-5404-4a6c-ba16-6aebc98c748d\" class=\"sk-toggleable__label sk-toggleable__label-arrow\">columntransformer: ColumnTransformer</label><div class=\"sk-toggleable__content\"><pre>ColumnTransformer(remainder=&#x27;passthrough&#x27;,\n",
              "                  transformers=[(&#x27;pipeline-1&#x27;,\n",
              "                                 Pipeline(steps=[(&#x27;simpleimputer&#x27;,\n",
              "                                                  SimpleImputer()),\n",
              "                                                 (&#x27;standardscaler&#x27;,\n",
              "                                                  StandardScaler())]),\n",
              "                                 &lt;sklearn.compose._column_transformer.make_column_selector object at 0x7f011301be50&gt;),\n",
              "                                (&#x27;pipeline-2&#x27;,\n",
              "                                 Pipeline(steps=[(&#x27;simpleimputer&#x27;,\n",
              "                                                  SimpleImputer(strategy=&#x27;most_frequent&#x27;)),\n",
              "                                                 (&#x27;onehotencoder&#x27;,\n",
              "                                                  OneHotEncoder(handle_unknown=&#x27;ignore&#x27;,\n",
              "                                                                sparse=False))]),\n",
              "                                 &lt;sklearn.compose._column_transformer.make_column_selector object at 0x7f0113029d60&gt;)])</pre></div></div></div><div class=\"sk-parallel\"><div class=\"sk-parallel-item\"><div class=\"sk-item\"><div class=\"sk-label-container\"><div class=\"sk-label sk-toggleable\"><input class=\"sk-toggleable__control sk-hidden--visually\" id=\"4597a852-0509-4704-9e73-f738630cd735\" type=\"checkbox\" ><label for=\"4597a852-0509-4704-9e73-f738630cd735\" class=\"sk-toggleable__label sk-toggleable__label-arrow\">pipeline-1</label><div class=\"sk-toggleable__content\"><pre>&lt;sklearn.compose._column_transformer.make_column_selector object at 0x7f011301be50&gt;</pre></div></div></div><div class=\"sk-serial\"><div class=\"sk-item\"><div class=\"sk-serial\"><div class=\"sk-item\"><div class=\"sk-estimator sk-toggleable\"><input class=\"sk-toggleable__control sk-hidden--visually\" id=\"c3106a88-ae64-4702-bb11-3037e7e1a4bd\" type=\"checkbox\" ><label for=\"c3106a88-ae64-4702-bb11-3037e7e1a4bd\" class=\"sk-toggleable__label sk-toggleable__label-arrow\">SimpleImputer</label><div class=\"sk-toggleable__content\"><pre>SimpleImputer()</pre></div></div></div><div class=\"sk-item\"><div class=\"sk-estimator sk-toggleable\"><input class=\"sk-toggleable__control sk-hidden--visually\" id=\"ef610db9-b0d3-40e9-af49-384348490694\" type=\"checkbox\" ><label for=\"ef610db9-b0d3-40e9-af49-384348490694\" class=\"sk-toggleable__label sk-toggleable__label-arrow\">StandardScaler</label><div class=\"sk-toggleable__content\"><pre>StandardScaler()</pre></div></div></div></div></div></div></div></div><div class=\"sk-parallel-item\"><div class=\"sk-item\"><div class=\"sk-label-container\"><div class=\"sk-label sk-toggleable\"><input class=\"sk-toggleable__control sk-hidden--visually\" id=\"681795d8-d6ed-453d-9805-045dfe8dfd11\" type=\"checkbox\" ><label for=\"681795d8-d6ed-453d-9805-045dfe8dfd11\" class=\"sk-toggleable__label sk-toggleable__label-arrow\">pipeline-2</label><div class=\"sk-toggleable__content\"><pre>&lt;sklearn.compose._column_transformer.make_column_selector object at 0x7f0113029d60&gt;</pre></div></div></div><div class=\"sk-serial\"><div class=\"sk-item\"><div class=\"sk-serial\"><div class=\"sk-item\"><div class=\"sk-estimator sk-toggleable\"><input class=\"sk-toggleable__control sk-hidden--visually\" id=\"dc7099a3-0865-4cd2-a649-ad7c5cb15732\" type=\"checkbox\" ><label for=\"dc7099a3-0865-4cd2-a649-ad7c5cb15732\" class=\"sk-toggleable__label sk-toggleable__label-arrow\">SimpleImputer</label><div class=\"sk-toggleable__content\"><pre>SimpleImputer(strategy=&#x27;most_frequent&#x27;)</pre></div></div></div><div class=\"sk-item\"><div class=\"sk-estimator sk-toggleable\"><input class=\"sk-toggleable__control sk-hidden--visually\" id=\"2408b4bc-b545-4449-b6e8-85e27c0eec69\" type=\"checkbox\" ><label for=\"2408b4bc-b545-4449-b6e8-85e27c0eec69\" class=\"sk-toggleable__label sk-toggleable__label-arrow\">OneHotEncoder</label><div class=\"sk-toggleable__content\"><pre>OneHotEncoder(handle_unknown=&#x27;ignore&#x27;, sparse=False)</pre></div></div></div></div></div></div></div></div><div class=\"sk-parallel-item\"><div class=\"sk-item\"><div class=\"sk-label-container\"><div class=\"sk-label sk-toggleable\"><input class=\"sk-toggleable__control sk-hidden--visually\" id=\"67e8e0d6-a112-452d-ab93-2081aab6f458\" type=\"checkbox\" ><label for=\"67e8e0d6-a112-452d-ab93-2081aab6f458\" class=\"sk-toggleable__label sk-toggleable__label-arrow\">remainder</label><div class=\"sk-toggleable__content\"><pre>[]</pre></div></div></div><div class=\"sk-serial\"><div class=\"sk-item\"><div class=\"sk-estimator sk-toggleable\"><input class=\"sk-toggleable__control sk-hidden--visually\" id=\"05b54e59-2b1e-4e61-af69-e16e234e6d92\" type=\"checkbox\" ><label for=\"05b54e59-2b1e-4e61-af69-e16e234e6d92\" class=\"sk-toggleable__label sk-toggleable__label-arrow\">passthrough</label><div class=\"sk-toggleable__content\"><pre>passthrough</pre></div></div></div></div></div></div></div></div><div class=\"sk-item\"><div class=\"sk-estimator sk-toggleable\"><input class=\"sk-toggleable__control sk-hidden--visually\" id=\"57937e0e-eb18-4bb9-b432-46e432191df6\" type=\"checkbox\" ><label for=\"57937e0e-eb18-4bb9-b432-46e432191df6\" class=\"sk-toggleable__label sk-toggleable__label-arrow\">DecisionTreeRegressor</label><div class=\"sk-toggleable__content\"><pre>DecisionTreeRegressor(random_state=42)</pre></div></div></div></div></div></div></div>"
            ]
          },
          "metadata": {},
          "execution_count": 30
        }
      ]
    },
    {
      "cell_type": "code",
      "source": [
        "# lst's test our thee\n",
        "train_score_tree = pipe_tree.score(X_train, y_train)\n",
        "test_score_tree = pipe_tree.score(X_test, y_test)\n",
        "print(train_score_tree)\n",
        "print(test_score_tree)"
      ],
      "metadata": {
        "id": "EzG8arYnITeK",
        "colab": {
          "base_uri": "https://localhost:8080/"
        },
        "outputId": "a1eb2e33-5287-4575-bf14-cae187df5f9c"
      },
      "execution_count": 31,
      "outputs": [
        {
          "output_type": "stream",
          "name": "stdout",
          "text": [
            "1.0\n",
            "0.22560314645107293\n"
          ]
        }
      ]
    },
    {
      "cell_type": "code",
      "source": [
        "highest_r2 = 0\n",
        "for depth in range(1, 100):\n",
        "  dec_tree = DecisionTreeRegressor(max_depth = depth, random_state = 42)\n",
        "  pipe_tree = make_pipeline(preprocessor, dec_tree)\n",
        "  pipe_tree.fit(X_train, y_train)\n",
        "  train_score = pipe_tree.score(X_train, y_train)\n",
        "  test_score = pipe_tree.score(X_test, y_test)\n",
        "  if(highest_r2 < test_score):\n",
        "    highest_r2 = test_score\n",
        "    final_depth = depth\n",
        "    final_dec_tree = pipe_tree\n",
        "print(final_depth)\n",
        "print(highest_r2)\n"
      ],
      "metadata": {
        "colab": {
          "base_uri": "https://localhost:8080/"
        },
        "id": "vl1QWl-_L8aR",
        "outputId": "0164c96d-f1cd-4847-ddb2-13903d43ac13"
      },
      "execution_count": 40,
      "outputs": [
        {
          "output_type": "stream",
          "name": "stdout",
          "text": [
            "5\n",
            "0.5960564372160062\n"
          ]
        }
      ]
    },
    {
      "cell_type": "code",
      "source": [
        "from sklearn.ensemble import RandomForestRegressor\n",
        "rf = RandomForestRegressor(random_state = 42)\n",
        "# let's make a pitpline\n",
        "rf_pipe = make_pipeline(preprocessor,rf)\n",
        "rf_pipe.fit(X_train, y_train)"
      ],
      "metadata": {
        "id": "84u77lZ44kVn",
        "outputId": "e5cfd034-746c-4074-e23f-7b75c3fba827",
        "colab": {
          "base_uri": "https://localhost:8080/",
          "height": 227
        }
      },
      "execution_count": 33,
      "outputs": [
        {
          "output_type": "execute_result",
          "data": {
            "text/plain": [
              "Pipeline(steps=[('columntransformer',\n",
              "                 ColumnTransformer(remainder='passthrough',\n",
              "                                   transformers=[('pipeline-1',\n",
              "                                                  Pipeline(steps=[('simpleimputer',\n",
              "                                                                   SimpleImputer()),\n",
              "                                                                  ('standardscaler',\n",
              "                                                                   StandardScaler())]),\n",
              "                                                  <sklearn.compose._column_transformer.make_column_selector object at 0x7f011301be50>),\n",
              "                                                 ('pipeline-2',\n",
              "                                                  Pipeline(steps=[('simpleimputer',\n",
              "                                                                   SimpleImputer(strategy='most_frequent')),\n",
              "                                                                  ('onehotencoder',\n",
              "                                                                   OneHotEncoder(handle_unknown='ignore',\n",
              "                                                                                 sparse=False))]),\n",
              "                                                  <sklearn.compose._column_transformer.make_column_selector object at 0x7f0113029d60>)])),\n",
              "                ('randomforestregressor',\n",
              "                 RandomForestRegressor(random_state=42))])"
            ],
            "text/html": [
              "<style>#sk-39de1d46-e045-40f0-be85-767e99cd7216 {color: black;background-color: white;}#sk-39de1d46-e045-40f0-be85-767e99cd7216 pre{padding: 0;}#sk-39de1d46-e045-40f0-be85-767e99cd7216 div.sk-toggleable {background-color: white;}#sk-39de1d46-e045-40f0-be85-767e99cd7216 label.sk-toggleable__label {cursor: pointer;display: block;width: 100%;margin-bottom: 0;padding: 0.3em;box-sizing: border-box;text-align: center;}#sk-39de1d46-e045-40f0-be85-767e99cd7216 label.sk-toggleable__label-arrow:before {content: \"▸\";float: left;margin-right: 0.25em;color: #696969;}#sk-39de1d46-e045-40f0-be85-767e99cd7216 label.sk-toggleable__label-arrow:hover:before {color: black;}#sk-39de1d46-e045-40f0-be85-767e99cd7216 div.sk-estimator:hover label.sk-toggleable__label-arrow:before {color: black;}#sk-39de1d46-e045-40f0-be85-767e99cd7216 div.sk-toggleable__content {max-height: 0;max-width: 0;overflow: hidden;text-align: left;background-color: #f0f8ff;}#sk-39de1d46-e045-40f0-be85-767e99cd7216 div.sk-toggleable__content pre {margin: 0.2em;color: black;border-radius: 0.25em;background-color: #f0f8ff;}#sk-39de1d46-e045-40f0-be85-767e99cd7216 input.sk-toggleable__control:checked~div.sk-toggleable__content {max-height: 200px;max-width: 100%;overflow: auto;}#sk-39de1d46-e045-40f0-be85-767e99cd7216 input.sk-toggleable__control:checked~label.sk-toggleable__label-arrow:before {content: \"▾\";}#sk-39de1d46-e045-40f0-be85-767e99cd7216 div.sk-estimator input.sk-toggleable__control:checked~label.sk-toggleable__label {background-color: #d4ebff;}#sk-39de1d46-e045-40f0-be85-767e99cd7216 div.sk-label input.sk-toggleable__control:checked~label.sk-toggleable__label {background-color: #d4ebff;}#sk-39de1d46-e045-40f0-be85-767e99cd7216 input.sk-hidden--visually {border: 0;clip: rect(1px 1px 1px 1px);clip: rect(1px, 1px, 1px, 1px);height: 1px;margin: -1px;overflow: hidden;padding: 0;position: absolute;width: 1px;}#sk-39de1d46-e045-40f0-be85-767e99cd7216 div.sk-estimator {font-family: monospace;background-color: #f0f8ff;border: 1px dotted black;border-radius: 0.25em;box-sizing: border-box;margin-bottom: 0.5em;}#sk-39de1d46-e045-40f0-be85-767e99cd7216 div.sk-estimator:hover {background-color: #d4ebff;}#sk-39de1d46-e045-40f0-be85-767e99cd7216 div.sk-parallel-item::after {content: \"\";width: 100%;border-bottom: 1px solid gray;flex-grow: 1;}#sk-39de1d46-e045-40f0-be85-767e99cd7216 div.sk-label:hover label.sk-toggleable__label {background-color: #d4ebff;}#sk-39de1d46-e045-40f0-be85-767e99cd7216 div.sk-serial::before {content: \"\";position: absolute;border-left: 1px solid gray;box-sizing: border-box;top: 2em;bottom: 0;left: 50%;}#sk-39de1d46-e045-40f0-be85-767e99cd7216 div.sk-serial {display: flex;flex-direction: column;align-items: center;background-color: white;padding-right: 0.2em;padding-left: 0.2em;}#sk-39de1d46-e045-40f0-be85-767e99cd7216 div.sk-item {z-index: 1;}#sk-39de1d46-e045-40f0-be85-767e99cd7216 div.sk-parallel {display: flex;align-items: stretch;justify-content: center;background-color: white;}#sk-39de1d46-e045-40f0-be85-767e99cd7216 div.sk-parallel::before {content: \"\";position: absolute;border-left: 1px solid gray;box-sizing: border-box;top: 2em;bottom: 0;left: 50%;}#sk-39de1d46-e045-40f0-be85-767e99cd7216 div.sk-parallel-item {display: flex;flex-direction: column;position: relative;background-color: white;}#sk-39de1d46-e045-40f0-be85-767e99cd7216 div.sk-parallel-item:first-child::after {align-self: flex-end;width: 50%;}#sk-39de1d46-e045-40f0-be85-767e99cd7216 div.sk-parallel-item:last-child::after {align-self: flex-start;width: 50%;}#sk-39de1d46-e045-40f0-be85-767e99cd7216 div.sk-parallel-item:only-child::after {width: 0;}#sk-39de1d46-e045-40f0-be85-767e99cd7216 div.sk-dashed-wrapped {border: 1px dashed gray;margin: 0 0.4em 0.5em 0.4em;box-sizing: border-box;padding-bottom: 0.4em;background-color: white;position: relative;}#sk-39de1d46-e045-40f0-be85-767e99cd7216 div.sk-label label {font-family: monospace;font-weight: bold;background-color: white;display: inline-block;line-height: 1.2em;}#sk-39de1d46-e045-40f0-be85-767e99cd7216 div.sk-label-container {position: relative;z-index: 2;text-align: center;}#sk-39de1d46-e045-40f0-be85-767e99cd7216 div.sk-container {/* jupyter's `normalize.less` sets `[hidden] { display: none; }` but bootstrap.min.css set `[hidden] { display: none !important; }` so we also need the `!important` here to be able to override the default hidden behavior on the sphinx rendered scikit-learn.org. See: https://github.com/scikit-learn/scikit-learn/issues/21755 */display: inline-block !important;position: relative;}#sk-39de1d46-e045-40f0-be85-767e99cd7216 div.sk-text-repr-fallback {display: none;}</style><div id=\"sk-39de1d46-e045-40f0-be85-767e99cd7216\" class=\"sk-top-container\"><div class=\"sk-text-repr-fallback\"><pre>Pipeline(steps=[(&#x27;columntransformer&#x27;,\n",
              "                 ColumnTransformer(remainder=&#x27;passthrough&#x27;,\n",
              "                                   transformers=[(&#x27;pipeline-1&#x27;,\n",
              "                                                  Pipeline(steps=[(&#x27;simpleimputer&#x27;,\n",
              "                                                                   SimpleImputer()),\n",
              "                                                                  (&#x27;standardscaler&#x27;,\n",
              "                                                                   StandardScaler())]),\n",
              "                                                  &lt;sklearn.compose._column_transformer.make_column_selector object at 0x7f011301be50&gt;),\n",
              "                                                 (&#x27;pipeline-2&#x27;,\n",
              "                                                  Pipeline(steps=[(&#x27;simpleimputer&#x27;,\n",
              "                                                                   SimpleImputer(strategy=&#x27;most_frequent&#x27;)),\n",
              "                                                                  (&#x27;onehotencoder&#x27;,\n",
              "                                                                   OneHotEncoder(handle_unknown=&#x27;ignore&#x27;,\n",
              "                                                                                 sparse=False))]),\n",
              "                                                  &lt;sklearn.compose._column_transformer.make_column_selector object at 0x7f0113029d60&gt;)])),\n",
              "                (&#x27;randomforestregressor&#x27;,\n",
              "                 RandomForestRegressor(random_state=42))])</pre><b>Please rerun this cell to show the HTML repr or trust the notebook.</b></div><div class=\"sk-container\" hidden><div class=\"sk-item sk-dashed-wrapped\"><div class=\"sk-label-container\"><div class=\"sk-label sk-toggleable\"><input class=\"sk-toggleable__control sk-hidden--visually\" id=\"f5dca73b-2c92-4ac4-aa25-d9d62c3455a4\" type=\"checkbox\" ><label for=\"f5dca73b-2c92-4ac4-aa25-d9d62c3455a4\" class=\"sk-toggleable__label sk-toggleable__label-arrow\">Pipeline</label><div class=\"sk-toggleable__content\"><pre>Pipeline(steps=[(&#x27;columntransformer&#x27;,\n",
              "                 ColumnTransformer(remainder=&#x27;passthrough&#x27;,\n",
              "                                   transformers=[(&#x27;pipeline-1&#x27;,\n",
              "                                                  Pipeline(steps=[(&#x27;simpleimputer&#x27;,\n",
              "                                                                   SimpleImputer()),\n",
              "                                                                  (&#x27;standardscaler&#x27;,\n",
              "                                                                   StandardScaler())]),\n",
              "                                                  &lt;sklearn.compose._column_transformer.make_column_selector object at 0x7f011301be50&gt;),\n",
              "                                                 (&#x27;pipeline-2&#x27;,\n",
              "                                                  Pipeline(steps=[(&#x27;simpleimputer&#x27;,\n",
              "                                                                   SimpleImputer(strategy=&#x27;most_frequent&#x27;)),\n",
              "                                                                  (&#x27;onehotencoder&#x27;,\n",
              "                                                                   OneHotEncoder(handle_unknown=&#x27;ignore&#x27;,\n",
              "                                                                                 sparse=False))]),\n",
              "                                                  &lt;sklearn.compose._column_transformer.make_column_selector object at 0x7f0113029d60&gt;)])),\n",
              "                (&#x27;randomforestregressor&#x27;,\n",
              "                 RandomForestRegressor(random_state=42))])</pre></div></div></div><div class=\"sk-serial\"><div class=\"sk-item sk-dashed-wrapped\"><div class=\"sk-label-container\"><div class=\"sk-label sk-toggleable\"><input class=\"sk-toggleable__control sk-hidden--visually\" id=\"925a5bff-f93b-4a3b-8749-6ab6f282863c\" type=\"checkbox\" ><label for=\"925a5bff-f93b-4a3b-8749-6ab6f282863c\" class=\"sk-toggleable__label sk-toggleable__label-arrow\">columntransformer: ColumnTransformer</label><div class=\"sk-toggleable__content\"><pre>ColumnTransformer(remainder=&#x27;passthrough&#x27;,\n",
              "                  transformers=[(&#x27;pipeline-1&#x27;,\n",
              "                                 Pipeline(steps=[(&#x27;simpleimputer&#x27;,\n",
              "                                                  SimpleImputer()),\n",
              "                                                 (&#x27;standardscaler&#x27;,\n",
              "                                                  StandardScaler())]),\n",
              "                                 &lt;sklearn.compose._column_transformer.make_column_selector object at 0x7f011301be50&gt;),\n",
              "                                (&#x27;pipeline-2&#x27;,\n",
              "                                 Pipeline(steps=[(&#x27;simpleimputer&#x27;,\n",
              "                                                  SimpleImputer(strategy=&#x27;most_frequent&#x27;)),\n",
              "                                                 (&#x27;onehotencoder&#x27;,\n",
              "                                                  OneHotEncoder(handle_unknown=&#x27;ignore&#x27;,\n",
              "                                                                sparse=False))]),\n",
              "                                 &lt;sklearn.compose._column_transformer.make_column_selector object at 0x7f0113029d60&gt;)])</pre></div></div></div><div class=\"sk-parallel\"><div class=\"sk-parallel-item\"><div class=\"sk-item\"><div class=\"sk-label-container\"><div class=\"sk-label sk-toggleable\"><input class=\"sk-toggleable__control sk-hidden--visually\" id=\"eeadc423-07b3-4882-b35b-ec471909fcfa\" type=\"checkbox\" ><label for=\"eeadc423-07b3-4882-b35b-ec471909fcfa\" class=\"sk-toggleable__label sk-toggleable__label-arrow\">pipeline-1</label><div class=\"sk-toggleable__content\"><pre>&lt;sklearn.compose._column_transformer.make_column_selector object at 0x7f011301be50&gt;</pre></div></div></div><div class=\"sk-serial\"><div class=\"sk-item\"><div class=\"sk-serial\"><div class=\"sk-item\"><div class=\"sk-estimator sk-toggleable\"><input class=\"sk-toggleable__control sk-hidden--visually\" id=\"755a8ad5-746b-40bf-927a-4ed26b6025be\" type=\"checkbox\" ><label for=\"755a8ad5-746b-40bf-927a-4ed26b6025be\" class=\"sk-toggleable__label sk-toggleable__label-arrow\">SimpleImputer</label><div class=\"sk-toggleable__content\"><pre>SimpleImputer()</pre></div></div></div><div class=\"sk-item\"><div class=\"sk-estimator sk-toggleable\"><input class=\"sk-toggleable__control sk-hidden--visually\" id=\"92828bd8-66b6-4d7b-82b8-0dc8793f300c\" type=\"checkbox\" ><label for=\"92828bd8-66b6-4d7b-82b8-0dc8793f300c\" class=\"sk-toggleable__label sk-toggleable__label-arrow\">StandardScaler</label><div class=\"sk-toggleable__content\"><pre>StandardScaler()</pre></div></div></div></div></div></div></div></div><div class=\"sk-parallel-item\"><div class=\"sk-item\"><div class=\"sk-label-container\"><div class=\"sk-label sk-toggleable\"><input class=\"sk-toggleable__control sk-hidden--visually\" id=\"7d164815-b2e3-46f8-be48-d24b41e130b1\" type=\"checkbox\" ><label for=\"7d164815-b2e3-46f8-be48-d24b41e130b1\" class=\"sk-toggleable__label sk-toggleable__label-arrow\">pipeline-2</label><div class=\"sk-toggleable__content\"><pre>&lt;sklearn.compose._column_transformer.make_column_selector object at 0x7f0113029d60&gt;</pre></div></div></div><div class=\"sk-serial\"><div class=\"sk-item\"><div class=\"sk-serial\"><div class=\"sk-item\"><div class=\"sk-estimator sk-toggleable\"><input class=\"sk-toggleable__control sk-hidden--visually\" id=\"a7da2c68-de15-4270-ac8d-3eccffcfdc68\" type=\"checkbox\" ><label for=\"a7da2c68-de15-4270-ac8d-3eccffcfdc68\" class=\"sk-toggleable__label sk-toggleable__label-arrow\">SimpleImputer</label><div class=\"sk-toggleable__content\"><pre>SimpleImputer(strategy=&#x27;most_frequent&#x27;)</pre></div></div></div><div class=\"sk-item\"><div class=\"sk-estimator sk-toggleable\"><input class=\"sk-toggleable__control sk-hidden--visually\" id=\"88e39b4c-51a8-4a9b-89a3-1ee8493ac406\" type=\"checkbox\" ><label for=\"88e39b4c-51a8-4a9b-89a3-1ee8493ac406\" class=\"sk-toggleable__label sk-toggleable__label-arrow\">OneHotEncoder</label><div class=\"sk-toggleable__content\"><pre>OneHotEncoder(handle_unknown=&#x27;ignore&#x27;, sparse=False)</pre></div></div></div></div></div></div></div></div><div class=\"sk-parallel-item\"><div class=\"sk-item\"><div class=\"sk-label-container\"><div class=\"sk-label sk-toggleable\"><input class=\"sk-toggleable__control sk-hidden--visually\" id=\"be0308e4-db24-4621-baca-f7effcbccc86\" type=\"checkbox\" ><label for=\"be0308e4-db24-4621-baca-f7effcbccc86\" class=\"sk-toggleable__label sk-toggleable__label-arrow\">remainder</label><div class=\"sk-toggleable__content\"><pre>[]</pre></div></div></div><div class=\"sk-serial\"><div class=\"sk-item\"><div class=\"sk-estimator sk-toggleable\"><input class=\"sk-toggleable__control sk-hidden--visually\" id=\"1fad3e20-e253-4ada-aee0-2fdfcc3b61ec\" type=\"checkbox\" ><label for=\"1fad3e20-e253-4ada-aee0-2fdfcc3b61ec\" class=\"sk-toggleable__label sk-toggleable__label-arrow\">passthrough</label><div class=\"sk-toggleable__content\"><pre>passthrough</pre></div></div></div></div></div></div></div></div><div class=\"sk-item\"><div class=\"sk-estimator sk-toggleable\"><input class=\"sk-toggleable__control sk-hidden--visually\" id=\"126eb473-d79b-44b9-a6d5-3f9220a4ba3a\" type=\"checkbox\" ><label for=\"126eb473-d79b-44b9-a6d5-3f9220a4ba3a\" class=\"sk-toggleable__label sk-toggleable__label-arrow\">RandomForestRegressor</label><div class=\"sk-toggleable__content\"><pre>RandomForestRegressor(random_state=42)</pre></div></div></div></div></div></div></div>"
            ]
          },
          "metadata": {},
          "execution_count": 33
        }
      ]
    },
    {
      "cell_type": "code",
      "source": [
        "rf_train_score = rf_pipe.score(X_train, y_train)\n",
        "rf_test_score = rf_pipe.score(X_test, y_test)\n",
        "print(rf_train_score)\n",
        "print(rf_test_score)"
      ],
      "metadata": {
        "id": "QB5C6IsS5ol-",
        "colab": {
          "base_uri": "https://localhost:8080/"
        },
        "outputId": "9805161b-d7ca-43d5-8075-2f6954c93644"
      },
      "execution_count": 34,
      "outputs": [
        {
          "output_type": "stream",
          "name": "stdout",
          "text": [
            "0.9380427510462691\n",
            "0.5505967742335891\n"
          ]
        }
      ]
    },
    {
      "cell_type": "code",
      "source": [
        "# maybe this was a bad idea \n",
        "train_r2 = []\n",
        "test_r2 = []\n",
        "for depth in range(1, 100):\n",
        "  print(depth)\n",
        "  forest = RandomForestRegressor(\n",
        "      max_depth = depth, \n",
        "      random_state = 42\n",
        "      )\n",
        "  pipe = make_pipeline(\n",
        "      preprocessor, forest\n",
        "      )\n",
        "  pipe.fit(X_train, y_train)\n",
        "  train_r2.append( \n",
        "      pipe.score(X_train, y_train) ) \n",
        "  test_r2.append( \n",
        "      pipe.score(X_test, y_test) ) \n",
        "\n",
        "f'the optimal depth is: {test_r2.index(max(test_r2))}\\\n",
        " with a test score of {max(test_r2)}'"
      ],
      "metadata": {
        "id": "Dq1tMBW06BdM",
        "outputId": "233b4ac2-a860-49d5-8391-a0bb1030ae60",
        "colab": {
          "base_uri": "https://localhost:8080/"
        }
      },
      "execution_count": 35,
      "outputs": [
        {
          "output_type": "stream",
          "name": "stdout",
          "text": [
            "1\n",
            "2\n",
            "3\n",
            "4\n",
            "5\n",
            "6\n",
            "7\n",
            "8\n",
            "9\n",
            "10\n",
            "11\n",
            "12\n",
            "13\n",
            "14\n",
            "15\n",
            "16\n",
            "17\n",
            "18\n",
            "19\n",
            "20\n",
            "21\n",
            "22\n",
            "23\n",
            "24\n",
            "25\n",
            "26\n",
            "27\n",
            "28\n",
            "29\n",
            "30\n",
            "31\n",
            "32\n",
            "33\n",
            "34\n",
            "35\n",
            "36\n",
            "37\n",
            "38\n",
            "39\n",
            "40\n",
            "41\n",
            "42\n",
            "43\n",
            "44\n",
            "45\n",
            "46\n",
            "47\n",
            "48\n",
            "49\n",
            "50\n",
            "51\n",
            "52\n",
            "53\n",
            "54\n",
            "55\n",
            "56\n",
            "57\n",
            "58\n",
            "59\n",
            "60\n",
            "61\n",
            "62\n",
            "63\n",
            "64\n",
            "65\n",
            "66\n",
            "67\n",
            "68\n",
            "69\n",
            "70\n",
            "71\n",
            "72\n",
            "73\n",
            "74\n",
            "75\n",
            "76\n",
            "77\n",
            "78\n",
            "79\n",
            "80\n",
            "81\n",
            "82\n",
            "83\n",
            "84\n",
            "85\n",
            "86\n",
            "87\n",
            "88\n",
            "89\n",
            "90\n",
            "91\n",
            "92\n",
            "93\n",
            "94\n",
            "95\n",
            "96\n",
            "97\n",
            "98\n",
            "99\n"
          ]
        },
        {
          "output_type": "execute_result",
          "data": {
            "text/plain": [
              "'the optimal depth is: 0 with a test score of 0.24385716517472322'"
            ]
          },
          "metadata": {},
          "execution_count": 35
        }
      ]
    }
  ]
}