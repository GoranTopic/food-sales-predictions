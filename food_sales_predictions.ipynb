{
  "nbformat": 4,
  "nbformat_minor": 0,
  "metadata": {
    "colab": {
      "name": "food-sales-predictions.ipynb",
      "provenance": [],
      "authorship_tag": "ABX9TyP7aXm1N3/y+CymxRSditl/",
      "include_colab_link": true
    },
    "kernelspec": {
      "name": "python3",
      "display_name": "Python 3"
    },
    "language_info": {
      "name": "python"
    }
  },
  "cells": [
    {
      "cell_type": "markdown",
      "metadata": {
        "id": "view-in-github",
        "colab_type": "text"
      },
      "source": [
        "<a href=\"https://colab.research.google.com/github/GoranTopic/food-sales-predictions/blob/master/food_sales_predictions.ipynb\" target=\"_parent\"><img src=\"https://colab.research.google.com/assets/colab-badge.svg\" alt=\"Open In Colab\"/></a>"
      ]
    },
    {
      "cell_type": "code",
      "source": [
        "# import drive to make sure it is mounted\n",
        "from google.colab import drive\n",
        "import pandas as pd\n",
        "import seaborn as sn\n",
        "import matplotlib.pyplot as plt\n",
        "plt.style.use('seaborn')\n",
        "drive.mount('/content/drive')"
      ],
      "metadata": {
        "id": "nCp9J12yF0qW",
        "outputId": "4c0bb747-381d-4d48-f837-1ffecd38cfcd",
        "colab": {
          "base_uri": "https://localhost:8080/"
        }
      },
      "execution_count": 2,
      "outputs": [
        {
          "output_type": "stream",
          "name": "stdout",
          "text": [
            "Mounted at /content/drive\n"
          ]
        }
      ]
    },
    {
      "cell_type": "code",
      "execution_count": 3,
      "metadata": {
        "id": "7x9ovFO7Lgk6",
        "colab": {
          "base_uri": "https://localhost:8080/",
          "height": 357
        },
        "outputId": "4d11b4bb-7703-4f55-fb10-95af5bdab0f4"
      },
      "outputs": [
        {
          "output_type": "execute_result",
          "data": {
            "text/html": [
              "\n",
              "  <div id=\"df-c2a5b789-1049-49d2-970e-78eab46180b7\">\n",
              "    <div class=\"colab-df-container\">\n",
              "      <div>\n",
              "<style scoped>\n",
              "    .dataframe tbody tr th:only-of-type {\n",
              "        vertical-align: middle;\n",
              "    }\n",
              "\n",
              "    .dataframe tbody tr th {\n",
              "        vertical-align: top;\n",
              "    }\n",
              "\n",
              "    .dataframe thead th {\n",
              "        text-align: right;\n",
              "    }\n",
              "</style>\n",
              "<table border=\"1\" class=\"dataframe\">\n",
              "  <thead>\n",
              "    <tr style=\"text-align: right;\">\n",
              "      <th></th>\n",
              "      <th>Item_Identifier</th>\n",
              "      <th>Item_Weight</th>\n",
              "      <th>Item_Fat_Content</th>\n",
              "      <th>Item_Visibility</th>\n",
              "      <th>Item_Type</th>\n",
              "      <th>Item_MRP</th>\n",
              "      <th>Outlet_Identifier</th>\n",
              "      <th>Outlet_Establishment_Year</th>\n",
              "      <th>Outlet_Size</th>\n",
              "      <th>Outlet_Location_Type</th>\n",
              "      <th>Outlet_Type</th>\n",
              "      <th>Item_Outlet_Sales</th>\n",
              "    </tr>\n",
              "  </thead>\n",
              "  <tbody>\n",
              "    <tr>\n",
              "      <th>0</th>\n",
              "      <td>FDA15</td>\n",
              "      <td>9.30</td>\n",
              "      <td>Low Fat</td>\n",
              "      <td>0.016047</td>\n",
              "      <td>Dairy</td>\n",
              "      <td>249.8092</td>\n",
              "      <td>OUT049</td>\n",
              "      <td>1999</td>\n",
              "      <td>Medium</td>\n",
              "      <td>Tier 1</td>\n",
              "      <td>Supermarket Type1</td>\n",
              "      <td>3735.1380</td>\n",
              "    </tr>\n",
              "    <tr>\n",
              "      <th>1</th>\n",
              "      <td>DRC01</td>\n",
              "      <td>5.92</td>\n",
              "      <td>Regular</td>\n",
              "      <td>0.019278</td>\n",
              "      <td>Soft Drinks</td>\n",
              "      <td>48.2692</td>\n",
              "      <td>OUT018</td>\n",
              "      <td>2009</td>\n",
              "      <td>Medium</td>\n",
              "      <td>Tier 3</td>\n",
              "      <td>Supermarket Type2</td>\n",
              "      <td>443.4228</td>\n",
              "    </tr>\n",
              "    <tr>\n",
              "      <th>2</th>\n",
              "      <td>FDN15</td>\n",
              "      <td>17.50</td>\n",
              "      <td>Low Fat</td>\n",
              "      <td>0.016760</td>\n",
              "      <td>Meat</td>\n",
              "      <td>141.6180</td>\n",
              "      <td>OUT049</td>\n",
              "      <td>1999</td>\n",
              "      <td>Medium</td>\n",
              "      <td>Tier 1</td>\n",
              "      <td>Supermarket Type1</td>\n",
              "      <td>2097.2700</td>\n",
              "    </tr>\n",
              "    <tr>\n",
              "      <th>3</th>\n",
              "      <td>FDX07</td>\n",
              "      <td>19.20</td>\n",
              "      <td>Regular</td>\n",
              "      <td>0.000000</td>\n",
              "      <td>Fruits and Vegetables</td>\n",
              "      <td>182.0950</td>\n",
              "      <td>OUT010</td>\n",
              "      <td>1998</td>\n",
              "      <td>NaN</td>\n",
              "      <td>Tier 3</td>\n",
              "      <td>Grocery Store</td>\n",
              "      <td>732.3800</td>\n",
              "    </tr>\n",
              "    <tr>\n",
              "      <th>4</th>\n",
              "      <td>NCD19</td>\n",
              "      <td>8.93</td>\n",
              "      <td>Low Fat</td>\n",
              "      <td>0.000000</td>\n",
              "      <td>Household</td>\n",
              "      <td>53.8614</td>\n",
              "      <td>OUT013</td>\n",
              "      <td>1987</td>\n",
              "      <td>High</td>\n",
              "      <td>Tier 3</td>\n",
              "      <td>Supermarket Type1</td>\n",
              "      <td>994.7052</td>\n",
              "    </tr>\n",
              "  </tbody>\n",
              "</table>\n",
              "</div>\n",
              "      <button class=\"colab-df-convert\" onclick=\"convertToInteractive('df-c2a5b789-1049-49d2-970e-78eab46180b7')\"\n",
              "              title=\"Convert this dataframe to an interactive table.\"\n",
              "              style=\"display:none;\">\n",
              "        \n",
              "  <svg xmlns=\"http://www.w3.org/2000/svg\" height=\"24px\"viewBox=\"0 0 24 24\"\n",
              "       width=\"24px\">\n",
              "    <path d=\"M0 0h24v24H0V0z\" fill=\"none\"/>\n",
              "    <path d=\"M18.56 5.44l.94 2.06.94-2.06 2.06-.94-2.06-.94-.94-2.06-.94 2.06-2.06.94zm-11 1L8.5 8.5l.94-2.06 2.06-.94-2.06-.94L8.5 2.5l-.94 2.06-2.06.94zm10 10l.94 2.06.94-2.06 2.06-.94-2.06-.94-.94-2.06-.94 2.06-2.06.94z\"/><path d=\"M17.41 7.96l-1.37-1.37c-.4-.4-.92-.59-1.43-.59-.52 0-1.04.2-1.43.59L10.3 9.45l-7.72 7.72c-.78.78-.78 2.05 0 2.83L4 21.41c.39.39.9.59 1.41.59.51 0 1.02-.2 1.41-.59l7.78-7.78 2.81-2.81c.8-.78.8-2.07 0-2.86zM5.41 20L4 18.59l7.72-7.72 1.47 1.35L5.41 20z\"/>\n",
              "  </svg>\n",
              "      </button>\n",
              "      \n",
              "  <style>\n",
              "    .colab-df-container {\n",
              "      display:flex;\n",
              "      flex-wrap:wrap;\n",
              "      gap: 12px;\n",
              "    }\n",
              "\n",
              "    .colab-df-convert {\n",
              "      background-color: #E8F0FE;\n",
              "      border: none;\n",
              "      border-radius: 50%;\n",
              "      cursor: pointer;\n",
              "      display: none;\n",
              "      fill: #1967D2;\n",
              "      height: 32px;\n",
              "      padding: 0 0 0 0;\n",
              "      width: 32px;\n",
              "    }\n",
              "\n",
              "    .colab-df-convert:hover {\n",
              "      background-color: #E2EBFA;\n",
              "      box-shadow: 0px 1px 2px rgba(60, 64, 67, 0.3), 0px 1px 3px 1px rgba(60, 64, 67, 0.15);\n",
              "      fill: #174EA6;\n",
              "    }\n",
              "\n",
              "    [theme=dark] .colab-df-convert {\n",
              "      background-color: #3B4455;\n",
              "      fill: #D2E3FC;\n",
              "    }\n",
              "\n",
              "    [theme=dark] .colab-df-convert:hover {\n",
              "      background-color: #434B5C;\n",
              "      box-shadow: 0px 1px 3px 1px rgba(0, 0, 0, 0.15);\n",
              "      filter: drop-shadow(0px 1px 2px rgba(0, 0, 0, 0.3));\n",
              "      fill: #FFFFFF;\n",
              "    }\n",
              "  </style>\n",
              "\n",
              "      <script>\n",
              "        const buttonEl =\n",
              "          document.querySelector('#df-c2a5b789-1049-49d2-970e-78eab46180b7 button.colab-df-convert');\n",
              "        buttonEl.style.display =\n",
              "          google.colab.kernel.accessAllowed ? 'block' : 'none';\n",
              "\n",
              "        async function convertToInteractive(key) {\n",
              "          const element = document.querySelector('#df-c2a5b789-1049-49d2-970e-78eab46180b7');\n",
              "          const dataTable =\n",
              "            await google.colab.kernel.invokeFunction('convertToInteractive',\n",
              "                                                     [key], {});\n",
              "          if (!dataTable) return;\n",
              "\n",
              "          const docLinkHtml = 'Like what you see? Visit the ' +\n",
              "            '<a target=\"_blank\" href=https://colab.research.google.com/notebooks/data_table.ipynb>data table notebook</a>'\n",
              "            + ' to learn more about interactive tables.';\n",
              "          element.innerHTML = '';\n",
              "          dataTable['output_type'] = 'display_data';\n",
              "          await google.colab.output.renderOutput(dataTable, element);\n",
              "          const docLink = document.createElement('div');\n",
              "          docLink.innerHTML = docLinkHtml;\n",
              "          element.appendChild(docLink);\n",
              "        }\n",
              "      </script>\n",
              "    </div>\n",
              "  </div>\n",
              "  "
            ],
            "text/plain": [
              "  Item_Identifier  Item_Weight  ...        Outlet_Type  Item_Outlet_Sales\n",
              "0           FDA15         9.30  ...  Supermarket Type1          3735.1380\n",
              "1           DRC01         5.92  ...  Supermarket Type2           443.4228\n",
              "2           FDN15        17.50  ...  Supermarket Type1          2097.2700\n",
              "3           FDX07        19.20  ...      Grocery Store           732.3800\n",
              "4           NCD19         8.93  ...  Supermarket Type1           994.7052\n",
              "\n",
              "[5 rows x 12 columns]"
            ]
          },
          "metadata": {},
          "execution_count": 3
        }
      ],
      "source": [
        "# Lets mount the drive an read the data set\n",
        "sales_df = pd.read_csv(\"/content/drive/MyDrive/CodingDojo/Stack_2/Data/sales_predictions.csv\")\n",
        "sales_df.head()"
      ]
    },
    {
      "cell_type": "markdown",
      "source": [
        "**Check for nun values and zeros**"
      ],
      "metadata": {
        "id": "mQz7twbeE7VM"
      }
    },
    {
      "cell_type": "markdown",
      "source": [
        "## **My Approach:**\n",
        "I want to be able to replace the missing value in this data set by replaing the to the values which they show the strongest correlation to. My reasoning is that this will give me the most accurate replacement of the missing values. We might even be able to create a function which take the value of a correlated value and return the aproximate missing value.  "
      ],
      "metadata": {
        "id": "ejTknhjqEst0"
      }
    },
    {
      "cell_type": "markdown",
      "source": [
        "> First order of bussines is to take all the missing value from our data set. We can fo this by droping all the row wich contain missing values. "
      ],
      "metadata": {
        "id": "EWdJLYONGAa-"
      }
    },
    {
      "cell_type": "code",
      "source": [
        "# lets fin the number of colmns which have the missing values\n",
        "sales_df.isna().any()"
      ],
      "metadata": {
        "id": "I46UZRoeGOWk",
        "outputId": "53708b68-99fc-45b8-fd5d-57a6c21dd4c1",
        "colab": {
          "base_uri": "https://localhost:8080/"
        }
      },
      "execution_count": 4,
      "outputs": [
        {
          "output_type": "execute_result",
          "data": {
            "text/plain": [
              "Item_Identifier              False\n",
              "Item_Weight                   True\n",
              "Item_Fat_Content             False\n",
              "Item_Visibility              False\n",
              "Item_Type                    False\n",
              "Item_MRP                     False\n",
              "Outlet_Identifier            False\n",
              "Outlet_Establishment_Year    False\n",
              "Outlet_Size                   True\n",
              "Outlet_Location_Type         False\n",
              "Outlet_Type                  False\n",
              "Item_Outlet_Sales            False\n",
              "dtype: bool"
            ]
          },
          "metadata": {},
          "execution_count": 4
        }
      ]
    },
    {
      "cell_type": "markdown",
      "source": [
        "> We can see that the Columns which have missin values is just 'Item_Weight' and 'Outlet_Size'\n",
        "Let's find out how many values are in those columns are NA\n",
        "We also have to look out for value wich are not save as N/a"
      ],
      "metadata": {
        "id": "3Xc-kiK9HQXh"
      }
    },
    {
      "cell_type": "code",
      "source": [
        "# get the list of columns which have a missing value\n",
        "filter = sales_df.isna().any()\n",
        "# get a df with only those columns\n",
        "na_columns_df = sales_df.loc[:, filter]\n",
        "# lets count the total number of NA value for each column\n",
        "na_columns_df.isna().cumsum()"
      ],
      "metadata": {
        "id": "mXktNoj8IIqj",
        "outputId": "1e73ce97-71c1-4c8a-a5c9-746e9da70975",
        "colab": {
          "base_uri": "https://localhost:8080/",
          "height": 423
        }
      },
      "execution_count": 5,
      "outputs": [
        {
          "output_type": "execute_result",
          "data": {
            "text/html": [
              "\n",
              "  <div id=\"df-8d52bbef-0cdb-4ec4-b370-c12ac673adb7\">\n",
              "    <div class=\"colab-df-container\">\n",
              "      <div>\n",
              "<style scoped>\n",
              "    .dataframe tbody tr th:only-of-type {\n",
              "        vertical-align: middle;\n",
              "    }\n",
              "\n",
              "    .dataframe tbody tr th {\n",
              "        vertical-align: top;\n",
              "    }\n",
              "\n",
              "    .dataframe thead th {\n",
              "        text-align: right;\n",
              "    }\n",
              "</style>\n",
              "<table border=\"1\" class=\"dataframe\">\n",
              "  <thead>\n",
              "    <tr style=\"text-align: right;\">\n",
              "      <th></th>\n",
              "      <th>Item_Weight</th>\n",
              "      <th>Outlet_Size</th>\n",
              "    </tr>\n",
              "  </thead>\n",
              "  <tbody>\n",
              "    <tr>\n",
              "      <th>0</th>\n",
              "      <td>0</td>\n",
              "      <td>0</td>\n",
              "    </tr>\n",
              "    <tr>\n",
              "      <th>1</th>\n",
              "      <td>0</td>\n",
              "      <td>0</td>\n",
              "    </tr>\n",
              "    <tr>\n",
              "      <th>2</th>\n",
              "      <td>0</td>\n",
              "      <td>0</td>\n",
              "    </tr>\n",
              "    <tr>\n",
              "      <th>3</th>\n",
              "      <td>0</td>\n",
              "      <td>1</td>\n",
              "    </tr>\n",
              "    <tr>\n",
              "      <th>4</th>\n",
              "      <td>0</td>\n",
              "      <td>1</td>\n",
              "    </tr>\n",
              "    <tr>\n",
              "      <th>...</th>\n",
              "      <td>...</td>\n",
              "      <td>...</td>\n",
              "    </tr>\n",
              "    <tr>\n",
              "      <th>8518</th>\n",
              "      <td>1463</td>\n",
              "      <td>2409</td>\n",
              "    </tr>\n",
              "    <tr>\n",
              "      <th>8519</th>\n",
              "      <td>1463</td>\n",
              "      <td>2410</td>\n",
              "    </tr>\n",
              "    <tr>\n",
              "      <th>8520</th>\n",
              "      <td>1463</td>\n",
              "      <td>2410</td>\n",
              "    </tr>\n",
              "    <tr>\n",
              "      <th>8521</th>\n",
              "      <td>1463</td>\n",
              "      <td>2410</td>\n",
              "    </tr>\n",
              "    <tr>\n",
              "      <th>8522</th>\n",
              "      <td>1463</td>\n",
              "      <td>2410</td>\n",
              "    </tr>\n",
              "  </tbody>\n",
              "</table>\n",
              "<p>8523 rows × 2 columns</p>\n",
              "</div>\n",
              "      <button class=\"colab-df-convert\" onclick=\"convertToInteractive('df-8d52bbef-0cdb-4ec4-b370-c12ac673adb7')\"\n",
              "              title=\"Convert this dataframe to an interactive table.\"\n",
              "              style=\"display:none;\">\n",
              "        \n",
              "  <svg xmlns=\"http://www.w3.org/2000/svg\" height=\"24px\"viewBox=\"0 0 24 24\"\n",
              "       width=\"24px\">\n",
              "    <path d=\"M0 0h24v24H0V0z\" fill=\"none\"/>\n",
              "    <path d=\"M18.56 5.44l.94 2.06.94-2.06 2.06-.94-2.06-.94-.94-2.06-.94 2.06-2.06.94zm-11 1L8.5 8.5l.94-2.06 2.06-.94-2.06-.94L8.5 2.5l-.94 2.06-2.06.94zm10 10l.94 2.06.94-2.06 2.06-.94-2.06-.94-.94-2.06-.94 2.06-2.06.94z\"/><path d=\"M17.41 7.96l-1.37-1.37c-.4-.4-.92-.59-1.43-.59-.52 0-1.04.2-1.43.59L10.3 9.45l-7.72 7.72c-.78.78-.78 2.05 0 2.83L4 21.41c.39.39.9.59 1.41.59.51 0 1.02-.2 1.41-.59l7.78-7.78 2.81-2.81c.8-.78.8-2.07 0-2.86zM5.41 20L4 18.59l7.72-7.72 1.47 1.35L5.41 20z\"/>\n",
              "  </svg>\n",
              "      </button>\n",
              "      \n",
              "  <style>\n",
              "    .colab-df-container {\n",
              "      display:flex;\n",
              "      flex-wrap:wrap;\n",
              "      gap: 12px;\n",
              "    }\n",
              "\n",
              "    .colab-df-convert {\n",
              "      background-color: #E8F0FE;\n",
              "      border: none;\n",
              "      border-radius: 50%;\n",
              "      cursor: pointer;\n",
              "      display: none;\n",
              "      fill: #1967D2;\n",
              "      height: 32px;\n",
              "      padding: 0 0 0 0;\n",
              "      width: 32px;\n",
              "    }\n",
              "\n",
              "    .colab-df-convert:hover {\n",
              "      background-color: #E2EBFA;\n",
              "      box-shadow: 0px 1px 2px rgba(60, 64, 67, 0.3), 0px 1px 3px 1px rgba(60, 64, 67, 0.15);\n",
              "      fill: #174EA6;\n",
              "    }\n",
              "\n",
              "    [theme=dark] .colab-df-convert {\n",
              "      background-color: #3B4455;\n",
              "      fill: #D2E3FC;\n",
              "    }\n",
              "\n",
              "    [theme=dark] .colab-df-convert:hover {\n",
              "      background-color: #434B5C;\n",
              "      box-shadow: 0px 1px 3px 1px rgba(0, 0, 0, 0.15);\n",
              "      filter: drop-shadow(0px 1px 2px rgba(0, 0, 0, 0.3));\n",
              "      fill: #FFFFFF;\n",
              "    }\n",
              "  </style>\n",
              "\n",
              "      <script>\n",
              "        const buttonEl =\n",
              "          document.querySelector('#df-8d52bbef-0cdb-4ec4-b370-c12ac673adb7 button.colab-df-convert');\n",
              "        buttonEl.style.display =\n",
              "          google.colab.kernel.accessAllowed ? 'block' : 'none';\n",
              "\n",
              "        async function convertToInteractive(key) {\n",
              "          const element = document.querySelector('#df-8d52bbef-0cdb-4ec4-b370-c12ac673adb7');\n",
              "          const dataTable =\n",
              "            await google.colab.kernel.invokeFunction('convertToInteractive',\n",
              "                                                     [key], {});\n",
              "          if (!dataTable) return;\n",
              "\n",
              "          const docLinkHtml = 'Like what you see? Visit the ' +\n",
              "            '<a target=\"_blank\" href=https://colab.research.google.com/notebooks/data_table.ipynb>data table notebook</a>'\n",
              "            + ' to learn more about interactive tables.';\n",
              "          element.innerHTML = '';\n",
              "          dataTable['output_type'] = 'display_data';\n",
              "          await google.colab.output.renderOutput(dataTable, element);\n",
              "          const docLink = document.createElement('div');\n",
              "          docLink.innerHTML = docLinkHtml;\n",
              "          element.appendChild(docLink);\n",
              "        }\n",
              "      </script>\n",
              "    </div>\n",
              "  </div>\n",
              "  "
            ],
            "text/plain": [
              "      Item_Weight  Outlet_Size\n",
              "0               0            0\n",
              "1               0            0\n",
              "2               0            0\n",
              "3               0            1\n",
              "4               0            1\n",
              "...           ...          ...\n",
              "8518         1463         2409\n",
              "8519         1463         2410\n",
              "8520         1463         2410\n",
              "8521         1463         2410\n",
              "8522         1463         2410\n",
              "\n",
              "[8523 rows x 2 columns]"
            ]
          },
          "metadata": {},
          "execution_count": 5
        }
      ]
    },
    {
      "cell_type": "markdown",
      "source": [
        "So here we cna see that `Item_Weight` column has __1463__ NA values, and the `Outlet_size` column has __2410__ NA values"
      ],
      "metadata": {
        "id": "8fTYCZDqKcLU"
      }
    },
    {
      "cell_type": "code",
      "source": [
        "# percentage of NA values \n",
        "print(2410 / 8525 * 100 ) # this is about %28 percent of all values\n",
        "print(1463 / 8525 * 100 ) # this is about %17 percent of all values"
      ],
      "metadata": {
        "id": "_UZCyfK6MLGx",
        "outputId": "5f9d64be-803d-45aa-ad51-f9e12b738f1d",
        "colab": {
          "base_uri": "https://localhost:8080/"
        }
      },
      "execution_count": 6,
      "outputs": [
        {
          "output_type": "stream",
          "name": "stdout",
          "text": [
            "28.269794721407628\n",
            "17.161290322580644\n"
          ]
        }
      ]
    },
    {
      "cell_type": "markdown",
      "source": [
        "Let remove all of the rows which have NA values "
      ],
      "metadata": {
        "id": "gR8ZXuVzR1-y"
      }
    },
    {
      "cell_type": "code",
      "source": [
        "clean_df = sales_df.dropna() \n",
        "# check if there is nay na value\n",
        "clean_df.isna().any().any()"
      ],
      "metadata": {
        "id": "Y9r7Q9cvR70z",
        "outputId": "dd109ba2-65df-4efc-d9bd-222af24a38af",
        "colab": {
          "base_uri": "https://localhost:8080/"
        }
      },
      "execution_count": 7,
      "outputs": [
        {
          "output_type": "execute_result",
          "data": {
            "text/plain": [
              "False"
            ]
          },
          "metadata": {},
          "execution_count": 7
        }
      ]
    },
    {
      "cell_type": "code",
      "source": [
        "# lets find which value have the best correlation with the columns where we have the NA values\n",
        "# can't find a the correlation between ordinal values\n",
        "corr_map = clean_df.corr()\n",
        "sn.heatmap(corr_map, annot=True); "
      ],
      "metadata": {
        "id": "F5OlbvBjHqBP",
        "outputId": "92da0c1a-7b19-4e52-83cc-965e72d67a5f",
        "colab": {
          "base_uri": "https://localhost:8080/",
          "height": 462
        }
      },
      "execution_count": 8,
      "outputs": [
        {
          "output_type": "display_data",
          "data": {
            "image/png": "[encoded data removed]",
            "text/plain": [
              "<Figure size 576x396 with 2 Axes>"
            ]
          },
          "metadata": {}
        }
      ]
    },
    {
      "cell_type": "markdown",
      "source": [
        "We can see that the `Item_Weight` is not really that stongly correlated with any other column. "
      ],
      "metadata": {
        "id": "_-X0kpjZPGyJ"
      }
    },
    {
      "cell_type": "code",
      "source": [
        "# correlation of the Items_weights\n",
        "corr_map['Item_Weight'][1:].values "
      ],
      "metadata": {
        "id": "QD_vlGMJPGDC",
        "outputId": "ec39b9a6-2352-4959-8ff4-2e27f61c246c",
        "colab": {
          "base_uri": "https://localhost:8080/"
        }
      },
      "execution_count": 9,
      "outputs": [
        {
          "output_type": "execute_result",
          "data": {
            "text/plain": [
              "array([-0.01022873,  0.03333044, -0.01059587,  0.01097183])"
            ]
          },
          "metadata": {},
          "execution_count": 9
        }
      ]
    },
    {
      "cell_type": "markdown",
      "source": [
        "Let see if there is any correlation bewteen the ordinal value of `Outlet_size` and the other values \n",
        "\n",
        "Let see if we can graph the value other values vesus the `Outlet_Size`"
      ],
      "metadata": {
        "id": "ewS_4TsQTzy5"
      }
    },
    {
      "cell_type": "code",
      "source": [
        "# so let's plot it!\n",
        "# got this from\n",
        "#clean_df[['Item_Outlet_Sales', 'Outlet_Size']].plot.bar(x='Outlet_Size', y='Item_Outlet_Sales');\n",
        "figure, axis = plt.subplots(2, 2)\n",
        "sn.boxplot(y='Item_Outlet_Sales', x='Outlet_Size', data=clean_df,ax=axis[0,0]).set(title=\"Sales and Size Correlation\");\n",
        "sn.boxplot(y='Item_MRP', x='Outlet_Size', data=clean_df,ax=axis[0,1]).set(title=\"MRP and Size Correlation\");\n",
        "sn.boxplot(y='Item_Visibility', x='Outlet_Size', data=clean_df,ax=axis[1,0]).set(title=\"Visibility and Size Correlation\");\n",
        "sn.boxplot(y='Outlet_Establishment_Year', x='Outlet_Size', data=clean_df,ax=axis[1,1]).set(title=\"Outlet Year and Size Correlation\");\n",
        "# make it all fit together\n",
        "plt.tight_layout()\n"
      ],
      "metadata": {
        "id": "oyb8d_vpJyJ3",
        "outputId": "b8c5858f-c099-4395-b6ae-0cef70f3f87a",
        "colab": {
          "base_uri": "https://localhost:8080/",
          "height": 405
        }
      },
      "execution_count": 10,
      "outputs": [
        {
          "output_type": "display_data",
          "data": {
            "image/png": "[encoded data removed]",
            "text/plain": [
              "<Figure size 576x396 with 4 Axes>"
            ]
          },
          "metadata": {}
        }
      ]
    },
    {
      "cell_type": "markdown",
      "source": [
        "There does not seem to be any reall correation between the numerical value in the data set and the ordinal value of `Outlet_Size`\n",
        "\n",
        "However there does seem to be some pattern between the `Outlet_Establisment_Year` and the `Outlet_Size`: We can see that ot only are there far more values in where the `Outlet_Size` is __Medium__ or __Small__ and that almost all the value where it is __High__ are outlets made before __1990__.\n",
        "\n",
        "If we compare this to the distribution of `Outlest_Size` values. "
      ],
      "metadata": {
        "id": "NbPEuvwUSh4R"
      }
    },
    {
      "cell_type": "code",
      "source": [
        "clean_df.Outlet_Size.hist();"
      ],
      "metadata": {
        "colab": {
          "base_uri": "https://localhost:8080/",
          "height": 347
        },
        "id": "JbIEkhRwThyh",
        "outputId": "c4ed12fd-1002-4a8a-f469-b4b759d9312f"
      },
      "execution_count": 11,
      "outputs": [
        {
          "output_type": "display_data",
          "data": {
            "image/png": "[encoded data removed]",
            "text/plain": [
              "<Figure size 576x396 with 1 Axes>"
            ]
          },
          "metadata": {}
        }
      ]
    },
    {
      "cell_type": "markdown",
      "source": [
        "We can see that ther number __high__ value is truly is significaly lower than the ther two. \n",
        "\n",
        "if fact only: "
      ],
      "metadata": {
        "id": "QDZDjF34T9oB"
      }
    },
    {
      "cell_type": "code",
      "source": [
        "count = len(clean_df.query('Outlet_Size == \"High\"'))\n",
        "negative = len(clean_df.query('Outlet_Size != \"High\"'))\n",
        "f\"there are only {count} values where Outlet_Size is high, compare with {negative} values where it is not\""
      ],
      "metadata": {
        "colab": {
          "base_uri": "https://localhost:8080/",
          "height": 35
        },
        "id": "3Zs_QbE2WRDX",
        "outputId": "bc5314fd-0d25-4c8e-eb5b-aa7fec9a4073"
      },
      "execution_count": 12,
      "outputs": [
        {
          "output_type": "execute_result",
          "data": {
            "application/vnd.google.colaboratory.intrinsic+json": {
              "type": "string"
            },
            "text/plain": [
              "'there are only 932 values where Outlet_Size is high, compare with 3718 values where it is not'"
            ]
          },
          "metadata": {},
          "execution_count": 12
        }
      ]
    },
    {
      "cell_type": "code",
      "source": [
        "# if face we can see that all 932 Outlets where made in the year 1987\n",
        "clean_df.query('Outlet_Size == \"High\"').Outlet_Establishment_Year.describe()\n"
      ],
      "metadata": {
        "colab": {
          "base_uri": "https://localhost:8080/"
        },
        "id": "PcAEYEbjT8ll",
        "outputId": "a7df5ae4-7b4d-4165-9d13-97779c095f97"
      },
      "execution_count": 13,
      "outputs": [
        {
          "output_type": "execute_result",
          "data": {
            "text/plain": [
              "count     932.0\n",
              "mean     1987.0\n",
              "std         0.0\n",
              "min      1987.0\n",
              "25%      1987.0\n",
              "50%      1987.0\n",
              "75%      1987.0\n",
              "max      1987.0\n",
              "Name: Outlet_Establishment_Year, dtype: float64"
            ]
          },
          "metadata": {},
          "execution_count": 13
        }
      ]
    },
    {
      "cell_type": "markdown",
      "source": [
        "Thus we can safely assume that any missing value about the size of the outlet before or in __1987__ are going to be __high__, while all the values after, are going to be either __Medium__ or __Small__.\n",
        "\n",
        "Thus let's take a look at the years of the missing values."
      ],
      "metadata": {
        "id": "QpSYLMouYNHJ"
      }
    },
    {
      "cell_type": "code",
      "source": [
        "# get al the rows that have missing values\n",
        "missing_df = sales_df[sales_df['Outlet_Size'].isna()]\n",
        "missing_df.Outlet_Establishment_Year.hist();"
      ],
      "metadata": {
        "colab": {
          "base_uri": "https://localhost:8080/",
          "height": 347
        },
        "id": "gFHpkvO8Yq3D",
        "outputId": "6ccaae4e-4bff-4ad2-da28-0a5dbf5c7943"
      },
      "execution_count": 14,
      "outputs": [
        {
          "output_type": "display_data",
          "data": {
            "image/png": "[encoded data removed]",
            "text/plain": [
              "<Figure size 576x396 with 1 Axes>"
            ]
          },
          "metadata": {}
        }
      ]
    },
    {
      "cell_type": "markdown",
      "source": [
        "From this graph we can see that none of the outlets which have missing values where made before or in 1987. \n",
        "Thus we can assume all of this value of `Outler_Size` can be filled with either __Small__ or __Medium__"
      ],
      "metadata": {
        "id": "SCtbG7GMXwrz"
      }
    },
    {
      "cell_type": "code",
      "source": [
        "# \n",
        "#years = sales_df.Outlet_Establishment_Year.unique()\n",
        "#sales_df.Outlet_Establishment_Year.hist(bins=100);\n",
        "colors = [\"blue\", \"red\",\"green\",\"black\"]\n",
        "sn.set_palette(sn.color_palette(colors))\n",
        "sn.histplot(data=sales_df, x=\"Outlet_Establishment_Year\", hue=\"Outlet_Size\", bins=20, discrete=True, multiple=\"dodge\");\n",
        "#colors = [\"black\", \"red\",\"green\",\"black\"]\n",
        "#sn.set_palette(sn.color_palette(colors))\n",
        "#sn.histplot(data=missing_df, x=\"Outlet_Establishment_Year\", bins=15)\n",
        "#sn.barplot(x='Outlet_Size', hue='Outlet_Establishment_Year', data=sales_df )\n",
        "sales_df.Outlet_Size.value_counts()"
      ],
      "metadata": {
        "colab": {
          "base_uri": "https://localhost:8080/",
          "height": 430
        },
        "id": "r124gV8zb5ad",
        "outputId": "e51804d6-08e0-4630-d54c-124aab02e261"
      },
      "execution_count": 15,
      "outputs": [
        {
          "output_type": "execute_result",
          "data": {
            "text/plain": [
              "Medium    2793\n",
              "Small     2388\n",
              "High       932\n",
              "Name: Outlet_Size, dtype: int64"
            ]
          },
          "metadata": {},
          "execution_count": 15
        },
        {
          "output_type": "display_data",
          "data": {
            "image/png": "[encoded data removed]",
            "text/plain": [
              "<Figure size 576x396 with 1 Axes>"
            ]
          },
          "metadata": {}
        }
      ]
    },
    {
      "cell_type": "code",
      "source": [
        "# heck the number of na values\n",
        "#na_columns = super_cool_df.isna().any() # check which colmun have a na value\n",
        "#g = sn.FacetGrid(data=super_cool_df, col='Outlet_Size', col_wrap=4)\n",
        "\n",
        "#super_cool_df.loc[:, na_columns]\n",
        "\n",
        "#add plots to grid\n",
        "#g.map(sn.scatterplot, 'Outlet_Size', 'Item_Weight')\n"
      ],
      "metadata": {
        "id": "mZBLuLfOFEo3"
      },
      "execution_count": 16,
      "outputs": []
    },
    {
      "cell_type": "code",
      "source": [
        "# fill in the Na values\n",
        "#super_cool_df.fillna(method='ffill').isna().any()"
      ],
      "metadata": {
        "id": "3feBzQAbLp3t"
      },
      "execution_count": 17,
      "outputs": []
    },
    {
      "cell_type": "markdown",
      "source": [
        "# Stack 2: Data Processing"
      ],
      "metadata": {
        "id": "I48EwVnRZUXB"
      }
    },
    {
      "cell_type": "markdown",
      "source": [
        "Ok, since we now ahve a target to which we are seeking to predict `Item_Outlet_Sales` we can now 'isolate' that column, the same way the world is isolating Russia. \n"
      ],
      "metadata": {
        "id": "5aLI8RjcaH96"
      }
    },
    {
      "cell_type": "code",
      "source": [
        "# lets make some skilearn imports\n",
        "from sklearn.preprocessing import StandardScaler\n",
        "from sklearn.model_selection import train_test_split\n",
        "from sklearn.compose import make_column_selector\n",
        "from sklearn.preprocessing import OneHotEncoder\n",
        "from sklearn.impute import SimpleImputer\n",
        "from sklearn.compose import make_column_transformer\n",
        "from sklearn.pipeline import make_pipeline\n",
        "from sklearn import set_config\n",
        "set_config(display='diagram')"
      ],
      "metadata": {
        "id": "eQ10VHPmb_pF"
      },
      "execution_count": 24,
      "outputs": []
    },
    {
      "cell_type": "code",
      "source": [
        "target = sales_df.Item_Outlet_Sales\n",
        "features = sales_df.drop(columns='Item_Outlet_Sales')"
      ],
      "metadata": {
        "id": "u16TEu17Z_8v"
      },
      "execution_count": 21,
      "outputs": []
    },
    {
      "cell_type": "markdown",
      "source": [
        "Now let make the preprocessing object "
      ],
      "metadata": {
        "id": "vg4HqxH7ZXim"
      }
    },
    {
      "cell_type": "code",
      "source": [
        "# lets split the data \n",
        "X_train, X_test, y_train, y_test = train_test_split(features, target, random_state=42)\n",
        "# let make some imputers\n",
        "freq_imputer = SimpleImputer(strategy='most_frequent')\n",
        "mean_imputer = SimpleImputer(strategy='mean')\n",
        "# let's make our one hot encoder\n",
        "ohe = OneHotEncoder(handle_unknown='ignore', sparse=False)\n",
        "# Scaler\n",
        "scaler = StandardScaler()\n",
        "# now let's the piplines for each object \n",
        "numeric_pipe = make_pipeline(mean_imputer, scaler)\n",
        "categorical_pipe = make_pipeline(freq_imputer, ohe)\n",
        "# first then selectors\n",
        "cat_selector = make_column_selector(dtype_include='object')\n",
        "num_selector = make_column_selector(dtype_include='number')\n",
        "# Tuples for Column Transformer\n",
        "number_tuple = (numeric_pipe, num_selector)\n",
        "category_tuple = (categorical_pipe, cat_selector)\n",
        "# preprocessor\n",
        "preprocessor = make_column_transformer(number_tuple, category_tuple)"
      ],
      "metadata": {
        "id": "sdQuw8M_dGQ_"
      },
      "execution_count": 25,
      "outputs": []
    }
  ]
}