{
  "nbformat": 4,
  "nbformat_minor": 0,
  "metadata": {
    "colab": {
      "name": "food-sales-predictions.ipynb",
      "provenance": [],
      "authorship_tag": "ABX9TyPeeDLOS6ksvKVu31QYviyb",
      "include_colab_link": true
    },
    "kernelspec": {
      "name": "python3",
      "display_name": "Python 3"
    },
    "language_info": {
      "name": "python"
    }
  },
  "cells": [
    {
      "cell_type": "markdown",
      "metadata": {
        "id": "view-in-github",
        "colab_type": "text"
      },
      "source": [
        "<a href=\"https://colab.research.google.com/github/GoranTopic/food-sales-predictions/blob/master/food_sales_predictions.ipynb\" target=\"_parent\"><img src=\"https://colab.research.google.com/assets/colab-badge.svg\" alt=\"Open In Colab\"/></a>"
      ]
    },
    {
      "cell_type": "code",
      "source": [
        "# import drive to make sure it is mounted\n",
        "from google.colab import drive\n",
        "import pandas as pd\n",
        "import seaborn as sn\n",
        "import matplotlib.pyplot as plt\n",
        "plt.style.use('seaborn')\n",
        "drive.mount('/content/drive')"
      ],
      "metadata": {
        "id": "nCp9J12yF0qW",
        "outputId": "c6e8ac34-ddcf-493b-a9d4-1c197f6519bd",
        "colab": {
          "base_uri": "https://localhost:8080/"
        }
      },
      "execution_count": 1,
      "outputs": [
        {
          "output_type": "stream",
          "name": "stdout",
          "text": [
            "Mounted at /content/drive\n"
          ]
        }
      ]
    },
    {
      "cell_type": "code",
      "execution_count": 2,
      "metadata": {
        "id": "7x9ovFO7Lgk6",
        "colab": {
          "base_uri": "https://localhost:8080/",
          "height": 357
        },
        "outputId": "d6c2f710-3abe-48d1-fe08-6e1f953e5b41"
      },
      "outputs": [
        {
          "output_type": "execute_result",
          "data": {
            "text/html": [
              "\n",
              "  <div id=\"df-63a20f4a-6f05-4b9d-a6a1-74669689c833\">\n",
              "    <div class=\"colab-df-container\">\n",
              "      <div>\n",
              "<style scoped>\n",
              "    .dataframe tbody tr th:only-of-type {\n",
              "        vertical-align: middle;\n",
              "    }\n",
              "\n",
              "    .dataframe tbody tr th {\n",
              "        vertical-align: top;\n",
              "    }\n",
              "\n",
              "    .dataframe thead th {\n",
              "        text-align: right;\n",
              "    }\n",
              "</style>\n",
              "<table border=\"1\" class=\"dataframe\">\n",
              "  <thead>\n",
              "    <tr style=\"text-align: right;\">\n",
              "      <th></th>\n",
              "      <th>Item_Identifier</th>\n",
              "      <th>Item_Weight</th>\n",
              "      <th>Item_Fat_Content</th>\n",
              "      <th>Item_Visibility</th>\n",
              "      <th>Item_Type</th>\n",
              "      <th>Item_MRP</th>\n",
              "      <th>Outlet_Identifier</th>\n",
              "      <th>Outlet_Establishment_Year</th>\n",
              "      <th>Outlet_Size</th>\n",
              "      <th>Outlet_Location_Type</th>\n",
              "      <th>Outlet_Type</th>\n",
              "      <th>Item_Outlet_Sales</th>\n",
              "    </tr>\n",
              "  </thead>\n",
              "  <tbody>\n",
              "    <tr>\n",
              "      <th>0</th>\n",
              "      <td>FDA15</td>\n",
              "      <td>9.30</td>\n",
              "      <td>Low Fat</td>\n",
              "      <td>0.016047</td>\n",
              "      <td>Dairy</td>\n",
              "      <td>249.8092</td>\n",
              "      <td>OUT049</td>\n",
              "      <td>1999</td>\n",
              "      <td>Medium</td>\n",
              "      <td>Tier 1</td>\n",
              "      <td>Supermarket Type1</td>\n",
              "      <td>3735.1380</td>\n",
              "    </tr>\n",
              "    <tr>\n",
              "      <th>1</th>\n",
              "      <td>DRC01</td>\n",
              "      <td>5.92</td>\n",
              "      <td>Regular</td>\n",
              "      <td>0.019278</td>\n",
              "      <td>Soft Drinks</td>\n",
              "      <td>48.2692</td>\n",
              "      <td>OUT018</td>\n",
              "      <td>2009</td>\n",
              "      <td>Medium</td>\n",
              "      <td>Tier 3</td>\n",
              "      <td>Supermarket Type2</td>\n",
              "      <td>443.4228</td>\n",
              "    </tr>\n",
              "    <tr>\n",
              "      <th>2</th>\n",
              "      <td>FDN15</td>\n",
              "      <td>17.50</td>\n",
              "      <td>Low Fat</td>\n",
              "      <td>0.016760</td>\n",
              "      <td>Meat</td>\n",
              "      <td>141.6180</td>\n",
              "      <td>OUT049</td>\n",
              "      <td>1999</td>\n",
              "      <td>Medium</td>\n",
              "      <td>Tier 1</td>\n",
              "      <td>Supermarket Type1</td>\n",
              "      <td>2097.2700</td>\n",
              "    </tr>\n",
              "    <tr>\n",
              "      <th>3</th>\n",
              "      <td>FDX07</td>\n",
              "      <td>19.20</td>\n",
              "      <td>Regular</td>\n",
              "      <td>0.000000</td>\n",
              "      <td>Fruits and Vegetables</td>\n",
              "      <td>182.0950</td>\n",
              "      <td>OUT010</td>\n",
              "      <td>1998</td>\n",
              "      <td>NaN</td>\n",
              "      <td>Tier 3</td>\n",
              "      <td>Grocery Store</td>\n",
              "      <td>732.3800</td>\n",
              "    </tr>\n",
              "    <tr>\n",
              "      <th>4</th>\n",
              "      <td>NCD19</td>\n",
              "      <td>8.93</td>\n",
              "      <td>Low Fat</td>\n",
              "      <td>0.000000</td>\n",
              "      <td>Household</td>\n",
              "      <td>53.8614</td>\n",
              "      <td>OUT013</td>\n",
              "      <td>1987</td>\n",
              "      <td>High</td>\n",
              "      <td>Tier 3</td>\n",
              "      <td>Supermarket Type1</td>\n",
              "      <td>994.7052</td>\n",
              "    </tr>\n",
              "  </tbody>\n",
              "</table>\n",
              "</div>\n",
              "      <button class=\"colab-df-convert\" onclick=\"convertToInteractive('df-63a20f4a-6f05-4b9d-a6a1-74669689c833')\"\n",
              "              title=\"Convert this dataframe to an interactive table.\"\n",
              "              style=\"display:none;\">\n",
              "        \n",
              "  <svg xmlns=\"http://www.w3.org/2000/svg\" height=\"24px\"viewBox=\"0 0 24 24\"\n",
              "       width=\"24px\">\n",
              "    <path d=\"M0 0h24v24H0V0z\" fill=\"none\"/>\n",
              "    <path d=\"M18.56 5.44l.94 2.06.94-2.06 2.06-.94-2.06-.94-.94-2.06-.94 2.06-2.06.94zm-11 1L8.5 8.5l.94-2.06 2.06-.94-2.06-.94L8.5 2.5l-.94 2.06-2.06.94zm10 10l.94 2.06.94-2.06 2.06-.94-2.06-.94-.94-2.06-.94 2.06-2.06.94z\"/><path d=\"M17.41 7.96l-1.37-1.37c-.4-.4-.92-.59-1.43-.59-.52 0-1.04.2-1.43.59L10.3 9.45l-7.72 7.72c-.78.78-.78 2.05 0 2.83L4 21.41c.39.39.9.59 1.41.59.51 0 1.02-.2 1.41-.59l7.78-7.78 2.81-2.81c.8-.78.8-2.07 0-2.86zM5.41 20L4 18.59l7.72-7.72 1.47 1.35L5.41 20z\"/>\n",
              "  </svg>\n",
              "      </button>\n",
              "      \n",
              "  <style>\n",
              "    .colab-df-container {\n",
              "      display:flex;\n",
              "      flex-wrap:wrap;\n",
              "      gap: 12px;\n",
              "    }\n",
              "\n",
              "    .colab-df-convert {\n",
              "      background-color: #E8F0FE;\n",
              "      border: none;\n",
              "      border-radius: 50%;\n",
              "      cursor: pointer;\n",
              "      display: none;\n",
              "      fill: #1967D2;\n",
              "      height: 32px;\n",
              "      padding: 0 0 0 0;\n",
              "      width: 32px;\n",
              "    }\n",
              "\n",
              "    .colab-df-convert:hover {\n",
              "      background-color: #E2EBFA;\n",
              "      box-shadow: 0px 1px 2px rgba(60, 64, 67, 0.3), 0px 1px 3px 1px rgba(60, 64, 67, 0.15);\n",
              "      fill: #174EA6;\n",
              "    }\n",
              "\n",
              "    [theme=dark] .colab-df-convert {\n",
              "      background-color: #3B4455;\n",
              "      fill: #D2E3FC;\n",
              "    }\n",
              "\n",
              "    [theme=dark] .colab-df-convert:hover {\n",
              "      background-color: #434B5C;\n",
              "      box-shadow: 0px 1px 3px 1px rgba(0, 0, 0, 0.15);\n",
              "      filter: drop-shadow(0px 1px 2px rgba(0, 0, 0, 0.3));\n",
              "      fill: #FFFFFF;\n",
              "    }\n",
              "  </style>\n",
              "\n",
              "      <script>\n",
              "        const buttonEl =\n",
              "          document.querySelector('#df-63a20f4a-6f05-4b9d-a6a1-74669689c833 button.colab-df-convert');\n",
              "        buttonEl.style.display =\n",
              "          google.colab.kernel.accessAllowed ? 'block' : 'none';\n",
              "\n",
              "        async function convertToInteractive(key) {\n",
              "          const element = document.querySelector('#df-63a20f4a-6f05-4b9d-a6a1-74669689c833');\n",
              "          const dataTable =\n",
              "            await google.colab.kernel.invokeFunction('convertToInteractive',\n",
              "                                                     [key], {});\n",
              "          if (!dataTable) return;\n",
              "\n",
              "          const docLinkHtml = 'Like what you see? Visit the ' +\n",
              "            '<a target=\"_blank\" href=https://colab.research.google.com/notebooks/data_table.ipynb>data table notebook</a>'\n",
              "            + ' to learn more about interactive tables.';\n",
              "          element.innerHTML = '';\n",
              "          dataTable['output_type'] = 'display_data';\n",
              "          await google.colab.output.renderOutput(dataTable, element);\n",
              "          const docLink = document.createElement('div');\n",
              "          docLink.innerHTML = docLinkHtml;\n",
              "          element.appendChild(docLink);\n",
              "        }\n",
              "      </script>\n",
              "    </div>\n",
              "  </div>\n",
              "  "
            ],
            "text/plain": [
              "  Item_Identifier  Item_Weight Item_Fat_Content  Item_Visibility  \\\n",
              "0           FDA15         9.30          Low Fat         0.016047   \n",
              "1           DRC01         5.92          Regular         0.019278   \n",
              "2           FDN15        17.50          Low Fat         0.016760   \n",
              "3           FDX07        19.20          Regular         0.000000   \n",
              "4           NCD19         8.93          Low Fat         0.000000   \n",
              "\n",
              "               Item_Type  Item_MRP Outlet_Identifier  \\\n",
              "0                  Dairy  249.8092            OUT049   \n",
              "1            Soft Drinks   48.2692            OUT018   \n",
              "2                   Meat  141.6180            OUT049   \n",
              "3  Fruits and Vegetables  182.0950            OUT010   \n",
              "4              Household   53.8614            OUT013   \n",
              "\n",
              "   Outlet_Establishment_Year Outlet_Size Outlet_Location_Type  \\\n",
              "0                       1999      Medium               Tier 1   \n",
              "1                       2009      Medium               Tier 3   \n",
              "2                       1999      Medium               Tier 1   \n",
              "3                       1998         NaN               Tier 3   \n",
              "4                       1987        High               Tier 3   \n",
              "\n",
              "         Outlet_Type  Item_Outlet_Sales  \n",
              "0  Supermarket Type1          3735.1380  \n",
              "1  Supermarket Type2           443.4228  \n",
              "2  Supermarket Type1          2097.2700  \n",
              "3      Grocery Store           732.3800  \n",
              "4  Supermarket Type1           994.7052  "
            ]
          },
          "metadata": {},
          "execution_count": 2
        }
      ],
      "source": [
        "# Lets mount the drive an read the data set\n",
        "sales_df = pd.read_csv(\"/content/drive/MyDrive/CodingDojo/Stack_2/Data/sales_predictions.csv\")\n",
        "sales_df.head()"
      ]
    },
    {
      "cell_type": "markdown",
      "source": [
        "**Check for nun values and zeros**"
      ],
      "metadata": {
        "id": "mQz7twbeE7VM"
      }
    },
    {
      "cell_type": "markdown",
      "source": [
        "## **My Approach:**\n",
        "I want to be able to replace the missing value in this data set by replaing the to the values which they show the strongest correlation to. My reasoning is that this will give me the most accurate replacement of the missing values. We might even be able to create a function which take the value of a correlated value and return the aproximate missing value.  "
      ],
      "metadata": {
        "id": "ejTknhjqEst0"
      }
    },
    {
      "cell_type": "markdown",
      "source": [
        "> First order of bussines is to take all the missing value from our data set. We can fo this by droping all the row wich contain missing values. "
      ],
      "metadata": {
        "id": "EWdJLYONGAa-"
      }
    },
    {
      "cell_type": "code",
      "source": [
        "# lets fin the number of colmns which have the missing values\n",
        "sales_df.isna().any()"
      ],
      "metadata": {
        "id": "I46UZRoeGOWk",
        "outputId": "783f21a4-27bb-4823-9e46-da9693dd7032",
        "colab": {
          "base_uri": "https://localhost:8080/"
        }
      },
      "execution_count": 3,
      "outputs": [
        {
          "output_type": "execute_result",
          "data": {
            "text/plain": [
              "Item_Identifier              False\n",
              "Item_Weight                   True\n",
              "Item_Fat_Content             False\n",
              "Item_Visibility              False\n",
              "Item_Type                    False\n",
              "Item_MRP                     False\n",
              "Outlet_Identifier            False\n",
              "Outlet_Establishment_Year    False\n",
              "Outlet_Size                   True\n",
              "Outlet_Location_Type         False\n",
              "Outlet_Type                  False\n",
              "Item_Outlet_Sales            False\n",
              "dtype: bool"
            ]
          },
          "metadata": {},
          "execution_count": 3
        }
      ]
    },
    {
      "cell_type": "markdown",
      "source": [
        "> We can see that the Columns which have missin values is just 'Item_Weight' and 'Outlet_Size'\n",
        "Let's find out how many values are in those columns are NA\n",
        "We also have to look out for value wich are not save as N/a"
      ],
      "metadata": {
        "id": "3Xc-kiK9HQXh"
      }
    },
    {
      "cell_type": "code",
      "source": [
        "# get the list of columns which have a missing value\n",
        "filter = sales_df.isna().any()\n",
        "# get a df with only those columns\n",
        "na_columns_df = sales_df.loc[:, filter]\n",
        "# lets count the total number of NA value for each column\n",
        "na_columns_df.isna().cumsum()"
      ],
      "metadata": {
        "id": "mXktNoj8IIqj",
        "outputId": "408bb282-7d49-404e-b2f3-f663b2a355dc",
        "colab": {
          "base_uri": "https://localhost:8080/",
          "height": 487
        }
      },
      "execution_count": 4,
      "outputs": [
        {
          "output_type": "execute_result",
          "data": {
            "text/html": [
              "\n",
              "  <div id=\"df-d3512cf6-7a0f-43e4-9f3f-a93addc91d0e\">\n",
              "    <div class=\"colab-df-container\">\n",
              "      <div>\n",
              "<style scoped>\n",
              "    .dataframe tbody tr th:only-of-type {\n",
              "        vertical-align: middle;\n",
              "    }\n",
              "\n",
              "    .dataframe tbody tr th {\n",
              "        vertical-align: top;\n",
              "    }\n",
              "\n",
              "    .dataframe thead th {\n",
              "        text-align: right;\n",
              "    }\n",
              "</style>\n",
              "<table border=\"1\" class=\"dataframe\">\n",
              "  <thead>\n",
              "    <tr style=\"text-align: right;\">\n",
              "      <th></th>\n",
              "      <th>Item_Weight</th>\n",
              "      <th>Outlet_Size</th>\n",
              "    </tr>\n",
              "  </thead>\n",
              "  <tbody>\n",
              "    <tr>\n",
              "      <th>0</th>\n",
              "      <td>0</td>\n",
              "      <td>0</td>\n",
              "    </tr>\n",
              "    <tr>\n",
              "      <th>1</th>\n",
              "      <td>0</td>\n",
              "      <td>0</td>\n",
              "    </tr>\n",
              "    <tr>\n",
              "      <th>2</th>\n",
              "      <td>0</td>\n",
              "      <td>0</td>\n",
              "    </tr>\n",
              "    <tr>\n",
              "      <th>3</th>\n",
              "      <td>0</td>\n",
              "      <td>1</td>\n",
              "    </tr>\n",
              "    <tr>\n",
              "      <th>4</th>\n",
              "      <td>0</td>\n",
              "      <td>1</td>\n",
              "    </tr>\n",
              "    <tr>\n",
              "      <th>...</th>\n",
              "      <td>...</td>\n",
              "      <td>...</td>\n",
              "    </tr>\n",
              "    <tr>\n",
              "      <th>8518</th>\n",
              "      <td>1463</td>\n",
              "      <td>2409</td>\n",
              "    </tr>\n",
              "    <tr>\n",
              "      <th>8519</th>\n",
              "      <td>1463</td>\n",
              "      <td>2410</td>\n",
              "    </tr>\n",
              "    <tr>\n",
              "      <th>8520</th>\n",
              "      <td>1463</td>\n",
              "      <td>2410</td>\n",
              "    </tr>\n",
              "    <tr>\n",
              "      <th>8521</th>\n",
              "      <td>1463</td>\n",
              "      <td>2410</td>\n",
              "    </tr>\n",
              "    <tr>\n",
              "      <th>8522</th>\n",
              "      <td>1463</td>\n",
              "      <td>2410</td>\n",
              "    </tr>\n",
              "  </tbody>\n",
              "</table>\n",
              "<p>8523 rows × 2 columns</p>\n",
              "</div>\n",
              "      <button class=\"colab-df-convert\" onclick=\"convertToInteractive('df-d3512cf6-7a0f-43e4-9f3f-a93addc91d0e')\"\n",
              "              title=\"Convert this dataframe to an interactive table.\"\n",
              "              style=\"display:none;\">\n",
              "        \n",
              "  <svg xmlns=\"http://www.w3.org/2000/svg\" height=\"24px\"viewBox=\"0 0 24 24\"\n",
              "       width=\"24px\">\n",
              "    <path d=\"M0 0h24v24H0V0z\" fill=\"none\"/>\n",
              "    <path d=\"M18.56 5.44l.94 2.06.94-2.06 2.06-.94-2.06-.94-.94-2.06-.94 2.06-2.06.94zm-11 1L8.5 8.5l.94-2.06 2.06-.94-2.06-.94L8.5 2.5l-.94 2.06-2.06.94zm10 10l.94 2.06.94-2.06 2.06-.94-2.06-.94-.94-2.06-.94 2.06-2.06.94z\"/><path d=\"M17.41 7.96l-1.37-1.37c-.4-.4-.92-.59-1.43-.59-.52 0-1.04.2-1.43.59L10.3 9.45l-7.72 7.72c-.78.78-.78 2.05 0 2.83L4 21.41c.39.39.9.59 1.41.59.51 0 1.02-.2 1.41-.59l7.78-7.78 2.81-2.81c.8-.78.8-2.07 0-2.86zM5.41 20L4 18.59l7.72-7.72 1.47 1.35L5.41 20z\"/>\n",
              "  </svg>\n",
              "      </button>\n",
              "      \n",
              "  <style>\n",
              "    .colab-df-container {\n",
              "      display:flex;\n",
              "      flex-wrap:wrap;\n",
              "      gap: 12px;\n",
              "    }\n",
              "\n",
              "    .colab-df-convert {\n",
              "      background-color: #E8F0FE;\n",
              "      border: none;\n",
              "      border-radius: 50%;\n",
              "      cursor: pointer;\n",
              "      display: none;\n",
              "      fill: #1967D2;\n",
              "      height: 32px;\n",
              "      padding: 0 0 0 0;\n",
              "      width: 32px;\n",
              "    }\n",
              "\n",
              "    .colab-df-convert:hover {\n",
              "      background-color: #E2EBFA;\n",
              "      box-shadow: 0px 1px 2px rgba(60, 64, 67, 0.3), 0px 1px 3px 1px rgba(60, 64, 67, 0.15);\n",
              "      fill: #174EA6;\n",
              "    }\n",
              "\n",
              "    [theme=dark] .colab-df-convert {\n",
              "      background-color: #3B4455;\n",
              "      fill: #D2E3FC;\n",
              "    }\n",
              "\n",
              "    [theme=dark] .colab-df-convert:hover {\n",
              "      background-color: #434B5C;\n",
              "      box-shadow: 0px 1px 3px 1px rgba(0, 0, 0, 0.15);\n",
              "      filter: drop-shadow(0px 1px 2px rgba(0, 0, 0, 0.3));\n",
              "      fill: #FFFFFF;\n",
              "    }\n",
              "  </style>\n",
              "\n",
              "      <script>\n",
              "        const buttonEl =\n",
              "          document.querySelector('#df-d3512cf6-7a0f-43e4-9f3f-a93addc91d0e button.colab-df-convert');\n",
              "        buttonEl.style.display =\n",
              "          google.colab.kernel.accessAllowed ? 'block' : 'none';\n",
              "\n",
              "        async function convertToInteractive(key) {\n",
              "          const element = document.querySelector('#df-d3512cf6-7a0f-43e4-9f3f-a93addc91d0e');\n",
              "          const dataTable =\n",
              "            await google.colab.kernel.invokeFunction('convertToInteractive',\n",
              "                                                     [key], {});\n",
              "          if (!dataTable) return;\n",
              "\n",
              "          const docLinkHtml = 'Like what you see? Visit the ' +\n",
              "            '<a target=\"_blank\" href=https://colab.research.google.com/notebooks/data_table.ipynb>data table notebook</a>'\n",
              "            + ' to learn more about interactive tables.';\n",
              "          element.innerHTML = '';\n",
              "          dataTable['output_type'] = 'display_data';\n",
              "          await google.colab.output.renderOutput(dataTable, element);\n",
              "          const docLink = document.createElement('div');\n",
              "          docLink.innerHTML = docLinkHtml;\n",
              "          element.appendChild(docLink);\n",
              "        }\n",
              "      </script>\n",
              "    </div>\n",
              "  </div>\n",
              "  "
            ],
            "text/plain": [
              "      Item_Weight  Outlet_Size\n",
              "0               0            0\n",
              "1               0            0\n",
              "2               0            0\n",
              "3               0            1\n",
              "4               0            1\n",
              "...           ...          ...\n",
              "8518         1463         2409\n",
              "8519         1463         2410\n",
              "8520         1463         2410\n",
              "8521         1463         2410\n",
              "8522         1463         2410\n",
              "\n",
              "[8523 rows x 2 columns]"
            ]
          },
          "metadata": {},
          "execution_count": 4
        }
      ]
    },
    {
      "cell_type": "markdown",
      "source": [
        "So here we cna see that `Item_Weight` column has __1463__ NA values, and the `Outlet_size` column has __2410__ NA values"
      ],
      "metadata": {
        "id": "8fTYCZDqKcLU"
      }
    },
    {
      "cell_type": "code",
      "source": [
        "# percentage of NA values \n",
        "print(2410 / 8525 * 100 ) # this is about %28 percent of all values\n",
        "print(1463 / 8525 * 100 ) # this is about %17 percent of all values"
      ],
      "metadata": {
        "id": "_UZCyfK6MLGx",
        "outputId": "2b2d99d5-d157-4051-83e7-7624868aa85c",
        "colab": {
          "base_uri": "https://localhost:8080/"
        }
      },
      "execution_count": 5,
      "outputs": [
        {
          "output_type": "stream",
          "name": "stdout",
          "text": [
            "28.269794721407628\n",
            "17.161290322580644\n"
          ]
        }
      ]
    },
    {
      "cell_type": "markdown",
      "source": [
        "Let remove all of the rows which have NA values "
      ],
      "metadata": {
        "id": "gR8ZXuVzR1-y"
      }
    },
    {
      "cell_type": "code",
      "source": [
        "clean_df = sales_df.dropna() \n",
        "# check if there is nay na value\n",
        "clean_df.isna().any().any()"
      ],
      "metadata": {
        "id": "Y9r7Q9cvR70z",
        "outputId": "4d319354-7b49-44bb-c7d3-9edf09c61e3f",
        "colab": {
          "base_uri": "https://localhost:8080/"
        }
      },
      "execution_count": 6,
      "outputs": [
        {
          "output_type": "execute_result",
          "data": {
            "text/plain": [
              "False"
            ]
          },
          "metadata": {},
          "execution_count": 6
        }
      ]
    },
    {
      "cell_type": "code",
      "source": [
        "# lets find which value have the best correlation with the columns where we have the NA values\n",
        "# can't find a the correlation between ordinal values\n",
        "corr_map = clean_df.corr()\n",
        "sn.heatmap(corr_map, annot=True); "
      ],
      "metadata": {
        "id": "F5OlbvBjHqBP",
        "outputId": "2b7244b6-1cbc-4cf9-a3eb-8b7894817b8a",
        "colab": {
          "base_uri": "https://localhost:8080/",
          "height": 54
        }
      },
      "execution_count": 7,
      "outputs": [
        {
          "output_type": "display_data",
          "data": {
            "image/png": "[encoded data removed]",
            "text/plain": [
              "<Figure size 432x288 with 2 Axes>"
            ]
          },
          "metadata": {
            "needs_background": "light"
          }
        }
      ]
    },
    {
      "cell_type": "markdown",
      "source": [
        "We can see that the `Item_Weight` is not really that stongly correlated with any other column. "
      ],
      "metadata": {
        "id": "_-X0kpjZPGyJ"
      }
    },
    {
      "cell_type": "code",
      "source": [
        "# correlation of the Items_weights\n",
        "corr_map['Item_Weight'][1:].values "
      ],
      "metadata": {
        "id": "QD_vlGMJPGDC",
        "outputId": "00999bf0-ac3f-4155-9e6a-68dbc0cbeb57",
        "colab": {
          "base_uri": "https://localhost:8080/"
        }
      },
      "execution_count": 8,
      "outputs": [
        {
          "output_type": "execute_result",
          "data": {
            "text/plain": [
              "array([-0.01022873,  0.03333044, -0.01059587,  0.01097183])"
            ]
          },
          "metadata": {},
          "execution_count": 8
        }
      ]
    },
    {
      "cell_type": "markdown",
      "source": [
        "Let see if there is any correlation bewteen the ordinal value of `Outlet_size` and the other values \n",
        "\n",
        "Let see if we can graph the value other values vesus the `Outlet_Size`"
      ],
      "metadata": {
        "id": "ewS_4TsQTzy5"
      }
    },
    {
      "cell_type": "code",
      "source": [
        "# so let's plot it!\n",
        "# got this from\n",
        "#clean_df[['Item_Outlet_Sales', 'Outlet_Size']].plot.bar(x='Outlet_Size', y='Item_Outlet_Sales');\n",
        "figure, axis = plt.subplots(2, 2)\n",
        "sn.boxplot(y='Item_Outlet_Sales', x='Outlet_Size', data=clean_df,ax=axis[0,0]).set(title=\"Sales and Size Correlation\");\n",
        "sn.boxplot(y='Item_MRP', x='Outlet_Size', data=clean_df,ax=axis[0,1]).set(title=\"MRP and Size Correlation\");\n",
        "sn.boxplot(y='Item_Visibility', x='Outlet_Size', data=clean_df,ax=axis[1,0]).set(title=\"Visibility and Size Correlation\");\n",
        "sn.boxplot(y='Outlet_Establishment_Year', x='Outlet_Size', data=clean_df,ax=axis[1,1]).set(title=\"Outlet Year and Size Correlation\");\n",
        "# make it all fit together\n",
        "plt.tight_layout()\n"
      ],
      "metadata": {
        "id": "oyb8d_vpJyJ3",
        "outputId": "28d01c45-a50e-4b50-ab5c-54d7d47d7fb9",
        "colab": {
          "base_uri": "https://localhost:8080/",
          "height": 54
        }
      },
      "execution_count": 9,
      "outputs": [
        {
          "output_type": "display_data",
          "data": {
            "image/png": "[encoded data removed]",
            "text/plain": [
              "<Figure size 432x288 with 4 Axes>"
            ]
          },
          "metadata": {
            "needs_background": "light"
          }
        }
      ]
    },
    {
      "cell_type": "markdown",
      "source": [
        "There does not seem to be any reall correation between the numerical value in the data set and the ordinal value of `Outlet_Size`\n",
        "\n",
        "However there does seem to be some pattern between the `Outlet_Establisment_Year` and the `Outlet_Size`: We can see that ot only are there far more values in where the `Outlet_Size` is __Medium__ or __Small__ and that almost all the value where it is __High__ are outlets made before __1990__.\n",
        "\n",
        "If we compare this to the distribution of `Outlest_Size` values. "
      ],
      "metadata": {
        "id": "NbPEuvwUSh4R"
      }
    },
    {
      "cell_type": "code",
      "source": [
        "clean_df.Outlet_Size.hist();"
      ],
      "metadata": {
        "colab": {
          "base_uri": "https://localhost:8080/",
          "height": 54
        },
        "id": "JbIEkhRwThyh",
        "outputId": "1bb5ff5e-a6f2-4878-dc8a-77ac2d524ed6"
      },
      "execution_count": 10,
      "outputs": [
        {
          "output_type": "display_data",
          "data": {
            "image/png": "[encoded data removed]",
            "text/plain": [
              "<Figure size 432x288 with 1 Axes>"
            ]
          },
          "metadata": {
            "needs_background": "light"
          }
        }
      ]
    },
    {
      "cell_type": "markdown",
      "source": [
        "We can see that ther number __high__ value is truly is significaly lower than the ther two. \n",
        "\n",
        "if fact only: "
      ],
      "metadata": {
        "id": "QDZDjF34T9oB"
      }
    },
    {
      "cell_type": "code",
      "source": [
        "count = len(clean_df.query('Outlet_Size == \"High\"'))\n",
        "negative = len(clean_df.query('Outlet_Size != \"High\"'))\n",
        "f\"there are only {count} values where Outlet_Size is high, compare with {negative} values where it is not\""
      ],
      "metadata": {
        "colab": {
          "base_uri": "https://localhost:8080/",
          "height": 1000
        },
        "id": "3Zs_QbE2WRDX",
        "outputId": "cf51e2c6-705b-4745-93bf-3b93dae72488"
      },
      "execution_count": 11,
      "outputs": [
        {
          "output_type": "execute_result",
          "data": {
            "application/vnd.google.colaboratory.intrinsic+json": {
              "type": "string"
            },
            "text/plain": [
              "'there are only 932 values where Outlet_Size is high, compare with 3718 values where it is not'"
            ]
          },
          "metadata": {},
          "execution_count": 11
        }
      ]
    },
    {
      "cell_type": "code",
      "source": [
        "# if face we can see that all 932 Outlets where made in the year 1987\n",
        "clean_df.query('Outlet_Size == \"High\"').Outlet_Establishment_Year.describe()\n"
      ],
      "metadata": {
        "colab": {
          "base_uri": "https://localhost:8080/"
        },
        "id": "PcAEYEbjT8ll",
        "outputId": "ec4b84e8-dee1-4411-e321-7c63093ae9b6"
      },
      "execution_count": 12,
      "outputs": [
        {
          "output_type": "execute_result",
          "data": {
            "text/plain": [
              "count     932.0\n",
              "mean     1987.0\n",
              "std         0.0\n",
              "min      1987.0\n",
              "25%      1987.0\n",
              "50%      1987.0\n",
              "75%      1987.0\n",
              "max      1987.0\n",
              "Name: Outlet_Establishment_Year, dtype: float64"
            ]
          },
          "metadata": {},
          "execution_count": 12
        }
      ]
    },
    {
      "cell_type": "markdown",
      "source": [
        "Thus we can safely assume that any missing value about the size of the outlet before or in __1987__ are going to be __high__, while all the values after, are going to be either __Medium__ or __Small__.\n",
        "\n",
        "Thus let's take a look at the years of the missing values."
      ],
      "metadata": {
        "id": "QpSYLMouYNHJ"
      }
    },
    {
      "cell_type": "code",
      "source": [
        "# get al the rows that have missing values\n",
        "missing_df = sales_df[sales_df['Outlet_Size'].isna()]\n",
        "missing_df.Outlet_Establishment_Year.hist();"
      ],
      "metadata": {
        "colab": {
          "base_uri": "https://localhost:8080/",
          "height": 54
        },
        "id": "gFHpkvO8Yq3D",
        "outputId": "75653d2b-8839-4f9f-b2a9-1de7f39f59a6"
      },
      "execution_count": 13,
      "outputs": [
        {
          "output_type": "display_data",
          "data": {
            "image/png": "[encoded data removed]",
            "text/plain": [
              "<Figure size 432x288 with 1 Axes>"
            ]
          },
          "metadata": {
            "needs_background": "light"
          }
        }
      ]
    },
    {
      "cell_type": "markdown",
      "source": [
        "From this graph we can see that none of the outlets which have missing values where made before or in 1987. \n",
        "Thus we can assume all of this value of `Outler_Size` can be filled with either __Small__ or __Medium__"
      ],
      "metadata": {
        "id": "SCtbG7GMXwrz"
      }
    },
    {
      "cell_type": "code",
      "source": [
        "# \n",
        "#years = sales_df.Outlet_Establishment_Year.unique()\n",
        "#sales_df.Outlet_Establishment_Year.hist(bins=100);\n",
        "colors = [\"blue\", \"red\",\"green\",\"black\"]\n",
        "sn.set_palette(sn.color_palette(colors))\n",
        "sn.histplot(data=sales_df, x=\"Outlet_Establishment_Year\", hue=\"Outlet_Size\", bins=20, discrete=True, multiple=\"dodge\");\n",
        "#colors = [\"black\", \"red\",\"green\",\"black\"]\n",
        "#sn.set_palette(sn.color_palette(colors))\n",
        "#sn.histplot(data=missing_df, x=\"Outlet_Establishment_Year\", bins=15)\n",
        "#sn.barplot(x='Outlet_Size', hue='Outlet_Establishment_Year', data=sales_df )\n",
        "sales_df.Outlet_Size.value_counts()"
      ],
      "metadata": {
        "colab": {
          "base_uri": "https://localhost:8080/",
          "height": 124
        },
        "id": "r124gV8zb5ad",
        "outputId": "b2ad0336-139f-47c4-9975-208fedb1f2c4"
      },
      "execution_count": 14,
      "outputs": [
        {
          "output_type": "execute_result",
          "data": {
            "text/plain": [
              "Medium    2793\n",
              "Small     2388\n",
              "High       932\n",
              "Name: Outlet_Size, dtype: int64"
            ]
          },
          "metadata": {},
          "execution_count": 14
        },
        {
          "output_type": "display_data",
          "data": {
            "image/png": "[encoded data removed]",
            "text/plain": [
              "<Figure size 432x288 with 1 Axes>"
            ]
          },
          "metadata": {
            "needs_background": "light"
          }
        }
      ]
    },
    {
      "cell_type": "code",
      "source": [
        "# heck the number of na values\n",
        "#na_columns = super_cool_df.isna().any() # check which colmun have a na value\n",
        "#g = sn.FacetGrid(data=super_cool_df, col='Outlet_Size', col_wrap=4)\n",
        "\n",
        "#super_cool_df.loc[:, na_columns]\n",
        "\n",
        "#add plots to grid\n",
        "#g.map(sn.scatterplot, 'Outlet_Size', 'Item_Weight')\n"
      ],
      "metadata": {
        "id": "mZBLuLfOFEo3"
      },
      "execution_count": 15,
      "outputs": []
    },
    {
      "cell_type": "code",
      "source": [
        "# fill in the Na values\n",
        "#super_cool_df.fillna(method='ffill').isna().any()"
      ],
      "metadata": {
        "id": "3feBzQAbLp3t"
      },
      "execution_count": 16,
      "outputs": []
    },
    {
      "cell_type": "markdown",
      "source": [
        "# Stack 2: Data Processing"
      ],
      "metadata": {
        "id": "I48EwVnRZUXB"
      }
    },
    {
      "cell_type": "markdown",
      "source": [
        "Ok, since we now ahve a target to which we are seeking to predict `Item_Outlet_Sales` we can now 'isolate' that column, the same way the world is isolating Russia. \n"
      ],
      "metadata": {
        "id": "5aLI8RjcaH96"
      }
    },
    {
      "cell_type": "code",
      "source": [
        "# lets make some skilearn imports\n",
        "from sklearn.preprocessing import StandardScaler\n",
        "from sklearn.model_selection import train_test_split\n",
        "from sklearn.compose import make_column_selector\n",
        "from sklearn.preprocessing import OneHotEncoder\n",
        "from sklearn.impute import SimpleImputer\n",
        "from sklearn.compose import make_column_transformer\n",
        "from sklearn.pipeline import make_pipeline\n",
        "from sklearn import set_config\n",
        "set_config(display='diagram')"
      ],
      "metadata": {
        "id": "eQ10VHPmb_pF"
      },
      "execution_count": 17,
      "outputs": []
    },
    {
      "cell_type": "code",
      "source": [
        "target = sales_df.Item_Outlet_Sales\n",
        "features = sales_df.drop(columns='Item_Outlet_Sales')"
      ],
      "metadata": {
        "id": "u16TEu17Z_8v"
      },
      "execution_count": 18,
      "outputs": []
    },
    {
      "cell_type": "markdown",
      "source": [
        "Now let make the preprocessing object "
      ],
      "metadata": {
        "id": "vg4HqxH7ZXim"
      }
    },
    {
      "cell_type": "code",
      "source": [
        "# lets split the data \n",
        "X_train, X_test, y_train, y_test = train_test_split(features, target, random_state=42)\n",
        "# let make some imputers\n",
        "freq_imputer = SimpleImputer(strategy='most_frequent')\n",
        "mean_imputer = SimpleImputer(strategy='mean')\n",
        "# let's make our one hot encoder\n",
        "ohe = OneHotEncoder(handle_unknown='ignore', sparse=False)\n",
        "# Scaler\n",
        "scaler = StandardScaler()\n",
        "# now let's the piplines for each object \n",
        "numeric_pipe = make_pipeline(mean_imputer, scaler)\n",
        "categorical_pipe = make_pipeline(freq_imputer, ohe)\n",
        "# first then selectors\n",
        "cat_selector = make_column_selector(dtype_include='object')\n",
        "num_selector = make_column_selector(dtype_include='number')\n",
        "# let's make a lnear regression\n",
        "\n",
        "# Tuples for Column Transformer\n",
        "number_tuple = (numeric_pipe, num_selector)\n",
        "category_tuple = (categorical_pipe, cat_selector)\n",
        "# preprocessor\n",
        "preprocessor = make_column_transformer(number_tuple, category_tuple, remainder=\"passthrough\")\n",
        "preprocessor"
      ],
      "metadata": {
        "id": "sdQuw8M_dGQ_",
        "outputId": "ed069d27-4f9a-44b5-c1ab-e2ce8e7967b4",
        "colab": {
          "base_uri": "https://localhost:8080/",
          "height": 150
        }
      },
      "execution_count": 24,
      "outputs": [
        {
          "output_type": "execute_result",
          "data": {
            "text/html": [
              "<style>#sk-89264278-1535-4c0c-aba2-b3e2f9e9e0de {color: black;background-color: white;}#sk-89264278-1535-4c0c-aba2-b3e2f9e9e0de pre{padding: 0;}#sk-89264278-1535-4c0c-aba2-b3e2f9e9e0de div.sk-toggleable {background-color: white;}#sk-89264278-1535-4c0c-aba2-b3e2f9e9e0de label.sk-toggleable__label {cursor: pointer;display: block;width: 100%;margin-bottom: 0;padding: 0.3em;box-sizing: border-box;text-align: center;}#sk-89264278-1535-4c0c-aba2-b3e2f9e9e0de label.sk-toggleable__label-arrow:before {content: \"▸\";float: left;margin-right: 0.25em;color: #696969;}#sk-89264278-1535-4c0c-aba2-b3e2f9e9e0de label.sk-toggleable__label-arrow:hover:before {color: black;}#sk-89264278-1535-4c0c-aba2-b3e2f9e9e0de div.sk-estimator:hover label.sk-toggleable__label-arrow:before {color: black;}#sk-89264278-1535-4c0c-aba2-b3e2f9e9e0de div.sk-toggleable__content {max-height: 0;max-width: 0;overflow: hidden;text-align: left;background-color: #f0f8ff;}#sk-89264278-1535-4c0c-aba2-b3e2f9e9e0de div.sk-toggleable__content pre {margin: 0.2em;color: black;border-radius: 0.25em;background-color: #f0f8ff;}#sk-89264278-1535-4c0c-aba2-b3e2f9e9e0de input.sk-toggleable__control:checked~div.sk-toggleable__content {max-height: 200px;max-width: 100%;overflow: auto;}#sk-89264278-1535-4c0c-aba2-b3e2f9e9e0de input.sk-toggleable__control:checked~label.sk-toggleable__label-arrow:before {content: \"▾\";}#sk-89264278-1535-4c0c-aba2-b3e2f9e9e0de div.sk-estimator input.sk-toggleable__control:checked~label.sk-toggleable__label {background-color: #d4ebff;}#sk-89264278-1535-4c0c-aba2-b3e2f9e9e0de div.sk-label input.sk-toggleable__control:checked~label.sk-toggleable__label {background-color: #d4ebff;}#sk-89264278-1535-4c0c-aba2-b3e2f9e9e0de input.sk-hidden--visually {border: 0;clip: rect(1px 1px 1px 1px);clip: rect(1px, 1px, 1px, 1px);height: 1px;margin: -1px;overflow: hidden;padding: 0;position: absolute;width: 1px;}#sk-89264278-1535-4c0c-aba2-b3e2f9e9e0de div.sk-estimator {font-family: monospace;background-color: #f0f8ff;border: 1px dotted black;border-radius: 0.25em;box-sizing: border-box;margin-bottom: 0.5em;}#sk-89264278-1535-4c0c-aba2-b3e2f9e9e0de div.sk-estimator:hover {background-color: #d4ebff;}#sk-89264278-1535-4c0c-aba2-b3e2f9e9e0de div.sk-parallel-item::after {content: \"\";width: 100%;border-bottom: 1px solid gray;flex-grow: 1;}#sk-89264278-1535-4c0c-aba2-b3e2f9e9e0de div.sk-label:hover label.sk-toggleable__label {background-color: #d4ebff;}#sk-89264278-1535-4c0c-aba2-b3e2f9e9e0de div.sk-serial::before {content: \"\";position: absolute;border-left: 1px solid gray;box-sizing: border-box;top: 2em;bottom: 0;left: 50%;}#sk-89264278-1535-4c0c-aba2-b3e2f9e9e0de div.sk-serial {display: flex;flex-direction: column;align-items: center;background-color: white;padding-right: 0.2em;padding-left: 0.2em;}#sk-89264278-1535-4c0c-aba2-b3e2f9e9e0de div.sk-item {z-index: 1;}#sk-89264278-1535-4c0c-aba2-b3e2f9e9e0de div.sk-parallel {display: flex;align-items: stretch;justify-content: center;background-color: white;}#sk-89264278-1535-4c0c-aba2-b3e2f9e9e0de div.sk-parallel::before {content: \"\";position: absolute;border-left: 1px solid gray;box-sizing: border-box;top: 2em;bottom: 0;left: 50%;}#sk-89264278-1535-4c0c-aba2-b3e2f9e9e0de div.sk-parallel-item {display: flex;flex-direction: column;position: relative;background-color: white;}#sk-89264278-1535-4c0c-aba2-b3e2f9e9e0de div.sk-parallel-item:first-child::after {align-self: flex-end;width: 50%;}#sk-89264278-1535-4c0c-aba2-b3e2f9e9e0de div.sk-parallel-item:last-child::after {align-self: flex-start;width: 50%;}#sk-89264278-1535-4c0c-aba2-b3e2f9e9e0de div.sk-parallel-item:only-child::after {width: 0;}#sk-89264278-1535-4c0c-aba2-b3e2f9e9e0de div.sk-dashed-wrapped {border: 1px dashed gray;margin: 0 0.4em 0.5em 0.4em;box-sizing: border-box;padding-bottom: 0.4em;background-color: white;position: relative;}#sk-89264278-1535-4c0c-aba2-b3e2f9e9e0de div.sk-label label {font-family: monospace;font-weight: bold;background-color: white;display: inline-block;line-height: 1.2em;}#sk-89264278-1535-4c0c-aba2-b3e2f9e9e0de div.sk-label-container {position: relative;z-index: 2;text-align: center;}#sk-89264278-1535-4c0c-aba2-b3e2f9e9e0de div.sk-container {/* jupyter's `normalize.less` sets `[hidden] { display: none; }` but bootstrap.min.css set `[hidden] { display: none !important; }` so we also need the `!important` here to be able to override the default hidden behavior on the sphinx rendered scikit-learn.org. See: https://github.com/scikit-learn/scikit-learn/issues/21755 */display: inline-block !important;position: relative;}#sk-89264278-1535-4c0c-aba2-b3e2f9e9e0de div.sk-text-repr-fallback {display: none;}</style><div id=\"sk-89264278-1535-4c0c-aba2-b3e2f9e9e0de\" class=\"sk-top-container\"><div class=\"sk-text-repr-fallback\"><pre>ColumnTransformer(remainder=&#x27;passthrough&#x27;,\n",
              "                  transformers=[(&#x27;pipeline-1&#x27;,\n",
              "                                 Pipeline(steps=[(&#x27;simpleimputer&#x27;,\n",
              "                                                  SimpleImputer()),\n",
              "                                                 (&#x27;standardscaler&#x27;,\n",
              "                                                  StandardScaler())]),\n",
              "                                 &lt;sklearn.compose._column_transformer.make_column_selector object at 0x7fb4a1ab2450&gt;),\n",
              "                                (&#x27;pipeline-2&#x27;,\n",
              "                                 Pipeline(steps=[(&#x27;simpleimputer&#x27;,\n",
              "                                                  SimpleImputer(strategy=&#x27;most_frequent&#x27;)),\n",
              "                                                 (&#x27;onehotencoder&#x27;,\n",
              "                                                  OneHotEncoder(handle_unknown=&#x27;ignore&#x27;,\n",
              "                                                                sparse=False))]),\n",
              "                                 &lt;sklearn.compose._column_transformer.make_column_selector object at 0x7fb4a1ab27d0&gt;)])</pre><b>Please rerun this cell to show the HTML repr or trust the notebook.</b></div><div class=\"sk-container\" hidden><div class=\"sk-item sk-dashed-wrapped\"><div class=\"sk-label-container\"><div class=\"sk-label sk-toggleable\"><input class=\"sk-toggleable__control sk-hidden--visually\" id=\"6c6d87dc-3644-4adc-9a0a-9aa0e7fbcfb7\" type=\"checkbox\" ><label for=\"6c6d87dc-3644-4adc-9a0a-9aa0e7fbcfb7\" class=\"sk-toggleable__label sk-toggleable__label-arrow\">ColumnTransformer</label><div class=\"sk-toggleable__content\"><pre>ColumnTransformer(remainder=&#x27;passthrough&#x27;,\n",
              "                  transformers=[(&#x27;pipeline-1&#x27;,\n",
              "                                 Pipeline(steps=[(&#x27;simpleimputer&#x27;,\n",
              "                                                  SimpleImputer()),\n",
              "                                                 (&#x27;standardscaler&#x27;,\n",
              "                                                  StandardScaler())]),\n",
              "                                 &lt;sklearn.compose._column_transformer.make_column_selector object at 0x7fb4a1ab2450&gt;),\n",
              "                                (&#x27;pipeline-2&#x27;,\n",
              "                                 Pipeline(steps=[(&#x27;simpleimputer&#x27;,\n",
              "                                                  SimpleImputer(strategy=&#x27;most_frequent&#x27;)),\n",
              "                                                 (&#x27;onehotencoder&#x27;,\n",
              "                                                  OneHotEncoder(handle_unknown=&#x27;ignore&#x27;,\n",
              "                                                                sparse=False))]),\n",
              "                                 &lt;sklearn.compose._column_transformer.make_column_selector object at 0x7fb4a1ab27d0&gt;)])</pre></div></div></div><div class=\"sk-parallel\"><div class=\"sk-parallel-item\"><div class=\"sk-item\"><div class=\"sk-label-container\"><div class=\"sk-label sk-toggleable\"><input class=\"sk-toggleable__control sk-hidden--visually\" id=\"5cf06294-cfbc-496c-9fbe-c0e853013b24\" type=\"checkbox\" ><label for=\"5cf06294-cfbc-496c-9fbe-c0e853013b24\" class=\"sk-toggleable__label sk-toggleable__label-arrow\">pipeline-1</label><div class=\"sk-toggleable__content\"><pre>&lt;sklearn.compose._column_transformer.make_column_selector object at 0x7fb4a1ab2450&gt;</pre></div></div></div><div class=\"sk-serial\"><div class=\"sk-item\"><div class=\"sk-serial\"><div class=\"sk-item\"><div class=\"sk-estimator sk-toggleable\"><input class=\"sk-toggleable__control sk-hidden--visually\" id=\"37d2fe59-96b8-4a75-8dbd-0735b6d5a1ef\" type=\"checkbox\" ><label for=\"37d2fe59-96b8-4a75-8dbd-0735b6d5a1ef\" class=\"sk-toggleable__label sk-toggleable__label-arrow\">SimpleImputer</label><div class=\"sk-toggleable__content\"><pre>SimpleImputer()</pre></div></div></div><div class=\"sk-item\"><div class=\"sk-estimator sk-toggleable\"><input class=\"sk-toggleable__control sk-hidden--visually\" id=\"d1fa4378-8dac-42d3-a489-c251b7f21def\" type=\"checkbox\" ><label for=\"d1fa4378-8dac-42d3-a489-c251b7f21def\" class=\"sk-toggleable__label sk-toggleable__label-arrow\">StandardScaler</label><div class=\"sk-toggleable__content\"><pre>StandardScaler()</pre></div></div></div></div></div></div></div></div><div class=\"sk-parallel-item\"><div class=\"sk-item\"><div class=\"sk-label-container\"><div class=\"sk-label sk-toggleable\"><input class=\"sk-toggleable__control sk-hidden--visually\" id=\"c7cf2fc8-714e-4515-bb7f-fbc56f838d40\" type=\"checkbox\" ><label for=\"c7cf2fc8-714e-4515-bb7f-fbc56f838d40\" class=\"sk-toggleable__label sk-toggleable__label-arrow\">pipeline-2</label><div class=\"sk-toggleable__content\"><pre>&lt;sklearn.compose._column_transformer.make_column_selector object at 0x7fb4a1ab27d0&gt;</pre></div></div></div><div class=\"sk-serial\"><div class=\"sk-item\"><div class=\"sk-serial\"><div class=\"sk-item\"><div class=\"sk-estimator sk-toggleable\"><input class=\"sk-toggleable__control sk-hidden--visually\" id=\"a4b8679a-1c7f-4acf-b681-7fecffb77c99\" type=\"checkbox\" ><label for=\"a4b8679a-1c7f-4acf-b681-7fecffb77c99\" class=\"sk-toggleable__label sk-toggleable__label-arrow\">SimpleImputer</label><div class=\"sk-toggleable__content\"><pre>SimpleImputer(strategy=&#x27;most_frequent&#x27;)</pre></div></div></div><div class=\"sk-item\"><div class=\"sk-estimator sk-toggleable\"><input class=\"sk-toggleable__control sk-hidden--visually\" id=\"85f14cfa-ceba-428d-8afa-b7f8acf25cb7\" type=\"checkbox\" ><label for=\"85f14cfa-ceba-428d-8afa-b7f8acf25cb7\" class=\"sk-toggleable__label sk-toggleable__label-arrow\">OneHotEncoder</label><div class=\"sk-toggleable__content\"><pre>OneHotEncoder(handle_unknown=&#x27;ignore&#x27;, sparse=False)</pre></div></div></div></div></div></div></div></div><div class=\"sk-parallel-item\"><div class=\"sk-item\"><div class=\"sk-label-container\"><div class=\"sk-label sk-toggleable\"><input class=\"sk-toggleable__control sk-hidden--visually\" id=\"f8b1f7b4-fcf7-4482-a64d-9432049ee07d\" type=\"checkbox\" ><label for=\"f8b1f7b4-fcf7-4482-a64d-9432049ee07d\" class=\"sk-toggleable__label sk-toggleable__label-arrow\">remainder</label><div class=\"sk-toggleable__content\"><pre></pre></div></div></div><div class=\"sk-serial\"><div class=\"sk-item\"><div class=\"sk-estimator sk-toggleable\"><input class=\"sk-toggleable__control sk-hidden--visually\" id=\"299bd45d-a128-41dd-bcfc-c2a84cf9ce98\" type=\"checkbox\" ><label for=\"299bd45d-a128-41dd-bcfc-c2a84cf9ce98\" class=\"sk-toggleable__label sk-toggleable__label-arrow\">passthrough</label><div class=\"sk-toggleable__content\"><pre>passthrough</pre></div></div></div></div></div></div></div></div></div></div>"
            ],
            "text/plain": [
              "ColumnTransformer(remainder='passthrough',\n",
              "                  transformers=[('pipeline-1',\n",
              "                                 Pipeline(steps=[('simpleimputer',\n",
              "                                                  SimpleImputer()),\n",
              "                                                 ('standardscaler',\n",
              "                                                  StandardScaler())]),\n",
              "                                 <sklearn.compose._column_transformer.make_column_selector object at 0x7fb4a1ab2450>),\n",
              "                                ('pipeline-2',\n",
              "                                 Pipeline(steps=[('simpleimputer',\n",
              "                                                  SimpleImputer(strategy='most_frequent')),\n",
              "                                                 ('onehotencoder',\n",
              "                                                  OneHotEncoder(handle_unknown='ignore',\n",
              "                                                                sparse=False))]),\n",
              "                                 <sklearn.compose._column_transformer.make_column_selector object at 0x7fb4a1ab27d0>)])"
            ]
          },
          "metadata": {},
          "execution_count": 24
        }
      ]
    },
    {
      "cell_type": "code",
      "source": [
        "from sklearn.dummy import DummyRegressor\n",
        "dummy = DummyRegressor(strategy=\"mean\")\n",
        "\n",
        "dummy_pipe= make_pipeline(preprocessor ,dummy)\n",
        "dummy_pipe.fit(X_train,y_train)"
      ],
      "metadata": {
        "id": "XRngG-LGX3SK",
        "outputId": "82c53fc3-7a23-41d4-afb7-4aa42a827f0c",
        "colab": {
          "base_uri": "https://localhost:8080/",
          "height": 223
        }
      },
      "execution_count": 29,
      "outputs": [
        {
          "output_type": "execute_result",
          "data": {
            "text/html": [
              "<style>#sk-baccc485-efb2-4fbe-8225-22a7ac804d87 {color: black;background-color: white;}#sk-baccc485-efb2-4fbe-8225-22a7ac804d87 pre{padding: 0;}#sk-baccc485-efb2-4fbe-8225-22a7ac804d87 div.sk-toggleable {background-color: white;}#sk-baccc485-efb2-4fbe-8225-22a7ac804d87 label.sk-toggleable__label {cursor: pointer;display: block;width: 100%;margin-bottom: 0;padding: 0.3em;box-sizing: border-box;text-align: center;}#sk-baccc485-efb2-4fbe-8225-22a7ac804d87 label.sk-toggleable__label-arrow:before {content: \"▸\";float: left;margin-right: 0.25em;color: #696969;}#sk-baccc485-efb2-4fbe-8225-22a7ac804d87 label.sk-toggleable__label-arrow:hover:before {color: black;}#sk-baccc485-efb2-4fbe-8225-22a7ac804d87 div.sk-estimator:hover label.sk-toggleable__label-arrow:before {color: black;}#sk-baccc485-efb2-4fbe-8225-22a7ac804d87 div.sk-toggleable__content {max-height: 0;max-width: 0;overflow: hidden;text-align: left;background-color: #f0f8ff;}#sk-baccc485-efb2-4fbe-8225-22a7ac804d87 div.sk-toggleable__content pre {margin: 0.2em;color: black;border-radius: 0.25em;background-color: #f0f8ff;}#sk-baccc485-efb2-4fbe-8225-22a7ac804d87 input.sk-toggleable__control:checked~div.sk-toggleable__content {max-height: 200px;max-width: 100%;overflow: auto;}#sk-baccc485-efb2-4fbe-8225-22a7ac804d87 input.sk-toggleable__control:checked~label.sk-toggleable__label-arrow:before {content: \"▾\";}#sk-baccc485-efb2-4fbe-8225-22a7ac804d87 div.sk-estimator input.sk-toggleable__control:checked~label.sk-toggleable__label {background-color: #d4ebff;}#sk-baccc485-efb2-4fbe-8225-22a7ac804d87 div.sk-label input.sk-toggleable__control:checked~label.sk-toggleable__label {background-color: #d4ebff;}#sk-baccc485-efb2-4fbe-8225-22a7ac804d87 input.sk-hidden--visually {border: 0;clip: rect(1px 1px 1px 1px);clip: rect(1px, 1px, 1px, 1px);height: 1px;margin: -1px;overflow: hidden;padding: 0;position: absolute;width: 1px;}#sk-baccc485-efb2-4fbe-8225-22a7ac804d87 div.sk-estimator {font-family: monospace;background-color: #f0f8ff;border: 1px dotted black;border-radius: 0.25em;box-sizing: border-box;margin-bottom: 0.5em;}#sk-baccc485-efb2-4fbe-8225-22a7ac804d87 div.sk-estimator:hover {background-color: #d4ebff;}#sk-baccc485-efb2-4fbe-8225-22a7ac804d87 div.sk-parallel-item::after {content: \"\";width: 100%;border-bottom: 1px solid gray;flex-grow: 1;}#sk-baccc485-efb2-4fbe-8225-22a7ac804d87 div.sk-label:hover label.sk-toggleable__label {background-color: #d4ebff;}#sk-baccc485-efb2-4fbe-8225-22a7ac804d87 div.sk-serial::before {content: \"\";position: absolute;border-left: 1px solid gray;box-sizing: border-box;top: 2em;bottom: 0;left: 50%;}#sk-baccc485-efb2-4fbe-8225-22a7ac804d87 div.sk-serial {display: flex;flex-direction: column;align-items: center;background-color: white;padding-right: 0.2em;padding-left: 0.2em;}#sk-baccc485-efb2-4fbe-8225-22a7ac804d87 div.sk-item {z-index: 1;}#sk-baccc485-efb2-4fbe-8225-22a7ac804d87 div.sk-parallel {display: flex;align-items: stretch;justify-content: center;background-color: white;}#sk-baccc485-efb2-4fbe-8225-22a7ac804d87 div.sk-parallel::before {content: \"\";position: absolute;border-left: 1px solid gray;box-sizing: border-box;top: 2em;bottom: 0;left: 50%;}#sk-baccc485-efb2-4fbe-8225-22a7ac804d87 div.sk-parallel-item {display: flex;flex-direction: column;position: relative;background-color: white;}#sk-baccc485-efb2-4fbe-8225-22a7ac804d87 div.sk-parallel-item:first-child::after {align-self: flex-end;width: 50%;}#sk-baccc485-efb2-4fbe-8225-22a7ac804d87 div.sk-parallel-item:last-child::after {align-self: flex-start;width: 50%;}#sk-baccc485-efb2-4fbe-8225-22a7ac804d87 div.sk-parallel-item:only-child::after {width: 0;}#sk-baccc485-efb2-4fbe-8225-22a7ac804d87 div.sk-dashed-wrapped {border: 1px dashed gray;margin: 0 0.4em 0.5em 0.4em;box-sizing: border-box;padding-bottom: 0.4em;background-color: white;position: relative;}#sk-baccc485-efb2-4fbe-8225-22a7ac804d87 div.sk-label label {font-family: monospace;font-weight: bold;background-color: white;display: inline-block;line-height: 1.2em;}#sk-baccc485-efb2-4fbe-8225-22a7ac804d87 div.sk-label-container {position: relative;z-index: 2;text-align: center;}#sk-baccc485-efb2-4fbe-8225-22a7ac804d87 div.sk-container {/* jupyter's `normalize.less` sets `[hidden] { display: none; }` but bootstrap.min.css set `[hidden] { display: none !important; }` so we also need the `!important` here to be able to override the default hidden behavior on the sphinx rendered scikit-learn.org. See: https://github.com/scikit-learn/scikit-learn/issues/21755 */display: inline-block !important;position: relative;}#sk-baccc485-efb2-4fbe-8225-22a7ac804d87 div.sk-text-repr-fallback {display: none;}</style><div id=\"sk-baccc485-efb2-4fbe-8225-22a7ac804d87\" class=\"sk-top-container\"><div class=\"sk-text-repr-fallback\"><pre>Pipeline(steps=[(&#x27;columntransformer&#x27;,\n",
              "                 ColumnTransformer(remainder=&#x27;passthrough&#x27;,\n",
              "                                   transformers=[(&#x27;pipeline-1&#x27;,\n",
              "                                                  Pipeline(steps=[(&#x27;simpleimputer&#x27;,\n",
              "                                                                   SimpleImputer()),\n",
              "                                                                  (&#x27;standardscaler&#x27;,\n",
              "                                                                   StandardScaler())]),\n",
              "                                                  &lt;sklearn.compose._column_transformer.make_column_selector object at 0x7fb4a1ab2450&gt;),\n",
              "                                                 (&#x27;pipeline-2&#x27;,\n",
              "                                                  Pipeline(steps=[(&#x27;simpleimputer&#x27;,\n",
              "                                                                   SimpleImputer(strategy=&#x27;most_frequent&#x27;)),\n",
              "                                                                  (&#x27;onehotencoder&#x27;,\n",
              "                                                                   OneHotEncoder(handle_unknown=&#x27;ignore&#x27;,\n",
              "                                                                                 sparse=False))]),\n",
              "                                                  &lt;sklearn.compose._column_transformer.make_column_selector object at 0x7fb4a1ab27d0&gt;)])),\n",
              "                (&#x27;dummyregressor&#x27;, DummyRegressor())])</pre><b>Please rerun this cell to show the HTML repr or trust the notebook.</b></div><div class=\"sk-container\" hidden><div class=\"sk-item sk-dashed-wrapped\"><div class=\"sk-label-container\"><div class=\"sk-label sk-toggleable\"><input class=\"sk-toggleable__control sk-hidden--visually\" id=\"52ad3f2a-9bb0-4d2d-9c45-aae5b5d62db4\" type=\"checkbox\" ><label for=\"52ad3f2a-9bb0-4d2d-9c45-aae5b5d62db4\" class=\"sk-toggleable__label sk-toggleable__label-arrow\">Pipeline</label><div class=\"sk-toggleable__content\"><pre>Pipeline(steps=[(&#x27;columntransformer&#x27;,\n",
              "                 ColumnTransformer(remainder=&#x27;passthrough&#x27;,\n",
              "                                   transformers=[(&#x27;pipeline-1&#x27;,\n",
              "                                                  Pipeline(steps=[(&#x27;simpleimputer&#x27;,\n",
              "                                                                   SimpleImputer()),\n",
              "                                                                  (&#x27;standardscaler&#x27;,\n",
              "                                                                   StandardScaler())]),\n",
              "                                                  &lt;sklearn.compose._column_transformer.make_column_selector object at 0x7fb4a1ab2450&gt;),\n",
              "                                                 (&#x27;pipeline-2&#x27;,\n",
              "                                                  Pipeline(steps=[(&#x27;simpleimputer&#x27;,\n",
              "                                                                   SimpleImputer(strategy=&#x27;most_frequent&#x27;)),\n",
              "                                                                  (&#x27;onehotencoder&#x27;,\n",
              "                                                                   OneHotEncoder(handle_unknown=&#x27;ignore&#x27;,\n",
              "                                                                                 sparse=False))]),\n",
              "                                                  &lt;sklearn.compose._column_transformer.make_column_selector object at 0x7fb4a1ab27d0&gt;)])),\n",
              "                (&#x27;dummyregressor&#x27;, DummyRegressor())])</pre></div></div></div><div class=\"sk-serial\"><div class=\"sk-item sk-dashed-wrapped\"><div class=\"sk-label-container\"><div class=\"sk-label sk-toggleable\"><input class=\"sk-toggleable__control sk-hidden--visually\" id=\"a5388dc4-9dd9-475c-8ec5-ce11eb2f3571\" type=\"checkbox\" ><label for=\"a5388dc4-9dd9-475c-8ec5-ce11eb2f3571\" class=\"sk-toggleable__label sk-toggleable__label-arrow\">columntransformer: ColumnTransformer</label><div class=\"sk-toggleable__content\"><pre>ColumnTransformer(remainder=&#x27;passthrough&#x27;,\n",
              "                  transformers=[(&#x27;pipeline-1&#x27;,\n",
              "                                 Pipeline(steps=[(&#x27;simpleimputer&#x27;,\n",
              "                                                  SimpleImputer()),\n",
              "                                                 (&#x27;standardscaler&#x27;,\n",
              "                                                  StandardScaler())]),\n",
              "                                 &lt;sklearn.compose._column_transformer.make_column_selector object at 0x7fb4a1ab2450&gt;),\n",
              "                                (&#x27;pipeline-2&#x27;,\n",
              "                                 Pipeline(steps=[(&#x27;simpleimputer&#x27;,\n",
              "                                                  SimpleImputer(strategy=&#x27;most_frequent&#x27;)),\n",
              "                                                 (&#x27;onehotencoder&#x27;,\n",
              "                                                  OneHotEncoder(handle_unknown=&#x27;ignore&#x27;,\n",
              "                                                                sparse=False))]),\n",
              "                                 &lt;sklearn.compose._column_transformer.make_column_selector object at 0x7fb4a1ab27d0&gt;)])</pre></div></div></div><div class=\"sk-parallel\"><div class=\"sk-parallel-item\"><div class=\"sk-item\"><div class=\"sk-label-container\"><div class=\"sk-label sk-toggleable\"><input class=\"sk-toggleable__control sk-hidden--visually\" id=\"217ffd5d-fe50-4157-b57b-f5926862b962\" type=\"checkbox\" ><label for=\"217ffd5d-fe50-4157-b57b-f5926862b962\" class=\"sk-toggleable__label sk-toggleable__label-arrow\">pipeline-1</label><div class=\"sk-toggleable__content\"><pre>&lt;sklearn.compose._column_transformer.make_column_selector object at 0x7fb4a1ab2450&gt;</pre></div></div></div><div class=\"sk-serial\"><div class=\"sk-item\"><div class=\"sk-serial\"><div class=\"sk-item\"><div class=\"sk-estimator sk-toggleable\"><input class=\"sk-toggleable__control sk-hidden--visually\" id=\"41e9edef-00c8-4929-b6d8-5efae10e8948\" type=\"checkbox\" ><label for=\"41e9edef-00c8-4929-b6d8-5efae10e8948\" class=\"sk-toggleable__label sk-toggleable__label-arrow\">SimpleImputer</label><div class=\"sk-toggleable__content\"><pre>SimpleImputer()</pre></div></div></div><div class=\"sk-item\"><div class=\"sk-estimator sk-toggleable\"><input class=\"sk-toggleable__control sk-hidden--visually\" id=\"6f8c262e-8c7d-46a1-aa08-a7554260db09\" type=\"checkbox\" ><label for=\"6f8c262e-8c7d-46a1-aa08-a7554260db09\" class=\"sk-toggleable__label sk-toggleable__label-arrow\">StandardScaler</label><div class=\"sk-toggleable__content\"><pre>StandardScaler()</pre></div></div></div></div></div></div></div></div><div class=\"sk-parallel-item\"><div class=\"sk-item\"><div class=\"sk-label-container\"><div class=\"sk-label sk-toggleable\"><input class=\"sk-toggleable__control sk-hidden--visually\" id=\"c85bf292-fb7b-4fd0-919d-482b99dbdacd\" type=\"checkbox\" ><label for=\"c85bf292-fb7b-4fd0-919d-482b99dbdacd\" class=\"sk-toggleable__label sk-toggleable__label-arrow\">pipeline-2</label><div class=\"sk-toggleable__content\"><pre>&lt;sklearn.compose._column_transformer.make_column_selector object at 0x7fb4a1ab27d0&gt;</pre></div></div></div><div class=\"sk-serial\"><div class=\"sk-item\"><div class=\"sk-serial\"><div class=\"sk-item\"><div class=\"sk-estimator sk-toggleable\"><input class=\"sk-toggleable__control sk-hidden--visually\" id=\"d94e176d-d78d-49dd-933b-04293e0829d1\" type=\"checkbox\" ><label for=\"d94e176d-d78d-49dd-933b-04293e0829d1\" class=\"sk-toggleable__label sk-toggleable__label-arrow\">SimpleImputer</label><div class=\"sk-toggleable__content\"><pre>SimpleImputer(strategy=&#x27;most_frequent&#x27;)</pre></div></div></div><div class=\"sk-item\"><div class=\"sk-estimator sk-toggleable\"><input class=\"sk-toggleable__control sk-hidden--visually\" id=\"532b9384-d9d2-4a64-b22f-4c5e1f169ae0\" type=\"checkbox\" ><label for=\"532b9384-d9d2-4a64-b22f-4c5e1f169ae0\" class=\"sk-toggleable__label sk-toggleable__label-arrow\">OneHotEncoder</label><div class=\"sk-toggleable__content\"><pre>OneHotEncoder(handle_unknown=&#x27;ignore&#x27;, sparse=False)</pre></div></div></div></div></div></div></div></div><div class=\"sk-parallel-item\"><div class=\"sk-item\"><div class=\"sk-label-container\"><div class=\"sk-label sk-toggleable\"><input class=\"sk-toggleable__control sk-hidden--visually\" id=\"9126de83-99a8-41ec-8f59-efced644a0cf\" type=\"checkbox\" ><label for=\"9126de83-99a8-41ec-8f59-efced644a0cf\" class=\"sk-toggleable__label sk-toggleable__label-arrow\">remainder</label><div class=\"sk-toggleable__content\"><pre>[]</pre></div></div></div><div class=\"sk-serial\"><div class=\"sk-item\"><div class=\"sk-estimator sk-toggleable\"><input class=\"sk-toggleable__control sk-hidden--visually\" id=\"75f249ef-f7ac-4b31-89fc-bd48e937a613\" type=\"checkbox\" ><label for=\"75f249ef-f7ac-4b31-89fc-bd48e937a613\" class=\"sk-toggleable__label sk-toggleable__label-arrow\">passthrough</label><div class=\"sk-toggleable__content\"><pre>passthrough</pre></div></div></div></div></div></div></div></div><div class=\"sk-item\"><div class=\"sk-estimator sk-toggleable\"><input class=\"sk-toggleable__control sk-hidden--visually\" id=\"cd8731e5-fd31-4b59-a49e-1b76de9b1082\" type=\"checkbox\" ><label for=\"cd8731e5-fd31-4b59-a49e-1b76de9b1082\" class=\"sk-toggleable__label sk-toggleable__label-arrow\">DummyRegressor</label><div class=\"sk-toggleable__content\"><pre>DummyRegressor()</pre></div></div></div></div></div></div></div>"
            ],
            "text/plain": [
              "Pipeline(steps=[('columntransformer',\n",
              "                 ColumnTransformer(remainder='passthrough',\n",
              "                                   transformers=[('pipeline-1',\n",
              "                                                  Pipeline(steps=[('simpleimputer',\n",
              "                                                                   SimpleImputer()),\n",
              "                                                                  ('standardscaler',\n",
              "                                                                   StandardScaler())]),\n",
              "                                                  <sklearn.compose._column_transformer.make_column_selector object at 0x7fb4a1ab2450>),\n",
              "                                                 ('pipeline-2',\n",
              "                                                  Pipeline(steps=[('simpleimputer',\n",
              "                                                                   SimpleImputer(strategy='most_frequent')),\n",
              "                                                                  ('onehotencoder',\n",
              "                                                                   OneHotEncoder(handle_unknown='ignore',\n",
              "                                                                                 sparse=False))]),\n",
              "                                                  <sklearn.compose._column_transformer.make_column_selector object at 0x7fb4a1ab27d0>)])),\n",
              "                ('dummyregressor', DummyRegressor())])"
            ]
          },
          "metadata": {},
          "execution_count": 29
        }
      ]
    },
    {
      "cell_type": "code",
      "source": [
        "from sklearn.metrics import r2_score\n",
        "from sklearn.metrics import mean_absolute_error\n",
        "from sklearn.metrics import mean_squared_error\n",
        "import numpy as np\n",
        "def errors(true, pred):\n",
        "  mae = mean_absolute_error(true, pred)\n",
        "  mse = mean_squared_error(true, pred)\n",
        "  rmse = np.sqrt(mse)\n",
        "  r2 = r2_score(true, pred)\n",
        "  print(f'MAE: {mae:,.2f} \\nMSE: {mse:,.2f} \\nRMSE: {rmse:,.2f} \\nR2: {r2:,.2f} ')"
      ],
      "metadata": {
        "id": "R035HFB8lbSL"
      },
      "execution_count": 31,
      "outputs": []
    },
    {
      "cell_type": "code",
      "source": [
        "errors(y_train, dummy_pipe.predict(X_train))"
      ],
      "metadata": {
        "id": "5fhXccM1YEd-",
        "colab": {
          "base_uri": "https://localhost:8080/"
        },
        "outputId": "0986651f-d502-456f-be49-e3eff6c46193"
      },
      "execution_count": 32,
      "outputs": [
        {
          "output_type": "stream",
          "name": "stdout",
          "text": [
            "MAE: 1,360.22 \n",
            "MSE: 2,959,455.70 \n",
            "RMSE: 1,720.31 \n",
            "R2: 0.00 \n"
          ]
        }
      ]
    },
    {
      "cell_type": "code",
      "source": [
        "from sklearn.linear_model import LinearRegression\n",
        "reg_pipe = make_pipeline(preprocessor, LinearRegression())"
      ],
      "metadata": {
        "id": "8-95AA6kganb"
      },
      "execution_count": 34,
      "outputs": []
    },
    {
      "cell_type": "code",
      "source": [
        "reg_pipe.fit(X_train, y_train)\n",
        "# taking the score\n",
        "train_score = reg_pipe.score(X_train, y_train)\n",
        "test_score = reg_pipe.score(X_test, y_test)\n",
        "print(train_score)\n",
        "print(test_score)"
      ],
      "metadata": {
        "id": "pW-bnMuQ3S6I",
        "colab": {
          "base_uri": "https://localhost:8080/"
        },
        "outputId": "57a1a85a-5980-4e9d-9767-bb27d82d817c"
      },
      "execution_count": 39,
      "outputs": [
        {
          "output_type": "stream",
          "name": "stdout",
          "text": [
            "0.6718280759602526\n",
            "-5.425436335636154e+17\n"
          ]
        }
      ]
    },
    {
      "cell_type": "code",
      "source": [
        "reg_preds = reg_pipe.predict(X_train)\n",
        "reg_predstest = reg_pipe.predict(X_test)"
      ],
      "metadata": {
        "id": "8beJe4L408Ym"
      },
      "execution_count": 40,
      "outputs": []
    },
    {
      "cell_type": "code",
      "source": [
        "from sklearn.tree import DecisionTreeRegressor\n",
        "dec_tree = DecisionTreeRegressor(random_state = 42)"
      ],
      "metadata": {
        "id": "xfeYAaKz9cm4"
      },
      "execution_count": 44,
      "outputs": []
    },
    {
      "cell_type": "code",
      "source": [
        "pipe_tree= make_pipeline(preprocessor, dec_tree)\n",
        "pipe_tree.fit(X_train,y_train)"
      ],
      "metadata": {
        "id": "El6oGuexG0La",
        "colab": {
          "base_uri": "https://localhost:8080/",
          "height": 223
        },
        "outputId": "514af2b2-8803-41a6-9ef2-45b8b52c1c84"
      },
      "execution_count": 45,
      "outputs": [
        {
          "output_type": "execute_result",
          "data": {
            "text/html": [
              "<style>#sk-ca93e9d7-8acd-4009-b068-1671fb22fac7 {color: black;background-color: white;}#sk-ca93e9d7-8acd-4009-b068-1671fb22fac7 pre{padding: 0;}#sk-ca93e9d7-8acd-4009-b068-1671fb22fac7 div.sk-toggleable {background-color: white;}#sk-ca93e9d7-8acd-4009-b068-1671fb22fac7 label.sk-toggleable__label {cursor: pointer;display: block;width: 100%;margin-bottom: 0;padding: 0.3em;box-sizing: border-box;text-align: center;}#sk-ca93e9d7-8acd-4009-b068-1671fb22fac7 label.sk-toggleable__label-arrow:before {content: \"▸\";float: left;margin-right: 0.25em;color: #696969;}#sk-ca93e9d7-8acd-4009-b068-1671fb22fac7 label.sk-toggleable__label-arrow:hover:before {color: black;}#sk-ca93e9d7-8acd-4009-b068-1671fb22fac7 div.sk-estimator:hover label.sk-toggleable__label-arrow:before {color: black;}#sk-ca93e9d7-8acd-4009-b068-1671fb22fac7 div.sk-toggleable__content {max-height: 0;max-width: 0;overflow: hidden;text-align: left;background-color: #f0f8ff;}#sk-ca93e9d7-8acd-4009-b068-1671fb22fac7 div.sk-toggleable__content pre {margin: 0.2em;color: black;border-radius: 0.25em;background-color: #f0f8ff;}#sk-ca93e9d7-8acd-4009-b068-1671fb22fac7 input.sk-toggleable__control:checked~div.sk-toggleable__content {max-height: 200px;max-width: 100%;overflow: auto;}#sk-ca93e9d7-8acd-4009-b068-1671fb22fac7 input.sk-toggleable__control:checked~label.sk-toggleable__label-arrow:before {content: \"▾\";}#sk-ca93e9d7-8acd-4009-b068-1671fb22fac7 div.sk-estimator input.sk-toggleable__control:checked~label.sk-toggleable__label {background-color: #d4ebff;}#sk-ca93e9d7-8acd-4009-b068-1671fb22fac7 div.sk-label input.sk-toggleable__control:checked~label.sk-toggleable__label {background-color: #d4ebff;}#sk-ca93e9d7-8acd-4009-b068-1671fb22fac7 input.sk-hidden--visually {border: 0;clip: rect(1px 1px 1px 1px);clip: rect(1px, 1px, 1px, 1px);height: 1px;margin: -1px;overflow: hidden;padding: 0;position: absolute;width: 1px;}#sk-ca93e9d7-8acd-4009-b068-1671fb22fac7 div.sk-estimator {font-family: monospace;background-color: #f0f8ff;border: 1px dotted black;border-radius: 0.25em;box-sizing: border-box;margin-bottom: 0.5em;}#sk-ca93e9d7-8acd-4009-b068-1671fb22fac7 div.sk-estimator:hover {background-color: #d4ebff;}#sk-ca93e9d7-8acd-4009-b068-1671fb22fac7 div.sk-parallel-item::after {content: \"\";width: 100%;border-bottom: 1px solid gray;flex-grow: 1;}#sk-ca93e9d7-8acd-4009-b068-1671fb22fac7 div.sk-label:hover label.sk-toggleable__label {background-color: #d4ebff;}#sk-ca93e9d7-8acd-4009-b068-1671fb22fac7 div.sk-serial::before {content: \"\";position: absolute;border-left: 1px solid gray;box-sizing: border-box;top: 2em;bottom: 0;left: 50%;}#sk-ca93e9d7-8acd-4009-b068-1671fb22fac7 div.sk-serial {display: flex;flex-direction: column;align-items: center;background-color: white;padding-right: 0.2em;padding-left: 0.2em;}#sk-ca93e9d7-8acd-4009-b068-1671fb22fac7 div.sk-item {z-index: 1;}#sk-ca93e9d7-8acd-4009-b068-1671fb22fac7 div.sk-parallel {display: flex;align-items: stretch;justify-content: center;background-color: white;}#sk-ca93e9d7-8acd-4009-b068-1671fb22fac7 div.sk-parallel::before {content: \"\";position: absolute;border-left: 1px solid gray;box-sizing: border-box;top: 2em;bottom: 0;left: 50%;}#sk-ca93e9d7-8acd-4009-b068-1671fb22fac7 div.sk-parallel-item {display: flex;flex-direction: column;position: relative;background-color: white;}#sk-ca93e9d7-8acd-4009-b068-1671fb22fac7 div.sk-parallel-item:first-child::after {align-self: flex-end;width: 50%;}#sk-ca93e9d7-8acd-4009-b068-1671fb22fac7 div.sk-parallel-item:last-child::after {align-self: flex-start;width: 50%;}#sk-ca93e9d7-8acd-4009-b068-1671fb22fac7 div.sk-parallel-item:only-child::after {width: 0;}#sk-ca93e9d7-8acd-4009-b068-1671fb22fac7 div.sk-dashed-wrapped {border: 1px dashed gray;margin: 0 0.4em 0.5em 0.4em;box-sizing: border-box;padding-bottom: 0.4em;background-color: white;position: relative;}#sk-ca93e9d7-8acd-4009-b068-1671fb22fac7 div.sk-label label {font-family: monospace;font-weight: bold;background-color: white;display: inline-block;line-height: 1.2em;}#sk-ca93e9d7-8acd-4009-b068-1671fb22fac7 div.sk-label-container {position: relative;z-index: 2;text-align: center;}#sk-ca93e9d7-8acd-4009-b068-1671fb22fac7 div.sk-container {/* jupyter's `normalize.less` sets `[hidden] { display: none; }` but bootstrap.min.css set `[hidden] { display: none !important; }` so we also need the `!important` here to be able to override the default hidden behavior on the sphinx rendered scikit-learn.org. See: https://github.com/scikit-learn/scikit-learn/issues/21755 */display: inline-block !important;position: relative;}#sk-ca93e9d7-8acd-4009-b068-1671fb22fac7 div.sk-text-repr-fallback {display: none;}</style><div id=\"sk-ca93e9d7-8acd-4009-b068-1671fb22fac7\" class=\"sk-top-container\"><div class=\"sk-text-repr-fallback\"><pre>Pipeline(steps=[(&#x27;columntransformer&#x27;,\n",
              "                 ColumnTransformer(remainder=&#x27;passthrough&#x27;,\n",
              "                                   transformers=[(&#x27;pipeline-1&#x27;,\n",
              "                                                  Pipeline(steps=[(&#x27;simpleimputer&#x27;,\n",
              "                                                                   SimpleImputer()),\n",
              "                                                                  (&#x27;standardscaler&#x27;,\n",
              "                                                                   StandardScaler())]),\n",
              "                                                  &lt;sklearn.compose._column_transformer.make_column_selector object at 0x7fb4a1ab2450&gt;),\n",
              "                                                 (&#x27;pipeline-2&#x27;,\n",
              "                                                  Pipeline(steps=[(&#x27;simpleimputer&#x27;,\n",
              "                                                                   SimpleImputer(strategy=&#x27;most_frequent&#x27;)),\n",
              "                                                                  (&#x27;onehotencoder&#x27;,\n",
              "                                                                   OneHotEncoder(handle_unknown=&#x27;ignore&#x27;,\n",
              "                                                                                 sparse=False))]),\n",
              "                                                  &lt;sklearn.compose._column_transformer.make_column_selector object at 0x7fb4a1ab27d0&gt;)])),\n",
              "                (&#x27;decisiontreeregressor&#x27;,\n",
              "                 DecisionTreeRegressor(random_state=42))])</pre><b>Please rerun this cell to show the HTML repr or trust the notebook.</b></div><div class=\"sk-container\" hidden><div class=\"sk-item sk-dashed-wrapped\"><div class=\"sk-label-container\"><div class=\"sk-label sk-toggleable\"><input class=\"sk-toggleable__control sk-hidden--visually\" id=\"904d4f04-3379-4611-b5f3-4aaf18efbc17\" type=\"checkbox\" ><label for=\"904d4f04-3379-4611-b5f3-4aaf18efbc17\" class=\"sk-toggleable__label sk-toggleable__label-arrow\">Pipeline</label><div class=\"sk-toggleable__content\"><pre>Pipeline(steps=[(&#x27;columntransformer&#x27;,\n",
              "                 ColumnTransformer(remainder=&#x27;passthrough&#x27;,\n",
              "                                   transformers=[(&#x27;pipeline-1&#x27;,\n",
              "                                                  Pipeline(steps=[(&#x27;simpleimputer&#x27;,\n",
              "                                                                   SimpleImputer()),\n",
              "                                                                  (&#x27;standardscaler&#x27;,\n",
              "                                                                   StandardScaler())]),\n",
              "                                                  &lt;sklearn.compose._column_transformer.make_column_selector object at 0x7fb4a1ab2450&gt;),\n",
              "                                                 (&#x27;pipeline-2&#x27;,\n",
              "                                                  Pipeline(steps=[(&#x27;simpleimputer&#x27;,\n",
              "                                                                   SimpleImputer(strategy=&#x27;most_frequent&#x27;)),\n",
              "                                                                  (&#x27;onehotencoder&#x27;,\n",
              "                                                                   OneHotEncoder(handle_unknown=&#x27;ignore&#x27;,\n",
              "                                                                                 sparse=False))]),\n",
              "                                                  &lt;sklearn.compose._column_transformer.make_column_selector object at 0x7fb4a1ab27d0&gt;)])),\n",
              "                (&#x27;decisiontreeregressor&#x27;,\n",
              "                 DecisionTreeRegressor(random_state=42))])</pre></div></div></div><div class=\"sk-serial\"><div class=\"sk-item sk-dashed-wrapped\"><div class=\"sk-label-container\"><div class=\"sk-label sk-toggleable\"><input class=\"sk-toggleable__control sk-hidden--visually\" id=\"fc9a985b-0494-4eba-a6b0-6822ea6f640e\" type=\"checkbox\" ><label for=\"fc9a985b-0494-4eba-a6b0-6822ea6f640e\" class=\"sk-toggleable__label sk-toggleable__label-arrow\">columntransformer: ColumnTransformer</label><div class=\"sk-toggleable__content\"><pre>ColumnTransformer(remainder=&#x27;passthrough&#x27;,\n",
              "                  transformers=[(&#x27;pipeline-1&#x27;,\n",
              "                                 Pipeline(steps=[(&#x27;simpleimputer&#x27;,\n",
              "                                                  SimpleImputer()),\n",
              "                                                 (&#x27;standardscaler&#x27;,\n",
              "                                                  StandardScaler())]),\n",
              "                                 &lt;sklearn.compose._column_transformer.make_column_selector object at 0x7fb4a1ab2450&gt;),\n",
              "                                (&#x27;pipeline-2&#x27;,\n",
              "                                 Pipeline(steps=[(&#x27;simpleimputer&#x27;,\n",
              "                                                  SimpleImputer(strategy=&#x27;most_frequent&#x27;)),\n",
              "                                                 (&#x27;onehotencoder&#x27;,\n",
              "                                                  OneHotEncoder(handle_unknown=&#x27;ignore&#x27;,\n",
              "                                                                sparse=False))]),\n",
              "                                 &lt;sklearn.compose._column_transformer.make_column_selector object at 0x7fb4a1ab27d0&gt;)])</pre></div></div></div><div class=\"sk-parallel\"><div class=\"sk-parallel-item\"><div class=\"sk-item\"><div class=\"sk-label-container\"><div class=\"sk-label sk-toggleable\"><input class=\"sk-toggleable__control sk-hidden--visually\" id=\"71788d75-2d61-4b7f-9ea1-44c0c238c440\" type=\"checkbox\" ><label for=\"71788d75-2d61-4b7f-9ea1-44c0c238c440\" class=\"sk-toggleable__label sk-toggleable__label-arrow\">pipeline-1</label><div class=\"sk-toggleable__content\"><pre>&lt;sklearn.compose._column_transformer.make_column_selector object at 0x7fb4a1ab2450&gt;</pre></div></div></div><div class=\"sk-serial\"><div class=\"sk-item\"><div class=\"sk-serial\"><div class=\"sk-item\"><div class=\"sk-estimator sk-toggleable\"><input class=\"sk-toggleable__control sk-hidden--visually\" id=\"a26366d2-af6c-4819-84a3-025fc6d9c281\" type=\"checkbox\" ><label for=\"a26366d2-af6c-4819-84a3-025fc6d9c281\" class=\"sk-toggleable__label sk-toggleable__label-arrow\">SimpleImputer</label><div class=\"sk-toggleable__content\"><pre>SimpleImputer()</pre></div></div></div><div class=\"sk-item\"><div class=\"sk-estimator sk-toggleable\"><input class=\"sk-toggleable__control sk-hidden--visually\" id=\"4ab2ff52-ef8d-47c4-a87c-81cde7c484cd\" type=\"checkbox\" ><label for=\"4ab2ff52-ef8d-47c4-a87c-81cde7c484cd\" class=\"sk-toggleable__label sk-toggleable__label-arrow\">StandardScaler</label><div class=\"sk-toggleable__content\"><pre>StandardScaler()</pre></div></div></div></div></div></div></div></div><div class=\"sk-parallel-item\"><div class=\"sk-item\"><div class=\"sk-label-container\"><div class=\"sk-label sk-toggleable\"><input class=\"sk-toggleable__control sk-hidden--visually\" id=\"db13df1f-5eca-49be-b068-5acab3dbc768\" type=\"checkbox\" ><label for=\"db13df1f-5eca-49be-b068-5acab3dbc768\" class=\"sk-toggleable__label sk-toggleable__label-arrow\">pipeline-2</label><div class=\"sk-toggleable__content\"><pre>&lt;sklearn.compose._column_transformer.make_column_selector object at 0x7fb4a1ab27d0&gt;</pre></div></div></div><div class=\"sk-serial\"><div class=\"sk-item\"><div class=\"sk-serial\"><div class=\"sk-item\"><div class=\"sk-estimator sk-toggleable\"><input class=\"sk-toggleable__control sk-hidden--visually\" id=\"cfde14c7-128f-4f4e-94ca-bac996ec89cb\" type=\"checkbox\" ><label for=\"cfde14c7-128f-4f4e-94ca-bac996ec89cb\" class=\"sk-toggleable__label sk-toggleable__label-arrow\">SimpleImputer</label><div class=\"sk-toggleable__content\"><pre>SimpleImputer(strategy=&#x27;most_frequent&#x27;)</pre></div></div></div><div class=\"sk-item\"><div class=\"sk-estimator sk-toggleable\"><input class=\"sk-toggleable__control sk-hidden--visually\" id=\"0f473697-da90-4f7c-b0b5-a79e56ddf0e5\" type=\"checkbox\" ><label for=\"0f473697-da90-4f7c-b0b5-a79e56ddf0e5\" class=\"sk-toggleable__label sk-toggleable__label-arrow\">OneHotEncoder</label><div class=\"sk-toggleable__content\"><pre>OneHotEncoder(handle_unknown=&#x27;ignore&#x27;, sparse=False)</pre></div></div></div></div></div></div></div></div><div class=\"sk-parallel-item\"><div class=\"sk-item\"><div class=\"sk-label-container\"><div class=\"sk-label sk-toggleable\"><input class=\"sk-toggleable__control sk-hidden--visually\" id=\"440b342f-d4bf-49eb-af27-a948fab181c0\" type=\"checkbox\" ><label for=\"440b342f-d4bf-49eb-af27-a948fab181c0\" class=\"sk-toggleable__label sk-toggleable__label-arrow\">remainder</label><div class=\"sk-toggleable__content\"><pre>[]</pre></div></div></div><div class=\"sk-serial\"><div class=\"sk-item\"><div class=\"sk-estimator sk-toggleable\"><input class=\"sk-toggleable__control sk-hidden--visually\" id=\"a71ad9ae-87e5-4a7c-a819-3ed87db8945a\" type=\"checkbox\" ><label for=\"a71ad9ae-87e5-4a7c-a819-3ed87db8945a\" class=\"sk-toggleable__label sk-toggleable__label-arrow\">passthrough</label><div class=\"sk-toggleable__content\"><pre>passthrough</pre></div></div></div></div></div></div></div></div><div class=\"sk-item\"><div class=\"sk-estimator sk-toggleable\"><input class=\"sk-toggleable__control sk-hidden--visually\" id=\"5433a101-0fd8-4bc1-a337-d9b722c9bfd7\" type=\"checkbox\" ><label for=\"5433a101-0fd8-4bc1-a337-d9b722c9bfd7\" class=\"sk-toggleable__label sk-toggleable__label-arrow\">DecisionTreeRegressor</label><div class=\"sk-toggleable__content\"><pre>DecisionTreeRegressor(random_state=42)</pre></div></div></div></div></div></div></div>"
            ],
            "text/plain": [
              "Pipeline(steps=[('columntransformer',\n",
              "                 ColumnTransformer(remainder='passthrough',\n",
              "                                   transformers=[('pipeline-1',\n",
              "                                                  Pipeline(steps=[('simpleimputer',\n",
              "                                                                   SimpleImputer()),\n",
              "                                                                  ('standardscaler',\n",
              "                                                                   StandardScaler())]),\n",
              "                                                  <sklearn.compose._column_transformer.make_column_selector object at 0x7fb4a1ab2450>),\n",
              "                                                 ('pipeline-2',\n",
              "                                                  Pipeline(steps=[('simpleimputer',\n",
              "                                                                   SimpleImputer(strategy='most_frequent')),\n",
              "                                                                  ('onehotencoder',\n",
              "                                                                   OneHotEncoder(handle_unknown='ignore',\n",
              "                                                                                 sparse=False))]),\n",
              "                                                  <sklearn.compose._column_transformer.make_column_selector object at 0x7fb4a1ab27d0>)])),\n",
              "                ('decisiontreeregressor',\n",
              "                 DecisionTreeRegressor(random_state=42))])"
            ]
          },
          "metadata": {},
          "execution_count": 45
        }
      ]
    },
    {
      "cell_type": "code",
      "source": [
        "# lst's test our thee\n",
        "train_score_tree = pipe_tree.score(X_train, y_train)\n",
        "test_score_tree = pipe_tree.score(X_test, y_test)\n",
        "print(train_score_tree)\n",
        "print(test_score_tree)"
      ],
      "metadata": {
        "id": "EzG8arYnITeK",
        "colab": {
          "base_uri": "https://localhost:8080/"
        },
        "outputId": "8a9ae72d-9d61-4450-df23-4ddd34f8f15c"
      },
      "execution_count": 47,
      "outputs": [
        {
          "output_type": "stream",
          "name": "stdout",
          "text": [
            "1.0\n",
            "0.22560314645107293\n"
          ]
        }
      ]
    },
    {
      "cell_type": "code",
      "source": [
        "highest_r2 = 0\n",
        "for depth in range(1, 100):\n",
        "  dec_tree = DecisionTreeRegressor(max_depth = depth, random_state = 42)\n",
        "  pipe_tree = make_pipeline(preprocessor, dec_tree)\n",
        "  pipe_tree.fit(X_train, y_train)\n",
        "  train_score = pipe_tree.score(X_train, y_train)\n",
        "  if(highest_r2 < train_score):\n",
        "    highest_r2 = train_score\n",
        "    final_depth = depth\n",
        "    final_dec_tree = pipe_tree\n",
        "print(final_depth)\n"
      ],
      "metadata": {
        "colab": {
          "base_uri": "https://localhost:8080/"
        },
        "id": "vl1QWl-_L8aR",
        "outputId": "7c097954-dd93-4560-c16e-ad388714f123"
      },
      "execution_count": 49,
      "outputs": [
        {
          "output_type": "stream",
          "name": "stdout",
          "text": [
            "81\n"
          ]
        }
      ]
    },
    {
      "cell_type": "code",
      "source": [
        "from sklearn.ensemble import RandomForestRegressor\n",
        "rf = RandomForestRegressor(random_state = 42)\n",
        "# let's make a pitpline\n",
        "rf_pipe = make_pipeline(preprocessor,rf)\n",
        "rf_pipe.fit(X_train, y_train)"
      ],
      "metadata": {
        "id": "84u77lZ44kVn",
        "outputId": "35e7cee0-ad1a-4518-9604-954d411bdd8d",
        "colab": {
          "base_uri": "https://localhost:8080/",
          "height": 223
        }
      },
      "execution_count": 51,
      "outputs": [
        {
          "output_type": "execute_result",
          "data": {
            "text/html": [
              "<style>#sk-a2197fa8-6035-4df6-8cbe-eeb0f68c28a9 {color: black;background-color: white;}#sk-a2197fa8-6035-4df6-8cbe-eeb0f68c28a9 pre{padding: 0;}#sk-a2197fa8-6035-4df6-8cbe-eeb0f68c28a9 div.sk-toggleable {background-color: white;}#sk-a2197fa8-6035-4df6-8cbe-eeb0f68c28a9 label.sk-toggleable__label {cursor: pointer;display: block;width: 100%;margin-bottom: 0;padding: 0.3em;box-sizing: border-box;text-align: center;}#sk-a2197fa8-6035-4df6-8cbe-eeb0f68c28a9 label.sk-toggleable__label-arrow:before {content: \"▸\";float: left;margin-right: 0.25em;color: #696969;}#sk-a2197fa8-6035-4df6-8cbe-eeb0f68c28a9 label.sk-toggleable__label-arrow:hover:before {color: black;}#sk-a2197fa8-6035-4df6-8cbe-eeb0f68c28a9 div.sk-estimator:hover label.sk-toggleable__label-arrow:before {color: black;}#sk-a2197fa8-6035-4df6-8cbe-eeb0f68c28a9 div.sk-toggleable__content {max-height: 0;max-width: 0;overflow: hidden;text-align: left;background-color: #f0f8ff;}#sk-a2197fa8-6035-4df6-8cbe-eeb0f68c28a9 div.sk-toggleable__content pre {margin: 0.2em;color: black;border-radius: 0.25em;background-color: #f0f8ff;}#sk-a2197fa8-6035-4df6-8cbe-eeb0f68c28a9 input.sk-toggleable__control:checked~div.sk-toggleable__content {max-height: 200px;max-width: 100%;overflow: auto;}#sk-a2197fa8-6035-4df6-8cbe-eeb0f68c28a9 input.sk-toggleable__control:checked~label.sk-toggleable__label-arrow:before {content: \"▾\";}#sk-a2197fa8-6035-4df6-8cbe-eeb0f68c28a9 div.sk-estimator input.sk-toggleable__control:checked~label.sk-toggleable__label {background-color: #d4ebff;}#sk-a2197fa8-6035-4df6-8cbe-eeb0f68c28a9 div.sk-label input.sk-toggleable__control:checked~label.sk-toggleable__label {background-color: #d4ebff;}#sk-a2197fa8-6035-4df6-8cbe-eeb0f68c28a9 input.sk-hidden--visually {border: 0;clip: rect(1px 1px 1px 1px);clip: rect(1px, 1px, 1px, 1px);height: 1px;margin: -1px;overflow: hidden;padding: 0;position: absolute;width: 1px;}#sk-a2197fa8-6035-4df6-8cbe-eeb0f68c28a9 div.sk-estimator {font-family: monospace;background-color: #f0f8ff;border: 1px dotted black;border-radius: 0.25em;box-sizing: border-box;margin-bottom: 0.5em;}#sk-a2197fa8-6035-4df6-8cbe-eeb0f68c28a9 div.sk-estimator:hover {background-color: #d4ebff;}#sk-a2197fa8-6035-4df6-8cbe-eeb0f68c28a9 div.sk-parallel-item::after {content: \"\";width: 100%;border-bottom: 1px solid gray;flex-grow: 1;}#sk-a2197fa8-6035-4df6-8cbe-eeb0f68c28a9 div.sk-label:hover label.sk-toggleable__label {background-color: #d4ebff;}#sk-a2197fa8-6035-4df6-8cbe-eeb0f68c28a9 div.sk-serial::before {content: \"\";position: absolute;border-left: 1px solid gray;box-sizing: border-box;top: 2em;bottom: 0;left: 50%;}#sk-a2197fa8-6035-4df6-8cbe-eeb0f68c28a9 div.sk-serial {display: flex;flex-direction: column;align-items: center;background-color: white;padding-right: 0.2em;padding-left: 0.2em;}#sk-a2197fa8-6035-4df6-8cbe-eeb0f68c28a9 div.sk-item {z-index: 1;}#sk-a2197fa8-6035-4df6-8cbe-eeb0f68c28a9 div.sk-parallel {display: flex;align-items: stretch;justify-content: center;background-color: white;}#sk-a2197fa8-6035-4df6-8cbe-eeb0f68c28a9 div.sk-parallel::before {content: \"\";position: absolute;border-left: 1px solid gray;box-sizing: border-box;top: 2em;bottom: 0;left: 50%;}#sk-a2197fa8-6035-4df6-8cbe-eeb0f68c28a9 div.sk-parallel-item {display: flex;flex-direction: column;position: relative;background-color: white;}#sk-a2197fa8-6035-4df6-8cbe-eeb0f68c28a9 div.sk-parallel-item:first-child::after {align-self: flex-end;width: 50%;}#sk-a2197fa8-6035-4df6-8cbe-eeb0f68c28a9 div.sk-parallel-item:last-child::after {align-self: flex-start;width: 50%;}#sk-a2197fa8-6035-4df6-8cbe-eeb0f68c28a9 div.sk-parallel-item:only-child::after {width: 0;}#sk-a2197fa8-6035-4df6-8cbe-eeb0f68c28a9 div.sk-dashed-wrapped {border: 1px dashed gray;margin: 0 0.4em 0.5em 0.4em;box-sizing: border-box;padding-bottom: 0.4em;background-color: white;position: relative;}#sk-a2197fa8-6035-4df6-8cbe-eeb0f68c28a9 div.sk-label label {font-family: monospace;font-weight: bold;background-color: white;display: inline-block;line-height: 1.2em;}#sk-a2197fa8-6035-4df6-8cbe-eeb0f68c28a9 div.sk-label-container {position: relative;z-index: 2;text-align: center;}#sk-a2197fa8-6035-4df6-8cbe-eeb0f68c28a9 div.sk-container {/* jupyter's `normalize.less` sets `[hidden] { display: none; }` but bootstrap.min.css set `[hidden] { display: none !important; }` so we also need the `!important` here to be able to override the default hidden behavior on the sphinx rendered scikit-learn.org. See: https://github.com/scikit-learn/scikit-learn/issues/21755 */display: inline-block !important;position: relative;}#sk-a2197fa8-6035-4df6-8cbe-eeb0f68c28a9 div.sk-text-repr-fallback {display: none;}</style><div id=\"sk-a2197fa8-6035-4df6-8cbe-eeb0f68c28a9\" class=\"sk-top-container\"><div class=\"sk-text-repr-fallback\"><pre>Pipeline(steps=[(&#x27;columntransformer&#x27;,\n",
              "                 ColumnTransformer(remainder=&#x27;passthrough&#x27;,\n",
              "                                   transformers=[(&#x27;pipeline-1&#x27;,\n",
              "                                                  Pipeline(steps=[(&#x27;simpleimputer&#x27;,\n",
              "                                                                   SimpleImputer()),\n",
              "                                                                  (&#x27;standardscaler&#x27;,\n",
              "                                                                   StandardScaler())]),\n",
              "                                                  &lt;sklearn.compose._column_transformer.make_column_selector object at 0x7fb4a1ab2450&gt;),\n",
              "                                                 (&#x27;pipeline-2&#x27;,\n",
              "                                                  Pipeline(steps=[(&#x27;simpleimputer&#x27;,\n",
              "                                                                   SimpleImputer(strategy=&#x27;most_frequent&#x27;)),\n",
              "                                                                  (&#x27;onehotencoder&#x27;,\n",
              "                                                                   OneHotEncoder(handle_unknown=&#x27;ignore&#x27;,\n",
              "                                                                                 sparse=False))]),\n",
              "                                                  &lt;sklearn.compose._column_transformer.make_column_selector object at 0x7fb4a1ab27d0&gt;)])),\n",
              "                (&#x27;randomforestregressor&#x27;,\n",
              "                 RandomForestRegressor(random_state=42))])</pre><b>Please rerun this cell to show the HTML repr or trust the notebook.</b></div><div class=\"sk-container\" hidden><div class=\"sk-item sk-dashed-wrapped\"><div class=\"sk-label-container\"><div class=\"sk-label sk-toggleable\"><input class=\"sk-toggleable__control sk-hidden--visually\" id=\"fba42ab5-d387-4d35-a710-64159bc6b225\" type=\"checkbox\" ><label for=\"fba42ab5-d387-4d35-a710-64159bc6b225\" class=\"sk-toggleable__label sk-toggleable__label-arrow\">Pipeline</label><div class=\"sk-toggleable__content\"><pre>Pipeline(steps=[(&#x27;columntransformer&#x27;,\n",
              "                 ColumnTransformer(remainder=&#x27;passthrough&#x27;,\n",
              "                                   transformers=[(&#x27;pipeline-1&#x27;,\n",
              "                                                  Pipeline(steps=[(&#x27;simpleimputer&#x27;,\n",
              "                                                                   SimpleImputer()),\n",
              "                                                                  (&#x27;standardscaler&#x27;,\n",
              "                                                                   StandardScaler())]),\n",
              "                                                  &lt;sklearn.compose._column_transformer.make_column_selector object at 0x7fb4a1ab2450&gt;),\n",
              "                                                 (&#x27;pipeline-2&#x27;,\n",
              "                                                  Pipeline(steps=[(&#x27;simpleimputer&#x27;,\n",
              "                                                                   SimpleImputer(strategy=&#x27;most_frequent&#x27;)),\n",
              "                                                                  (&#x27;onehotencoder&#x27;,\n",
              "                                                                   OneHotEncoder(handle_unknown=&#x27;ignore&#x27;,\n",
              "                                                                                 sparse=False))]),\n",
              "                                                  &lt;sklearn.compose._column_transformer.make_column_selector object at 0x7fb4a1ab27d0&gt;)])),\n",
              "                (&#x27;randomforestregressor&#x27;,\n",
              "                 RandomForestRegressor(random_state=42))])</pre></div></div></div><div class=\"sk-serial\"><div class=\"sk-item sk-dashed-wrapped\"><div class=\"sk-label-container\"><div class=\"sk-label sk-toggleable\"><input class=\"sk-toggleable__control sk-hidden--visually\" id=\"f06126d1-f8fb-450f-bad1-488ede431029\" type=\"checkbox\" ><label for=\"f06126d1-f8fb-450f-bad1-488ede431029\" class=\"sk-toggleable__label sk-toggleable__label-arrow\">columntransformer: ColumnTransformer</label><div class=\"sk-toggleable__content\"><pre>ColumnTransformer(remainder=&#x27;passthrough&#x27;,\n",
              "                  transformers=[(&#x27;pipeline-1&#x27;,\n",
              "                                 Pipeline(steps=[(&#x27;simpleimputer&#x27;,\n",
              "                                                  SimpleImputer()),\n",
              "                                                 (&#x27;standardscaler&#x27;,\n",
              "                                                  StandardScaler())]),\n",
              "                                 &lt;sklearn.compose._column_transformer.make_column_selector object at 0x7fb4a1ab2450&gt;),\n",
              "                                (&#x27;pipeline-2&#x27;,\n",
              "                                 Pipeline(steps=[(&#x27;simpleimputer&#x27;,\n",
              "                                                  SimpleImputer(strategy=&#x27;most_frequent&#x27;)),\n",
              "                                                 (&#x27;onehotencoder&#x27;,\n",
              "                                                  OneHotEncoder(handle_unknown=&#x27;ignore&#x27;,\n",
              "                                                                sparse=False))]),\n",
              "                                 &lt;sklearn.compose._column_transformer.make_column_selector object at 0x7fb4a1ab27d0&gt;)])</pre></div></div></div><div class=\"sk-parallel\"><div class=\"sk-parallel-item\"><div class=\"sk-item\"><div class=\"sk-label-container\"><div class=\"sk-label sk-toggleable\"><input class=\"sk-toggleable__control sk-hidden--visually\" id=\"168ec990-62f1-4b0d-862a-0712d2ea5ec8\" type=\"checkbox\" ><label for=\"168ec990-62f1-4b0d-862a-0712d2ea5ec8\" class=\"sk-toggleable__label sk-toggleable__label-arrow\">pipeline-1</label><div class=\"sk-toggleable__content\"><pre>&lt;sklearn.compose._column_transformer.make_column_selector object at 0x7fb4a1ab2450&gt;</pre></div></div></div><div class=\"sk-serial\"><div class=\"sk-item\"><div class=\"sk-serial\"><div class=\"sk-item\"><div class=\"sk-estimator sk-toggleable\"><input class=\"sk-toggleable__control sk-hidden--visually\" id=\"9914d2e3-e347-4bbc-802e-c008eac662e2\" type=\"checkbox\" ><label for=\"9914d2e3-e347-4bbc-802e-c008eac662e2\" class=\"sk-toggleable__label sk-toggleable__label-arrow\">SimpleImputer</label><div class=\"sk-toggleable__content\"><pre>SimpleImputer()</pre></div></div></div><div class=\"sk-item\"><div class=\"sk-estimator sk-toggleable\"><input class=\"sk-toggleable__control sk-hidden--visually\" id=\"02d8eca3-8881-4568-aa79-d65163ddccc7\" type=\"checkbox\" ><label for=\"02d8eca3-8881-4568-aa79-d65163ddccc7\" class=\"sk-toggleable__label sk-toggleable__label-arrow\">StandardScaler</label><div class=\"sk-toggleable__content\"><pre>StandardScaler()</pre></div></div></div></div></div></div></div></div><div class=\"sk-parallel-item\"><div class=\"sk-item\"><div class=\"sk-label-container\"><div class=\"sk-label sk-toggleable\"><input class=\"sk-toggleable__control sk-hidden--visually\" id=\"52739a44-9e2e-4411-993a-bc9e596356fb\" type=\"checkbox\" ><label for=\"52739a44-9e2e-4411-993a-bc9e596356fb\" class=\"sk-toggleable__label sk-toggleable__label-arrow\">pipeline-2</label><div class=\"sk-toggleable__content\"><pre>&lt;sklearn.compose._column_transformer.make_column_selector object at 0x7fb4a1ab27d0&gt;</pre></div></div></div><div class=\"sk-serial\"><div class=\"sk-item\"><div class=\"sk-serial\"><div class=\"sk-item\"><div class=\"sk-estimator sk-toggleable\"><input class=\"sk-toggleable__control sk-hidden--visually\" id=\"8b840fc2-d901-46bd-8c1d-f12f37fa8ccf\" type=\"checkbox\" ><label for=\"8b840fc2-d901-46bd-8c1d-f12f37fa8ccf\" class=\"sk-toggleable__label sk-toggleable__label-arrow\">SimpleImputer</label><div class=\"sk-toggleable__content\"><pre>SimpleImputer(strategy=&#x27;most_frequent&#x27;)</pre></div></div></div><div class=\"sk-item\"><div class=\"sk-estimator sk-toggleable\"><input class=\"sk-toggleable__control sk-hidden--visually\" id=\"7dfcb5e7-5344-48cd-9ac0-09bdcb1801b1\" type=\"checkbox\" ><label for=\"7dfcb5e7-5344-48cd-9ac0-09bdcb1801b1\" class=\"sk-toggleable__label sk-toggleable__label-arrow\">OneHotEncoder</label><div class=\"sk-toggleable__content\"><pre>OneHotEncoder(handle_unknown=&#x27;ignore&#x27;, sparse=False)</pre></div></div></div></div></div></div></div></div><div class=\"sk-parallel-item\"><div class=\"sk-item\"><div class=\"sk-label-container\"><div class=\"sk-label sk-toggleable\"><input class=\"sk-toggleable__control sk-hidden--visually\" id=\"718e4052-e4ad-4d0c-a98e-38577dd6d5a3\" type=\"checkbox\" ><label for=\"718e4052-e4ad-4d0c-a98e-38577dd6d5a3\" class=\"sk-toggleable__label sk-toggleable__label-arrow\">remainder</label><div class=\"sk-toggleable__content\"><pre>[]</pre></div></div></div><div class=\"sk-serial\"><div class=\"sk-item\"><div class=\"sk-estimator sk-toggleable\"><input class=\"sk-toggleable__control sk-hidden--visually\" id=\"1d17b1f3-65e3-4bff-b8da-1ca4e392066f\" type=\"checkbox\" ><label for=\"1d17b1f3-65e3-4bff-b8da-1ca4e392066f\" class=\"sk-toggleable__label sk-toggleable__label-arrow\">passthrough</label><div class=\"sk-toggleable__content\"><pre>passthrough</pre></div></div></div></div></div></div></div></div><div class=\"sk-item\"><div class=\"sk-estimator sk-toggleable\"><input class=\"sk-toggleable__control sk-hidden--visually\" id=\"ee768fb6-9ac5-4888-9963-d13265909782\" type=\"checkbox\" ><label for=\"ee768fb6-9ac5-4888-9963-d13265909782\" class=\"sk-toggleable__label sk-toggleable__label-arrow\">RandomForestRegressor</label><div class=\"sk-toggleable__content\"><pre>RandomForestRegressor(random_state=42)</pre></div></div></div></div></div></div></div>"
            ],
            "text/plain": [
              "Pipeline(steps=[('columntransformer',\n",
              "                 ColumnTransformer(remainder='passthrough',\n",
              "                                   transformers=[('pipeline-1',\n",
              "                                                  Pipeline(steps=[('simpleimputer',\n",
              "                                                                   SimpleImputer()),\n",
              "                                                                  ('standardscaler',\n",
              "                                                                   StandardScaler())]),\n",
              "                                                  <sklearn.compose._column_transformer.make_column_selector object at 0x7fb4a1ab2450>),\n",
              "                                                 ('pipeline-2',\n",
              "                                                  Pipeline(steps=[('simpleimputer',\n",
              "                                                                   SimpleImputer(strategy='most_frequent')),\n",
              "                                                                  ('onehotencoder',\n",
              "                                                                   OneHotEncoder(handle_unknown='ignore',\n",
              "                                                                                 sparse=False))]),\n",
              "                                                  <sklearn.compose._column_transformer.make_column_selector object at 0x7fb4a1ab27d0>)])),\n",
              "                ('randomforestregressor',\n",
              "                 RandomForestRegressor(random_state=42))])"
            ]
          },
          "metadata": {},
          "execution_count": 51
        }
      ]
    },
    {
      "cell_type": "code",
      "source": [
        "rf_train_score = rf_pipe.score(X_train, y_train)\n",
        "rf_test_score = rf_pipe.score(X_test, y_test)\n",
        "print(rf_train_score)\n",
        "print(rf_test_score)"
      ],
      "metadata": {
        "id": "QB5C6IsS5ol-",
        "colab": {
          "base_uri": "https://localhost:8080/"
        },
        "outputId": "0ecf1268-0335-4afb-e128-d9d626ef1b2c"
      },
      "execution_count": 54,
      "outputs": [
        {
          "output_type": "stream",
          "name": "stdout",
          "text": [
            "0.9380427510462691\n",
            "0.5505967742335891\n"
          ]
        }
      ]
    },
    {
      "cell_type": "code",
      "source": [
        "train_r2 = []\n",
        "test_r2 = []\n",
        "for depth in range(1, 100):\n",
        "  forest = RandomForestRegressor(max_depth = depth, random_state = 42)\n",
        "  pipe = make_pipeline(preprocessor, forest)\n",
        "  pipe.fit(X_train, y_train)\n",
        "  train_r2.append( pipe.score(X_train, y_train) ) \n",
        "  test_r2.append( pipe.score(X_test, y_test) ) \n",
        "print(train_r2)\n",
        "\n",
        "f'the optimal depth is { test_r2.index(min(test_r2)) } with a test score of { min(test_r2)}'"
      ],
      "metadata": {
        "id": "Dq1tMBW06BdM"
      },
      "execution_count": null,
      "outputs": []
    }
  ]
}